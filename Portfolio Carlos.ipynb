{
 "cells": [
  {
   "attachments": {},
   "cell_type": "markdown",
   "id": "388d7723",
   "metadata": {},
   "source": [
    "# Curso de Programação Python"
   ]
  },
  {
   "attachments": {},
   "cell_type": "markdown",
   "id": "0d900953",
   "metadata": {},
   "source": [
    "Um primeiro programa ..."
   ]
  },
  {
   "cell_type": "code",
   "execution_count": null,
   "id": "f0dde9e0",
   "metadata": {
    "scrolled": true
   },
   "outputs": [],
   "source": [
    "aluno = input(\"Como você se chama? \")\n",
    "print(\"Boa tarde, \" + aluno)\n",
    "print(\"Bem vindo à disciplina de Programação!!!\")\n"
   ]
  },
  {
   "attachments": {},
   "cell_type": "markdown",
   "id": "ecc0d5e1",
   "metadata": {},
   "source": [
    "Estruturas sequenciais: execução lógica do programa (algoritmo)"
   ]
  },
  {
   "cell_type": "raw",
   "id": "c7eb2445",
   "metadata": {},
   "source": [
    "Escreva um programa que recebe um número inteiro e calcula seu quadrado."
   ]
  },
  {
   "cell_type": "code",
   "execution_count": null,
   "id": "d2f9083d",
   "metadata": {},
   "outputs": [],
   "source": [
    "num = int(input(\"Digite um número inteiro: \")) # cast: transformação de tipo de dados\n",
    "quadrado = num ** 2\n",
    "print(\"O quadrado de\", num, \"é\", quadrado)"
   ]
  },
  {
   "cell_type": "raw",
   "id": "972fc63d",
   "metadata": {},
   "source": [
    "Escreva um programa que calcula a área de um círculo, dado o valor do raio (considere PI = 3.14)."
   ]
  },
  {
   "cell_type": "code",
   "execution_count": null,
   "id": "28b2f281",
   "metadata": {},
   "outputs": [],
   "source": [
    "PI = 3.14\n",
    "raio = float(input(\"Digite o valor do raio: \"))\n",
    "area = PI * raio**2\n",
    "print(\"A área do círculo é: \", area)\n"
   ]
  },
  {
   "cell_type": "raw",
   "id": "c778e3d1",
   "metadata": {},
   "source": [
    "Escreva um programa que receba 2 notas de um aluno e calcule a média."
   ]
  },
  {
   "cell_type": "code",
   "execution_count": null,
   "id": "8a9e38f3",
   "metadata": {},
   "outputs": [],
   "source": [
    "nota1 = float(input(\"Digite a primeira nota:\"))\n",
    "nota2 = float(input(\"Digite a segunda nota:\"))\n",
    "media = (nota1 + nota2)/2\n",
    "\n",
    "print(\"A média do aluno é: \", media)"
   ]
  },
  {
   "cell_type": "raw",
   "id": "4a32c9a9",
   "metadata": {},
   "source": [
    "Escreva um programa que recebe o ano de nascimento de uma pessoa e diz a sua idade."
   ]
  },
  {
   "cell_type": "code",
   "execution_count": null,
   "id": "a837ea61",
   "metadata": {},
   "outputs": [],
   "source": [
    "nasc = int(input(\"Em que ano você nasceu? \"))\n",
    "idade = 2021 - nasc\n",
    "print(\"Sua idade é \", idade, \"anos\")"
   ]
  },
  {
   "cell_type": "raw",
   "id": "21eeec64",
   "metadata": {},
   "source": [
    "Escreva um programa que calcula o consumo médio de um carro."
   ]
  },
  {
   "cell_type": "code",
   "execution_count": null,
   "id": "b4afbc2b",
   "metadata": {},
   "outputs": [],
   "source": [
    "distancia = float(input(\"Qual foi a distância percorrida em KM: \"))\n",
    "litros = float(input(\"Quantos litros foram consumidos? \"))\n",
    "\n",
    "consumo = distancia / litros\n",
    "\n",
    "print(\"O consumo médio do veículo é \", consumo, \" km/litro.\")\n"
   ]
  },
  {
   "attachments": {},
   "cell_type": "markdown",
   "id": "14e3d1c2",
   "metadata": {},
   "source": [
    "Estruturas de decisão ou condicionais"
   ]
  },
  {
   "cell_type": "raw",
   "id": "406a82df",
   "metadata": {},
   "source": [
    "Tomada de decisão pelo algoritmo ou programa em função de testes lógicos (verdade ou falsidade)."
   ]
  },
  {
   "attachments": {},
   "cell_type": "markdown",
   "id": "aed47bb8",
   "metadata": {},
   "source": [
    "Estrutura de decisão simples"
   ]
  },
  {
   "cell_type": "code",
   "execution_count": null,
   "id": "9877cb1e",
   "metadata": {},
   "outputs": [],
   "source": [
    "# Receber número inteiro do teclado e testar se é maior que 100\n",
    "\n",
    "a = int(input(\"Digite um número inteiro: \"))\n",
    "\n",
    "if(a) > 100:\n",
    "    print(\"É maior que 100.\")\n"
   ]
  },
  {
   "attachments": {},
   "cell_type": "markdown",
   "id": "0f7eecb8",
   "metadata": {},
   "source": [
    "Estrutura de decisão composta"
   ]
  },
  {
   "cell_type": "code",
   "execution_count": null,
   "id": "30d340be",
   "metadata": {},
   "outputs": [],
   "source": [
    "# Receber número inteiro do teclado e testar se é maior que 100 ou não\n",
    "\n",
    "a = int(input(\"Digite um número inteiro: \"))\n",
    "\n",
    "if(a) > 100:\n",
    "    print(\"É maior que 100.\")\n",
    "else:\n",
    "    print(\"É menor ou igual a 100\")"
   ]
  },
  {
   "cell_type": "code",
   "execution_count": null,
   "id": "ed255cf6",
   "metadata": {},
   "outputs": [],
   "source": [
    "# Testar aprovação ou reprovação de um aluno\n",
    "\n",
    "nota1 = float(input(\"Digite a primeira nota: \"))\n",
    "nota2 = float(input(\"Digite a segunda nota: \"))\n",
    "\n",
    "media = (nota1 + nota2)/2\n",
    "\n",
    "print(\"A média é\", media)\n",
    "\n",
    "if(media >= 6.0):\n",
    "    print(\"Aluno aprovado!\")\n",
    "else:\n",
    "    print(\"Aluno reprovado!\")"
   ]
  },
  {
   "attachments": {},
   "cell_type": "markdown",
   "id": "127fc742",
   "metadata": {},
   "source": [
    "Estrutura de decisão encadeada"
   ]
  },
  {
   "cell_type": "code",
   "execution_count": null,
   "id": "34e5265a",
   "metadata": {},
   "outputs": [],
   "source": [
    "# decidir entre 3 números favoritos\n",
    "\n",
    "num = int(input(\"Digite seu número favorito (1 a 3): \"))\n",
    "\n",
    "if(num == 1): # comparação, não atribuição\n",
    "    print(\"Seu número favorito é 1.\")\n",
    "elif(num == 2):\n",
    "    print(\"Seu número favorito é 2.\")\n",
    "elif(num == 3):\n",
    "    print(\"Seu número favorito é 3.\")\n",
    "else:\n",
    "    print(\"Valor inválido!!!\")"
   ]
  },
  {
   "attachments": {},
   "cell_type": "markdown",
   "id": "ca1887a0",
   "metadata": {},
   "source": [
    "Exercícios de estruturas de decisão"
   ]
  },
  {
   "cell_type": "code",
   "execution_count": null,
   "id": "c5aaa057",
   "metadata": {},
   "outputs": [],
   "source": [
    "# Escreva um programa que recebe o peso e a altura de uma pessoa e calcula seu IMC (Indice de Massa Corpórea)\n",
    "# Diga, ainda, a interpretação para o resultado\n",
    "\n",
    "# o IMC - Testar de está na faixa ideal\n",
    "# 18.5 a 24.9\n",
    "\n",
    "altura = float(input(\"Digite a altura da pessoa: \"))\n",
    "peso = float(input(\"Digite o peso da pessoa: \"))\n",
    "\n",
    "imc = peso / (altura*altura)\n",
    "\n",
    "print(\"O IMC é: \", imc)\n",
    "\n",
    "# 1.o tipo de solução:\n",
    "\n",
    "if(imc < 18.5):\n",
    "    print(\"Abaixo da faixa ideal\")\n",
    "elif(imc < 24.9):\n",
    "    print(\"Está na faixa ideal\")\n",
    "else:\n",
    "    print(\"Acima da faixa ideal\")"
   ]
  },
  {
   "cell_type": "code",
   "execution_count": null,
   "id": "b56e0aee",
   "metadata": {},
   "outputs": [],
   "source": [
    "# Escreva um programa que recebe o peso e a altura de uma pessoa e calcula seu IMC (Indice de Massa Corpórea)\n",
    "# Diga, ainda, a interpretação para o resultado\n",
    "\n",
    "# o IMC - Testar de está na faixa ideal\n",
    "# 18.5 a 24.9\n",
    "\n",
    "altura = float(input(\"Digite a altura da pessoa: \"))\n",
    "peso = float(input(\"Digite o peso da pessoa: \"))\n",
    "\n",
    "imc = peso / (altura*altura)\n",
    "\n",
    "print(\"O IMC é: \", imc)\n",
    "\n",
    "# 2.o tipo de solução\n",
    "\n",
    "if(imc > 18.5 and imc < 24.9):\n",
    "    print(\"Está na faixa ideal\")\n",
    "else:\n",
    "    print(\"Está fora da faixa ideal\")"
   ]
  },
  {
   "cell_type": "code",
   "execution_count": null,
   "id": "5920d833",
   "metadata": {},
   "outputs": [],
   "source": [
    "# Escreva um programa que resolve a equação do 2.o grau (ax2 + bx + c), testando também o tipo de raízes da mesma.\n",
    "\n",
    "# Resolver a equação do 2.o grau\n",
    "# sqrt = square root = raiz quadrada\n",
    "# ax2 + bx + c\n",
    "\n",
    "import math\n",
    "\n",
    "a = float(input(\"Digite 'a': \"))\n",
    "b = float(input(\"Digite 'b': \"))\n",
    "c = float(input(\"Digite 'c': \"))\n",
    "\n",
    "delta = b**2 - (4*a*c)\n",
    "\n",
    "if(delta < 0):\n",
    "    print(\"Raízes complexas!\")\n",
    "elif(delta == 0):\n",
    "    print(\"2 raízes reais iguais!\")\n",
    "else:\n",
    "    print(\"2 raízes reais diferentes!\")\n",
    "\n",
    "x1 = (-b + math.sqrt(delta))/2*a\n",
    "x2 = (-b - math.sqrt(delta))/2*a\n",
    "\n",
    "print(\"As raízes são: \", x1, \" e \", x2)"
   ]
  },
  {
   "cell_type": "code",
   "execution_count": null,
   "id": "d15dfb74",
   "metadata": {},
   "outputs": [],
   "source": [
    "# Escreva um programa que recebe o ano de nascimento de uma pessoa, calcula sua idade e diz se é maior de idade ou não.\n",
    "\n",
    "ano = int(input(\"Digite o ano de seu nascimento: \"))\n",
    "\n",
    "idade = 2021 - ano\n",
    "\n",
    "print(\"Sua idade é:\", idade, \"anos.\")\n",
    "\n",
    "if(idade >= 18):\n",
    "    print(\"Maior de idade!\")\n",
    "else:\n",
    "    print(\"Menor de idade!\")"
   ]
  },
  {
   "cell_type": "raw",
   "id": "28876af9",
   "metadata": {},
   "source": [
    "# Escreva um programa que recebe a idade de um atleta e o classifica da seguinte forma:\n",
    "\n",
    "    - se menor que 10 anos: infantil;\n",
    "    - se maior ou igual a 10 e menor que 18: juvenil;\n",
    "    - se maior ou igual a 18: sênior."
   ]
  },
  {
   "cell_type": "code",
   "execution_count": null,
   "id": "6aef1962",
   "metadata": {},
   "outputs": [],
   "source": [
    "idade = int(input(\"Digite a idade do atleta: \"))\n",
    "\n",
    "if(idade < 10):\n",
    "    print(\"Categoria Infantil.\")\n",
    "elif(idade < 18):\n",
    "    print(\"Categoria Juvenil.\")\n",
    "else:\n",
    "    print(\"Categoria Sênior.\")"
   ]
  },
  {
   "cell_type": "code",
   "execution_count": null,
   "id": "0ad236ea",
   "metadata": {},
   "outputs": [],
   "source": [
    "idade = int(input(\"Digite a idade do atleta: \"))\n",
    "\n",
    "if(idade < 10):\n",
    "    print(\"Categoria Infantil.\")\n",
    "elif(idade >= 10 and idade < 18):\n",
    "    print(\"Categoria Juvenil.\")\n",
    "else:\n",
    "    print(\"Categoria Sênior.\")"
   ]
  },
  {
   "cell_type": "raw",
   "id": "9f364985",
   "metadata": {},
   "source": [
    "1. Escreva um programa que diga qual é o maior de dois números inteiros."
   ]
  },
  {
   "cell_type": "code",
   "execution_count": null,
   "id": "1ecd17cf",
   "metadata": {},
   "outputs": [],
   "source": [
    "n1 = int(input(\"Digite o primeiro número inteiro: \"))\n",
    "n2 = int(input(\"Digite o segundo número inteiro: \"))\n",
    "\n",
    "if(n1>n2):\n",
    "    print(\"O primeiro número é maior que o segundo!\")\n",
    "elif(n2>n1):\n",
    "    print(\"O segundo número é maior que o primeiro!\")\n",
    "else:\n",
    "    print(\"Eles são iguais!\")"
   ]
  },
  {
   "cell_type": "raw",
   "id": "a9638793",
   "metadata": {},
   "source": [
    "2. Escreva um programa que receba um número e diga se ele está no intervalo entre 100 e 200."
   ]
  },
  {
   "cell_type": "code",
   "execution_count": null,
   "id": "dfd28469",
   "metadata": {},
   "outputs": [],
   "source": [
    "num = float(input(\"Digite um número qualquer: \"))\n",
    "\n",
    "# 1.a resolução: uso de operadores lógicos (and, or, not)\n",
    "\n",
    "if(num>=100 and num<=200):\n",
    "    print(\"O número está no intervalo estudado.\")\n",
    "else:\n",
    "    print(\"O número está fora do intervalo estudado.\")"
   ]
  },
  {
   "cell_type": "code",
   "execution_count": null,
   "id": "103e206a",
   "metadata": {},
   "outputs": [],
   "source": [
    "num = float(input(\"Digite um número qualquer: \"))\n",
    "\n",
    "# 2.a resolução: uso de if-elif-else\n",
    "\n",
    "if(num<100):\n",
    "    print(\"O número está fora do intervalo estudado - abaixo.\")\n",
    "elif(num<=200):\n",
    "    print(\"O número está dentro do intervalo estudado.\")\n",
    "else:\n",
    "    print(\"O número está fora do intervalo estudado - acima\")"
   ]
  },
  {
   "cell_type": "raw",
   "id": "ab551cc6",
   "metadata": {},
   "source": [
    "3. Escreva um programa que receba o valor de um salário e conceda um aumento de 50%."
   ]
  },
  {
   "cell_type": "code",
   "execution_count": null,
   "id": "50cf1300",
   "metadata": {},
   "outputs": [],
   "source": [
    "salario = float(input(\"Digite o valor do salário:\"))\n",
    "\n",
    "#salario_corrigido = (salario * 0.50) + salario\n",
    "\n",
    "salario_corrigido = salario * 1.50\n",
    "\n",
    "print(\"O salário corrigido é \", salario_corrigido)"
   ]
  },
  {
   "cell_type": "raw",
   "id": "8e0e4177",
   "metadata": {},
   "source": [
    "4. Escreva um programa que receba o nome da pessoa e a convide para jantar."
   ]
  },
  {
   "cell_type": "code",
   "execution_count": null,
   "id": "475650df",
   "metadata": {},
   "outputs": [],
   "source": [
    "nome = input(\"Digite seu nome:\")\n",
    "\n",
    "print(\"Prezado(a) \" + nome + \", gostaria de convidá-lo(a) para um jantar.\")"
   ]
  },
  {
   "cell_type": "raw",
   "id": "5d357762",
   "metadata": {},
   "source": [
    "5. Escreva um programa que receba do teclado 1.000.000 de números e os mostre na tela."
   ]
  },
  {
   "attachments": {},
   "cell_type": "markdown",
   "id": "4c577e3b",
   "metadata": {},
   "source": [
    "Estruturas de repetição (laços)"
   ]
  },
  {
   "cell_type": "raw",
   "id": "0ff66bac",
   "metadata": {},
   "source": [
    "Estruturas de controle de repetição (laços) permitem que ações prévias possam ser repetidas toda vez que for necessário. Isso é o que torna um computador capaz de repetir inúmeras operações e ações de forma rápida e eficiente. Por exemplo, se quisermos escrever 5 vezes na saída padrão a expressão “Alô FATEC”, poderíamos até utilizar 5 print's. Mas se desejarmos repetir esta ação 1000 vezes, seria inconcebível programarmos 1000 saídas de dados! \n",
    "\n",
    "As repetições podem ser de dois tipos: 'indefinidas', quando o número de iterações não é conhecido antes do início da repetição (por exemplo, o usuário é quem decidirá quando encerrar a repetição). E 'definidas', no caso de definirmos com antecedência o número de iterações.\n",
    "\n",
    "Observação: repetições são também conhecidas pelo termo em inglês 'loop'."
   ]
  },
  {
   "attachments": {},
   "cell_type": "markdown",
   "id": "1c1e4fbc",
   "metadata": {},
   "source": [
    "`Estrutura de repetição com pré-teste (while)`"
   ]
  },
  {
   "cell_type": "raw",
   "id": "27e77fe4",
   "metadata": {},
   "source": [
    "Uma estrutura de repetição com pré-teste realiza inicialmente o teste da expressão lógica,\n",
    "para depois executar alguma ação e eventual repetição. Pode acontecer que nenhuma ação seja processada,\n",
    "se inicialmente o teste convergir para falsidade.\n",
    "\n",
    "while(expressão booleana = lógica: verdade ou falsidade):\n",
    " bloco de ações\n",
    " \n",
    "Exemplos:"
   ]
  },
  {
   "cell_type": "code",
   "execution_count": null,
   "id": "eaa4184c",
   "metadata": {},
   "outputs": [],
   "source": [
    "i = 0  # uso de contador de repetições\n",
    "while(i <= 10):\n",
    "    print(i)\n",
    "    i = i + 1\n",
    "print(\"Fim da repetição...\")"
   ]
  },
  {
   "cell_type": "code",
   "execution_count": null,
   "id": "ecc620b2",
   "metadata": {},
   "outputs": [],
   "source": [
    "atual = 0  # uso de contador de repetições\n",
    "while(atual <= 5):\n",
    "    print(atual)\n",
    "    atual = atual + 1"
   ]
  },
  {
   "cell_type": "code",
   "execution_count": null,
   "id": "185bf35e",
   "metadata": {},
   "outputs": [],
   "source": [
    "resp = 's' # uso de condição de saída\n",
    "while(resp == 's'):\n",
    "    p = int(input(\"Digite um valor inteiro: \"))\n",
    "    print(\"O valor digitado foi:\", p)\n",
    "    resp = input(\"Continua? s/n\")\n",
    "print(\"Fim da repetição...\")"
   ]
  },
  {
   "attachments": {},
   "cell_type": "markdown",
   "id": "471d2ff9",
   "metadata": {},
   "source": [
    "Mais exercícios"
   ]
  },
  {
   "cell_type": "code",
   "execution_count": null,
   "id": "25434703",
   "metadata": {},
   "outputs": [],
   "source": [
    "# Calcular a média de 5 notas\n",
    "\n",
    "i = 0 # contador de repetições\n",
    "media = 0 # variável que calcula a média\n",
    "soma = 0 # acumulador ou somatório das notas digitadas\n",
    "\n",
    "while(i < 5):\n",
    "    nota = float(input(\"Digite uma nota: \"))\n",
    "    soma = soma + nota # soma as notas que estão sendo digitadas\n",
    "    print(\"Valor atual de soma:\", soma)\n",
    "    i = i + 1\n",
    " \n",
    "media = soma / i\n",
    "\n",
    "print(\"A média é %.1f\" % media) # formatando a saída com uma casa decimal"
   ]
  },
  {
   "attachments": {},
   "cell_type": "markdown",
   "id": "bc3afd52",
   "metadata": {},
   "source": [
    "Exercícios"
   ]
  },
  {
   "cell_type": "raw",
   "id": "d28415bb",
   "metadata": {},
   "source": [
    "1. Escreva um programa que receba 2 notas de um aluno, calcule a média,\n",
    "e diga se ele foi aprovado ou reprovado. (média >= 6.0)"
   ]
  },
  {
   "cell_type": "code",
   "execution_count": null,
   "id": "5ffce526",
   "metadata": {},
   "outputs": [],
   "source": [
    "i = 0\n",
    "soma = 0\n",
    "total = 0\n",
    "\n",
    "while(i<3):\n",
    "    nome = input(\"Digite o nome do aluno: \")\n",
    "    nota1 = float(input(\"Digite a primeira nota:\"))\n",
    "    nota2 = float(input(\"Digite a segunda nota:\"))\n",
    "    freq = float(input(\"Digite a frequencia:\"))\n",
    "\n",
    "    soma = nota1 + nota2\n",
    "    media = soma / 2 # média ponderada\n",
    "    print(\"A média do(a) aluno(a) \" + nome + \" é %.1f\" % media)\n",
    "    print(\"A frequência é %.1f\" % freq)\n",
    "\n",
    "    if(media >= 6.0 and freq >= 75):\n",
    "        print(\"Aluno aprovado por média e frequência\")\n",
    "    elif(media >= 6.0 and freq < 75):\n",
    "        print(\"Aluno reprovado por frequência\")\n",
    "    elif(media < 6.0 and freq >= 75):\n",
    "        print(\"Aluno reprovado por nota - pode fazer exame\")\n",
    "    else:\n",
    "        print(\"Aluno reprovado por nota e por frequência\")\n",
    "    i = i + 1\n",
    "    total = total + soma\n",
    "    print(\"***************************************************\")\n",
    "\n",
    "print(\"A média da turma é \", total/6)"
   ]
  },
  {
   "cell_type": "code",
   "execution_count": null,
   "id": "d96d5e83",
   "metadata": {},
   "outputs": [],
   "source": [
    "# Caixa Eletrônico\n",
    "# Banco FATEC S/A\n",
    "\n",
    "import sys\n",
    "\n",
    "i = 0\n",
    "saldo = 0\n",
    "deposito = 0\n",
    "saque = 0\n",
    "senha_correta = 123\n",
    "\n",
    "nome = input(\"Digite o nome do cliente: \")\n",
    "\n",
    "while(True):\n",
    "    while(i<=2):\n",
    "        senha = int(input(\"Digite a senha:\"))\n",
    "        if(senha == 123):\n",
    "            break\n",
    "        else:\n",
    "            print(\"Senha incorreta!\")\n",
    "            i = i + 1\n",
    "            if(i == 3):\n",
    "                sys.exit()\n",
    "                \n",
    "    print(\"\\n\")\n",
    "    print(\"Banco FATEC S/A\")\n",
    "    print(\"*****************\")\n",
    "    \n",
    "    print(\"1. Depósito\")\n",
    "    print(\"2. Saque\")\n",
    "    print(\"3. Saldo\")\n",
    "    print(\"4. Encerrar\")\n",
    "    \n",
    "    op = input(\"Escolha a operação:\")\n",
    "    if(op == '1'):\n",
    "        deposito = float(input(\"Digite o valor do depósito:\"))\n",
    "        saldo = saldo + deposito\n",
    "        print(\"\\n\" * 15)\n",
    "    elif(op == '2'):\n",
    "        saque = float(input(\"Digite o valor a sacar:\"))\n",
    "        saldo = saldo - saque\n",
    "    elif(op == '3'):\n",
    "        print(\"O saldo é R$ %.2f\" % saldo)\n",
    "    elif(op == '4'):\n",
    "        break\n",
    "    else:\n",
    "        print(\"Operação inválida!!!\")\n",
    "\n",
    "print(\"**************************************\")\n",
    "print(\"Obrigado por utilizar nossos serviços!\")\n"
   ]
  },
  {
   "cell_type": "code",
   "execution_count": null,
   "id": "84df747d",
   "metadata": {},
   "outputs": [],
   "source": [
    "# Outra proposta de solução\n",
    "# import sys\n",
    "import os\n",
    "\n",
    "correta = 123\n",
    "i = 0\n",
    "saldo = 0\n",
    "\n",
    "while(i<=2):\n",
    "    senha = int(input(\"Digite a senha: \"))\n",
    "    if(senha==correta):\n",
    "        print(\"Acesso ao sistema OK \")\n",
    "        break\n",
    "    else:\n",
    "        print(\"Senha incorreta...\")\n",
    "        i = i + 1\n",
    "        if(i==3):\n",
    "            print(\"\")\n",
    "            print(\"################################\")\n",
    "            print(\"Acesso negado! Cartão bloqueado!\")\n",
    "            print(\"################################\")\n",
    "            pause = input(\"Encerrando sistema...\")\n",
    "            # os._exit(1)\n",
    "            \n",
    "while(True):\n",
    "\n",
    "    print(\"+++ BANCO FATEC SA +++\")\n",
    "    print(\"++++++++++++++++++++++\")\n",
    "    print(\"1. Depósito ...\")\n",
    "    print(\"2. Saque ...\")\n",
    "    print(\"3. Saldo ...\")\n",
    "    print(\"4. Encerrar ...\")\n",
    "\n",
    "    op = int(input(\"Escolha a operação: \"))\n",
    "    \n",
    "    if(op==1):\n",
    "        valor = float(input(\"Qual o valor a depositar? \"))\n",
    "        saldo = saldo + valor\n",
    "        print(\"Saldo atual = %.2f\" % saldo)\n",
    "        print(\"\\n\\n\")\n",
    "    elif(op==2):\n",
    "        valor = float(input(\"Qual o valor a sacar? \"))\n",
    "        saldo = saldo - valor\n",
    "        print(\"Saldo atual = %.2f\" % saldo)\n",
    "        print(\"\\n\\n\")\n",
    "    elif(op==3):\n",
    "        print(\"Saldo atual = %.2f\" % saldo)\n",
    "        print(\"\\n\\n\")\n",
    "    else:\n",
    "        print(\"\")\n",
    "        print(\"######################################\")\n",
    "        print(\"Obrigado por utilizar nossos serviços!\")\n",
    "        print(\"######################################\")\n",
    "        pause = input(\"Encerrando sistema...\")\n",
    "        os._exit(1)\n"
   ]
  },
  {
   "attachments": {},
   "cell_type": "markdown",
   "id": "bbddbb46",
   "metadata": {},
   "source": [
    "`Estruturas de repetição for`"
   ]
  },
  {
   "cell_type": "raw",
   "id": "c84d1b1a",
   "metadata": {},
   "source": [
    "São as repetições definidas de sequências de dados, iteráveis, onde um objeto retorna um de seus elementos de cada vez."
   ]
  },
  {
   "cell_type": "code",
   "execution_count": null,
   "id": "5f311478",
   "metadata": {},
   "outputs": [],
   "source": [
    "for i in \"Hello world!\":\n",
    "    print(i)"
   ]
  },
  {
   "cell_type": "code",
   "execution_count": null,
   "id": "fa954a29",
   "metadata": {},
   "outputs": [],
   "source": [
    "for i in \"Hello world!\":\n",
    "    print(i, end=' ')"
   ]
  },
  {
   "cell_type": "code",
   "execution_count": null,
   "id": "84221d46",
   "metadata": {},
   "outputs": [],
   "source": [
    "for i in [1, 2, 3, 4, 5]:\n",
    "    print(i)"
   ]
  },
  {
   "cell_type": "code",
   "execution_count": null,
   "id": "08ad5a2b",
   "metadata": {},
   "outputs": [],
   "source": [
    "for i in range(10):\n",
    "    print(i)"
   ]
  },
  {
   "cell_type": "code",
   "execution_count": null,
   "id": "df3126a6",
   "metadata": {},
   "outputs": [],
   "source": [
    "for i in range(1, 6):\n",
    "    print(i)"
   ]
  },
  {
   "cell_type": "code",
   "execution_count": null,
   "id": "8ac20e98",
   "metadata": {},
   "outputs": [],
   "source": [
    "for i in range(2, 10, 2): # \"step\": passo, de quanto em quanto a sequência varia\n",
    "    print (i)"
   ]
  },
  {
   "cell_type": "code",
   "execution_count": null,
   "id": "403f8c75",
   "metadata": {},
   "outputs": [],
   "source": [
    "for i in range(1, 10, 2): # \"step\": passo, de quanto em quanto a sequência varia\n",
    "    print (i)"
   ]
  },
  {
   "cell_type": "raw",
   "id": "5b4dedf4",
   "metadata": {},
   "source": [
    "Observações:\n",
    "\n",
    "• O valor inicial padrão é zero (se omitido, é assumido este valor)\n",
    "• A sequência não inclui o valor final (vai até n-1)\n",
    "• Passo (ou 'step') indica a diferença entre cada número da sequência. Se omitido, assume-se \n",
    "o valor 1. Se negativo, gera a ordem inversa na sequência."
   ]
  },
  {
   "cell_type": "code",
   "execution_count": null,
   "id": "b77f013d",
   "metadata": {},
   "outputs": [],
   "source": [
    "for i in range(10, -1, -1): # contagem regressiva\n",
    "    print(i)\n",
    "print(\"Foguete lançado!!!\")"
   ]
  },
  {
   "cell_type": "raw",
   "id": "937c0922",
   "metadata": {},
   "source": [
    "Mais Exemplos:"
   ]
  },
  {
   "cell_type": "code",
   "execution_count": null,
   "id": "d011d045",
   "metadata": {},
   "outputs": [],
   "source": [
    "# somatória de valores digitados\n",
    "total = 0\n",
    "for i in range(10): # 0 a 9\n",
    "    a = float(input(\"Entre um número: \")) # recebe qualquer tipo de número\n",
    "    total = total + a # somatória de valores\n",
    "    print(\"O sub-total é\", total) # mostra na tela a somatória\n",
    "print(\"\\n\")\n",
    "print(\"A soma total é\", total)"
   ]
  },
  {
   "cell_type": "code",
   "execution_count": null,
   "id": "d3df2502",
   "metadata": {},
   "outputs": [],
   "source": [
    "# cálculo de média\n",
    "n = int(input(\"Entre a quantidade de números a trabalhar: \"))\n",
    "total = 0\n",
    "for i in range(n):\n",
    "    a = float(input(\"Entre número #\" + str(i + 1) + \": \"))\n",
    "    total = total + a\n",
    "if(n>0):\n",
    "    media = total / n\n",
    "    print(\"A média é: \", media)\n",
    "else:\n",
    "    print(\"Nenhum número foi digitado!\")"
   ]
  },
  {
   "cell_type": "raw",
   "id": "fc47e4cf",
   "metadata": {},
   "source": [
    "1. Escrever um programa que receba uma 'string' e depois a percorra com o 'for' mostrando na tela cada caractere da mesma."
   ]
  },
  {
   "cell_type": "code",
   "execution_count": null,
   "id": "1e697bc8",
   "metadata": {},
   "outputs": [],
   "source": [
    "frase = input(\"Digite uma frase: \")\n",
    "\n",
    "for letra in frase:\n",
    "    print(letra)"
   ]
  },
  {
   "cell_type": "raw",
   "id": "283d4cab",
   "metadata": {},
   "source": [
    "2. Escrever um programa usando 'for' que gera 5 números e mostra na tela o seu dobro."
   ]
  },
  {
   "cell_type": "code",
   "execution_count": null,
   "id": "bcaedf5a",
   "metadata": {},
   "outputs": [],
   "source": [
    "for i in range(5):\n",
    "    print(i*2)"
   ]
  },
  {
   "cell_type": "raw",
   "id": "4cf8facb",
   "metadata": {},
   "source": [
    "3. Escrever um programa que recebe 5 números inteiros e diz, para cada um, se é par ou ímpar. Dica: usar o operador de resto da divisão (%)."
   ]
  },
  {
   "cell_type": "code",
   "execution_count": null,
   "id": "c0f27fb5",
   "metadata": {},
   "outputs": [],
   "source": [
    "for i in range(5):\n",
    "    num = int(input(\"Digite um número inteiro: \"))\n",
    "    if(num%2 == 0):\n",
    "        print(\"Par!\")\n",
    "    else:\n",
    "        print(\"Impar\")\n"
   ]
  },
  {
   "attachments": {},
   "cell_type": "markdown",
   "id": "c4783af2",
   "metadata": {},
   "source": [
    "**LISTAS**"
   ]
  },
  {
   "cell_type": "raw",
   "id": "626ce172",
   "metadata": {},
   "source": [
    "Estrutura de dados característica de Python e outras linguagens voltadas à análise de dados. Exemplo: LISP (LISt Programming), processamento de linguagem natural, inteligência artificial."
   ]
  },
  {
   "cell_type": "code",
   "execution_count": null,
   "id": "7ebe3f4e",
   "metadata": {},
   "outputs": [],
   "source": [
    "lista = [] # lista vazia\n",
    "print(lista)"
   ]
  },
  {
   "cell_type": "code",
   "execution_count": null,
   "id": "0655f047",
   "metadata": {},
   "outputs": [],
   "source": [
    "lista = [1, 2, 3]\n",
    "print(lista)"
   ]
  },
  {
   "cell_type": "code",
   "execution_count": null,
   "id": "927d2039",
   "metadata": {},
   "outputs": [],
   "source": [
    "lista = [1, \"fatec\", 9.8, 's', True]\n",
    "lista"
   ]
  },
  {
   "cell_type": "code",
   "execution_count": null,
   "id": "83a80e5d",
   "metadata": {},
   "outputs": [],
   "source": [
    "# índices da lista: identificam os elementos da mesma\n",
    "lista[0]"
   ]
  },
  {
   "cell_type": "code",
   "execution_count": null,
   "id": "9558f92f",
   "metadata": {},
   "outputs": [],
   "source": [
    "lista[1]"
   ]
  },
  {
   "cell_type": "code",
   "execution_count": null,
   "id": "0e8185b6",
   "metadata": {},
   "outputs": [],
   "source": [
    "lista[-1] # acessando o último elemento da lista"
   ]
  },
  {
   "cell_type": "code",
   "execution_count": null,
   "id": "2598668e",
   "metadata": {},
   "outputs": [],
   "source": [
    "lista[0] = 5 # alterando o valor de determinado elemento da lista\n",
    "lista"
   ]
  },
  {
   "cell_type": "code",
   "execution_count": null,
   "id": "ff7a406a",
   "metadata": {},
   "outputs": [],
   "source": [
    "lista[0] = \"fatec\" \n",
    "lista"
   ]
  },
  {
   "cell_type": "code",
   "execution_count": null,
   "id": "4308827a",
   "metadata": {},
   "outputs": [],
   "source": [
    "# inserção de itens em dada posição da lista\n",
    "lista.insert(1, \"Beto\")\n",
    "lista"
   ]
  },
  {
   "cell_type": "code",
   "execution_count": null,
   "id": "1313727a",
   "metadata": {},
   "outputs": [],
   "source": [
    "# inserção de itens no final da lista\n",
    "lista.append(\"Paulo\")\n",
    "lista"
   ]
  },
  {
   "cell_type": "code",
   "execution_count": null,
   "id": "e9d44c60",
   "metadata": {},
   "outputs": [],
   "source": [
    "# Percorrendo a lista\n",
    "lista = [\"Paulo\", \"Marcos\", \"Ana\"]\n",
    "for nome in lista:\n",
    "    print(\"Prezado(a) \" + nome + \", gostaria de convidá-lo(a) para jantar na FATEC.\")"
   ]
  },
  {
   "cell_type": "code",
   "execution_count": null,
   "id": "730ae439",
   "metadata": {},
   "outputs": [],
   "source": [
    "lista = [\"fatec\", 1, \"usp\", 'a', 9.81, \"unicamp\"]\n",
    "for valor in lista:\n",
    "    print(valor)"
   ]
  },
  {
   "cell_type": "code",
   "execution_count": null,
   "id": "f97d0700",
   "metadata": {},
   "outputs": [],
   "source": [
    "# deletando um elemento específico da lista\n",
    "del lista[0]\n",
    "lista"
   ]
  },
  {
   "cell_type": "code",
   "execution_count": null,
   "id": "9945a441",
   "metadata": {},
   "outputs": [],
   "source": [
    "# Limpando a lista\n",
    "lista.clear()\n",
    "lista"
   ]
  },
  {
   "cell_type": "code",
   "execution_count": null,
   "id": "c6823c6f",
   "metadata": {},
   "outputs": [],
   "source": [
    "lista = [1, 2, 3, 10, 5, 8, 3, 4]"
   ]
  },
  {
   "cell_type": "code",
   "execution_count": null,
   "id": "faab64d9",
   "metadata": {},
   "outputs": [],
   "source": [
    "print(max(lista)) # valor máximo\n",
    "print(min(lista)) # valor mínimo\n",
    "print(sum(lista)) # soma dos valores\n",
    "print(len(lista)) # length = número de elementos da lista"
   ]
  },
  {
   "cell_type": "code",
   "execution_count": null,
   "id": "d12e5179",
   "metadata": {},
   "outputs": [],
   "source": [
    "media = (sum(lista)) / (len(lista))\n",
    "print(\" A média da lista é \", media)"
   ]
  },
  {
   "cell_type": "code",
   "execution_count": null,
   "id": "7d62e1c9",
   "metadata": {},
   "outputs": [],
   "source": [
    "# ordem numérica\n",
    "lista = [5, 7, 2, 1, 10, 9]\n",
    "lista.sort()\n",
    "lista"
   ]
  },
  {
   "cell_type": "code",
   "execution_count": null,
   "id": "0b3b426a",
   "metadata": {},
   "outputs": [],
   "source": [
    "# ordem alfabética\n",
    "nomes = [\"Lara\", \"Eduardo\", \"Francisco\"]\n",
    "nomes.sort()\n",
    "nomes"
   ]
  },
  {
   "cell_type": "code",
   "execution_count": null,
   "id": "11768984",
   "metadata": {},
   "outputs": [],
   "source": [
    "lista.pop() # saca o último elemento da lista mas não o apaga da memória\n",
    "lista"
   ]
  },
  {
   "cell_type": "code",
   "execution_count": null,
   "id": "f2a50515",
   "metadata": {},
   "outputs": [],
   "source": [
    "# Subdivisão da lista em sublistas = 'slicing'\n",
    "lista = [3, 5, 7, 4, 1, 2, 9, 10]\n",
    "lista[1:3]"
   ]
  },
  {
   "cell_type": "code",
   "execution_count": null,
   "id": "504990f0",
   "metadata": {},
   "outputs": [],
   "source": [
    "print(lista[:3])"
   ]
  },
  {
   "cell_type": "code",
   "execution_count": null,
   "id": "1a658efe",
   "metadata": {},
   "outputs": [],
   "source": [
    "print(lista[1:])"
   ]
  },
  {
   "cell_type": "code",
   "execution_count": null,
   "id": "2e639ed0",
   "metadata": {},
   "outputs": [],
   "source": [
    "print(lista[:])"
   ]
  },
  {
   "cell_type": "code",
   "execution_count": null,
   "id": "acef737c",
   "metadata": {},
   "outputs": [],
   "source": [
    "# concatenação de listas = juntar as listas\n",
    "lista1 = [1, 2, 3]\n",
    "lista2 = [4, 5, 6]\n",
    "lista1 + lista2"
   ]
  },
  {
   "cell_type": "code",
   "execution_count": null,
   "id": "ef46ea66",
   "metadata": {},
   "outputs": [],
   "source": [
    "# multiplicação de listas\n",
    "lista*3"
   ]
  },
  {
   "cell_type": "code",
   "execution_count": null,
   "id": "e060f1df",
   "metadata": {},
   "outputs": [],
   "source": [
    "# criando lista com 'range'\n",
    "números = list(range(1, 6))\n",
    "print(números)\n",
    "print(\"A soma dos valores é:\", sum(números))"
   ]
  },
  {
   "cell_type": "code",
   "execution_count": null,
   "id": "b536a7be",
   "metadata": {},
   "outputs": [],
   "source": [
    "# Percorrendo a lista em busca de um valor\n",
    "lista = [1, 3, 5, 9, 6, 7, 9, 10]\n",
    "num = len(lista) # length = número de elementos da lista\n",
    "\n",
    "valor = int(input(\"Digite número a buscar: \"))\n",
    "\n",
    "for i in range(num):\n",
    "    if(lista[i] == valor):\n",
    "        print (valor, \"encontrado na lista!\")"
   ]
  },
  {
   "cell_type": "code",
   "execution_count": null,
   "id": "4121c58b",
   "metadata": {},
   "outputs": [],
   "source": [
    "# Populando listas de forma automática\n",
    "lista = []\n",
    "for valor in range(1, 11):\n",
    "    lista.append(valor**3)\n",
    "print(lista)"
   ]
  },
  {
   "cell_type": "code",
   "execution_count": 1,
   "id": "e428ebea",
   "metadata": {},
   "outputs": [
    {
     "name": "stdout",
     "output_type": "stream",
     "text": [
      "Digite o número: 4\n",
      "Você adicionou o número  4\n",
      "Digite o número: 4\n",
      "Você adicionou o número  4\n",
      "Digite o número: 4\n",
      "Você adicionou o número  4\n",
      "Digite o número: 4\n",
      "Você adicionou o número  4\n",
      "Digite o número: 4\n",
      "Você adicionou o número  4\n",
      "[4, 4, 4, 4, 4]\n"
     ]
    }
   ],
   "source": [
    "# criação de uma lista pelo usuário\n",
    "lista2 = []\n",
    "for i in range(1, 6):\n",
    "    num = int(input(\"Digite o número: \"))\n",
    "    lista2.append(num)\n",
    "    print(\"Você adicionou o número \", num)\n",
    "print(lista2)"
   ]
  },
  {
   "cell_type": "code",
   "execution_count": 2,
   "id": "600f85ae",
   "metadata": {},
   "outputs": [
    {
     "name": "stdout",
     "output_type": "stream",
     "text": [
      "A média é 4.0\n"
     ]
    }
   ],
   "source": [
    "media = (sum(lista2))/(len(lista2))\n",
    "print(\"A média é\", media)"
   ]
  },
  {
   "cell_type": "code",
   "execution_count": null,
   "id": "820ccdee",
   "metadata": {},
   "outputs": [],
   "source": []
  },
  {
   "cell_type": "code",
   "execution_count": null,
   "id": "ae76ee44",
   "metadata": {},
   "outputs": [],
   "source": [
    "#### Números aleatórios ou ao acaso ou randômicos\n",
    "\n",
    "# Conceito de módulos ou bibliotecas em Python\n",
    "# Conjuntos de funções, código, utilitários e programas que podem ser usados de forma rápida"
   ]
  },
  {
   "cell_type": "code",
   "execution_count": 3,
   "id": "f15ddacf",
   "metadata": {},
   "outputs": [],
   "source": [
    "import random"
   ]
  },
  {
   "cell_type": "code",
   "execution_count": 4,
   "id": "83337345",
   "metadata": {},
   "outputs": [],
   "source": [
    "from random import *\n",
    "from random import randrange"
   ]
  },
  {
   "cell_type": "code",
   "execution_count": 6,
   "id": "88dc53e7",
   "metadata": {},
   "outputs": [
    {
     "name": "stdout",
     "output_type": "stream",
     "text": [
      "0.7324834541687562\n"
     ]
    }
   ],
   "source": [
    "# Número aleatório entre 0 e 1\n",
    "numero = random()\n",
    "print(numero)"
   ]
  },
  {
   "cell_type": "code",
   "execution_count": 10,
   "id": "db81d62d",
   "metadata": {},
   "outputs": [
    {
     "data": {
      "text/plain": [
       "4"
      ]
     },
     "execution_count": 10,
     "metadata": {},
     "output_type": "execute_result"
    }
   ],
   "source": [
    "# Números aleatórios na faixa desejada\n",
    "randrange(0, 24, 2)  # entre 0 e 24, de 2 em 2 (\"step\")"
   ]
  },
  {
   "cell_type": "code",
   "execution_count": 13,
   "id": "972aa483",
   "metadata": {},
   "outputs": [
    {
     "data": {
      "text/plain": [
       "[15, 24, 21, 77, 91, 62, 39, 22, 79, 97]"
      ]
     },
     "execution_count": 13,
     "metadata": {},
     "output_type": "execute_result"
    }
   ],
   "source": [
    "lista = []\n",
    "for x in range(10):\n",
    "    lista.append(randint(1, 100))\n",
    "    if(lista[x] == 25):\n",
    "        break\n",
    "lista"
   ]
  },
  {
   "cell_type": "code",
   "execution_count": 16,
   "id": "5877a336",
   "metadata": {},
   "outputs": [
    {
     "name": "stdout",
     "output_type": "stream",
     "text": [
      "[1, 6, 4, 3, 2, 5]\n"
     ]
    }
   ],
   "source": [
    "L = [1, 2, 3, 4, 5, 6]\n",
    "shuffle(L)\n",
    "print(L)"
   ]
  },
  {
   "cell_type": "code",
   "execution_count": 19,
   "id": "59159dd9",
   "metadata": {},
   "outputs": [
    {
     "data": {
      "text/plain": [
       "1"
      ]
     },
     "execution_count": 19,
     "metadata": {},
     "output_type": "execute_result"
    }
   ],
   "source": [
    "choice(L)"
   ]
  },
  {
   "cell_type": "code",
   "execution_count": 26,
   "id": "dcbf1f1d",
   "metadata": {},
   "outputs": [
    {
     "name": "stdout",
     "output_type": "stream",
     "text": [
      "São 5000089 pares.\n",
      "São 4999911 ímpares.\n"
     ]
    }
   ],
   "source": [
    "par = 0\n",
    "impar = 0\n",
    "for i in range(0, 10000000):\n",
    "    x = randint(1, 6)\n",
    "    #print(x)\n",
    "    if(x % 2 == 0):\n",
    "        par = par + 1\n",
    "    else:\n",
    "        impar = impar + 1\n",
    "\n",
    "print(\"São %d pares.\" % par)\n",
    "print(\"São %d ímpares.\" % impar)"
   ]
  },
  {
   "cell_type": "code",
   "execution_count": 31,
   "id": "749cac8f",
   "metadata": {},
   "outputs": [
    {
     "name": "stdout",
     "output_type": "stream",
     "text": [
      "[98, 120, 102, 91, 90, 73, 79, 78, 133, 87, 124, 135, 98, 77, 131, 80, 100, 108, 136, 119, 91, 116, 97, 91, 86, 86, 128, 115, 94, 84, 96, 127, 115, 84, 76, 98, 121, 89, 102, 121, 94, 76, 86, 118, 124, 121, 113, 74, 109, 124]\n",
      "A média dos QI's é  102.3\n"
     ]
    }
   ],
   "source": [
    "# IMPORTANTE ###################\n",
    "\n",
    "# criação de uma lista aleatória\n",
    "\n",
    "import random\n",
    "\n",
    "qi = []\n",
    "for i in range(1, 51):\n",
    "    num = random.randint(73, 137)\n",
    "    qi.append(num)\n",
    "print(qi)\n",
    "\n",
    "media = (sum(qi))/(len(qi))\n",
    "print(\"A média dos QI's é \", media)"
   ]
  },
  {
   "cell_type": "code",
   "execution_count": 37,
   "id": "58d938c8",
   "metadata": {},
   "outputs": [
    {
     "name": "stdout",
     "output_type": "stream",
     "text": [
      "*** Programa da Megasena ***\n",
      "Números sorteados hoje: \n",
      "26\n",
      "43\n",
      "51\n",
      "18\n",
      "43\n",
      "1\n"
     ]
    }
   ],
   "source": [
    "# Programa da Megasena\n",
    "\n",
    "import random\n",
    "# gerando 6 números aleatórios inteiros de 1 a 60\n",
    "print(\"*** Programa da Megasena ***\")\n",
    "print(\"Números sorteados hoje: \")\n",
    "for x in range(0, 6):\n",
    "    # Números aleatórios inteiros na faixa desejada\n",
    "    print(random.randint(1, 60))"
   ]
  },
  {
   "attachments": {},
   "cell_type": "markdown",
   "id": "e80dab9f",
   "metadata": {},
   "source": [
    "**Módulo PANDAS de Análise de Dados em Python**"
   ]
  },
  {
   "cell_type": "raw",
   "id": "28012a33",
   "metadata": {},
   "source": [
    "Dataset: conjunto de dados para análise\n",
    "\n",
    "Podem estar estruturados de 3 formas:\n",
    "\n",
    "a) Series: estruturas de uma dimensão apenas (coluna) - 1D\n",
    "b) DataFrame: estruturas de duas dimensões (linhas e colunas) - 2D (lembra uma planilha ou tabela de banco de dados)\n",
    "c) Panel: estruturas de mais do que duas dimensões - 3D (é um conjunto de DataFrames)\n"
   ]
  },
  {
   "cell_type": "raw",
   "id": "13644e39",
   "metadata": {},
   "source": [
    "Objeto Series"
   ]
  },
  {
   "cell_type": "code",
   "execution_count": 59,
   "id": "41f3e8d1",
   "metadata": {},
   "outputs": [
    {
     "data": {
      "text/plain": [
       "a    1.7\n",
       "b    1.8\n",
       "c    2.3\n",
       "dtype: float64"
      ]
     },
     "execution_count": 59,
     "metadata": {},
     "output_type": "execute_result"
    }
   ],
   "source": [
    "import pandas as pd # alias, apelido\n",
    "\n",
    "lista = pd.Series([1.7, 1.8, 2.3], index=['a', 'b', 'c'])\n",
    "lista"
   ]
  },
  {
   "cell_type": "code",
   "execution_count": 57,
   "id": "6e5d5d2c",
   "metadata": {},
   "outputs": [
    {
     "data": {
      "text/plain": [
       "3"
      ]
     },
     "execution_count": 57,
     "metadata": {},
     "output_type": "execute_result"
    }
   ],
   "source": [
    "lista.count()  # método da Série que conta o número de elementos"
   ]
  },
  {
   "cell_type": "code",
   "execution_count": null,
   "id": "118e2205",
   "metadata": {},
   "outputs": [],
   "source": [
    "Objeto DataFrame"
   ]
  },
  {
   "cell_type": "raw",
   "id": "08cfe9bb",
   "metadata": {},
   "source": [
    "É uma estrutura bidimensional mutável de dados que contém um índice para as linhas ('index') e outro para as colunas (nomes das colunas - 'columns'), mais os dados (data ou values). Esta tabela pode armazenar dados em memória em formatos diferentes. Contém um ou mais Series."
   ]
  },
  {
   "cell_type": "code",
   "execution_count": 58,
   "id": "f374d2a1",
   "metadata": {},
   "outputs": [
    {
     "data": {
      "text/html": [
       "<div>\n",
       "<style scoped>\n",
       "    .dataframe tbody tr th:only-of-type {\n",
       "        vertical-align: middle;\n",
       "    }\n",
       "\n",
       "    .dataframe tbody tr th {\n",
       "        vertical-align: top;\n",
       "    }\n",
       "\n",
       "    .dataframe thead th {\n",
       "        text-align: right;\n",
       "    }\n",
       "</style>\n",
       "<table border=\"1\" class=\"dataframe\">\n",
       "  <thead>\n",
       "    <tr style=\"text-align: right;\">\n",
       "      <th></th>\n",
       "      <th>0</th>\n",
       "    </tr>\n",
       "  </thead>\n",
       "  <tbody>\n",
       "    <tr>\n",
       "      <th>a</th>\n",
       "      <td>1</td>\n",
       "    </tr>\n",
       "    <tr>\n",
       "      <th>b</th>\n",
       "      <td>2</td>\n",
       "    </tr>\n",
       "    <tr>\n",
       "      <th>c</th>\n",
       "      <td>3</td>\n",
       "    </tr>\n",
       "    <tr>\n",
       "      <th>d</th>\n",
       "      <td>4</td>\n",
       "    </tr>\n",
       "  </tbody>\n",
       "</table>\n",
       "</div>"
      ],
      "text/plain": [
       "   0\n",
       "a  1\n",
       "b  2\n",
       "c  3\n",
       "d  4"
      ]
     },
     "execution_count": 58,
     "metadata": {},
     "output_type": "execute_result"
    }
   ],
   "source": [
    "# Método de DataFrame\n",
    "\n",
    "dados = pd.DataFrame([1, 2, 3, 4], ['a', 'b', 'c', 'd'])\n",
    "dados"
   ]
  },
  {
   "cell_type": "raw",
   "id": "a05495f2",
   "metadata": {},
   "source": [
    "Carregando (abrindo) um conjunto de dados (dataset)\n",
    "\n",
    "Uma análise de dados tem início na obtenção de um conjunto de dados chamado 'dataset'. Este pode ter diversos formatos, como os arquivos de planilhas eletrônicas, arquivos texto delimitados, entre outros. Também podem ser convertidos listas e vetores de Python para um DataFrame de Pandas. Finalmente, pode-se abrir um arquivo ou banco de dados remoto dos tipos CSV ou JSON num website através do endereço deste, ou executar um comando SQL numa tabela ou banco de dados relacional.\n",
    "\n",
    "O comando genérico que carrega os dados de um arquivo para um DataFrame de Pandas é:\n",
    "\n",
    "pd.read_tipodearquivo(local/nome do arquivo, parâmetros)\n"
   ]
  },
  {
   "cell_type": "raw",
   "id": "95ae6e71",
   "metadata": {},
   "source": [
    "Para o tipo de análise realizado com Python e Pandas, idealmente trabalharemos arquivos no formato .csv ('comma separated values' - valores separados por vírgula). É um padrão muito utilizado, e pode ser facilmente gerado pelos aplicativos de emprego comum (como o Excel, por exemplo)."
   ]
  },
  {
   "cell_type": "raw",
   "id": "0a29582f",
   "metadata": {},
   "source": [
    "Para salvar o conjunto de dados que se trabalha em diferentes tipos de dados (CSV, Excel, JSON e tabelas SQL) usamos:\n",
    "\n",
    "pd.to_tipodearquivo(nome do arquivo)"
   ]
  },
  {
   "cell_type": "raw",
   "id": "f08df4c3",
   "metadata": {},
   "source": [
    "- readers e writers\n",
    "\n",
    "pandas.read_csv() e pandas.to_csv()\n",
    "\n",
    "df = pd.read_csv(\"filename.csv\", index_col=0)\n",
    "\n",
    "df.to_csv(\"filename.csv\", index_col=0)"
   ]
  },
  {
   "cell_type": "raw",
   "id": "e6445654",
   "metadata": {},
   "source": [
    "A abertura dos arquivos em Pandas pode apresentar problemas de fácil solução, como por exemplo a falta de separadores de dados no formato de vírgula. Isso é resolvido pelo parâmetro de separadores de read_csv(‘arquivo’, sep=’:’), por exemplo. Outro parâmetro útil é aquele que define o cabeçalho (header) do DataFrame – por exemplo read_csv(‘arquivo’, header=None), quando não queremos evitar que linhas de dados sejam utilizadas como cabeçalho."
   ]
  },
  {
   "cell_type": "raw",
   "id": "68b87232",
   "metadata": {},
   "source": [
    "Se quisermos alterar o nome das colunas de cabeçalho, utilizaremos o comando read_csv(‘arquivo’, names=labels), onde labels recebe os nomes desejados para as colunas, por exemplo labels = [‘id’, ‘name’, ...].\n",
    "\n",
    "Se não quisermos utilizar o índice padrão (0, 1, ...), podemos especificar uma ou mais colunas para ser tal índice: read_csv(‘arquivo’, index_col=[’Name’, ‘ID’). Para ignorar o índice, usamos index=False.\n",
    "\n",
    "Finalmente, se for necessário salvar o DataFrame com outro nome em outro arquivo, utilizamos pd.to_csv(‘local/novo_nome do arquivo’)"
   ]
  },
  {
   "cell_type": "code",
   "execution_count": 7,
   "id": "781be685",
   "metadata": {},
   "outputs": [
    {
     "data": {
      "text/html": [
       "<div>\n",
       "<style scoped>\n",
       "    .dataframe tbody tr th:only-of-type {\n",
       "        vertical-align: middle;\n",
       "    }\n",
       "\n",
       "    .dataframe tbody tr th {\n",
       "        vertical-align: top;\n",
       "    }\n",
       "\n",
       "    .dataframe thead th {\n",
       "        text-align: right;\n",
       "    }\n",
       "</style>\n",
       "<table border=\"1\" class=\"dataframe\">\n",
       "  <thead>\n",
       "    <tr style=\"text-align: right;\">\n",
       "      <th></th>\n",
       "      <th>Pregnancies</th>\n",
       "      <th>Glucose</th>\n",
       "      <th>BloodPressure</th>\n",
       "      <th>SkinThickness</th>\n",
       "      <th>Insulin</th>\n",
       "      <th>BMI</th>\n",
       "      <th>DiabetesPedigreeFunction</th>\n",
       "      <th>Age</th>\n",
       "      <th>Outcome</th>\n",
       "    </tr>\n",
       "  </thead>\n",
       "  <tbody>\n",
       "    <tr>\n",
       "      <th>0</th>\n",
       "      <td>6</td>\n",
       "      <td>148</td>\n",
       "      <td>72</td>\n",
       "      <td>35</td>\n",
       "      <td>0</td>\n",
       "      <td>33.6</td>\n",
       "      <td>0.627</td>\n",
       "      <td>50</td>\n",
       "      <td>1</td>\n",
       "    </tr>\n",
       "    <tr>\n",
       "      <th>1</th>\n",
       "      <td>1</td>\n",
       "      <td>85</td>\n",
       "      <td>66</td>\n",
       "      <td>29</td>\n",
       "      <td>0</td>\n",
       "      <td>26.6</td>\n",
       "      <td>0.351</td>\n",
       "      <td>31</td>\n",
       "      <td>0</td>\n",
       "    </tr>\n",
       "    <tr>\n",
       "      <th>2</th>\n",
       "      <td>8</td>\n",
       "      <td>183</td>\n",
       "      <td>64</td>\n",
       "      <td>0</td>\n",
       "      <td>0</td>\n",
       "      <td>23.3</td>\n",
       "      <td>0.672</td>\n",
       "      <td>32</td>\n",
       "      <td>1</td>\n",
       "    </tr>\n",
       "    <tr>\n",
       "      <th>3</th>\n",
       "      <td>1</td>\n",
       "      <td>89</td>\n",
       "      <td>66</td>\n",
       "      <td>23</td>\n",
       "      <td>94</td>\n",
       "      <td>28.1</td>\n",
       "      <td>0.167</td>\n",
       "      <td>21</td>\n",
       "      <td>0</td>\n",
       "    </tr>\n",
       "    <tr>\n",
       "      <th>4</th>\n",
       "      <td>0</td>\n",
       "      <td>137</td>\n",
       "      <td>40</td>\n",
       "      <td>35</td>\n",
       "      <td>168</td>\n",
       "      <td>43.1</td>\n",
       "      <td>2.288</td>\n",
       "      <td>33</td>\n",
       "      <td>1</td>\n",
       "    </tr>\n",
       "  </tbody>\n",
       "</table>\n",
       "</div>"
      ],
      "text/plain": [
       "   Pregnancies  Glucose  BloodPressure  SkinThickness  Insulin   BMI  \\\n",
       "0            6      148             72             35        0  33.6   \n",
       "1            1       85             66             29        0  26.6   \n",
       "2            8      183             64              0        0  23.3   \n",
       "3            1       89             66             23       94  28.1   \n",
       "4            0      137             40             35      168  43.1   \n",
       "\n",
       "   DiabetesPedigreeFunction  Age  Outcome  \n",
       "0                     0.627   50        1  \n",
       "1                     0.351   31        0  \n",
       "2                     0.672   32        1  \n",
       "3                     0.167   21        0  \n",
       "4                     2.288   33        1  "
      ]
     },
     "execution_count": 7,
     "metadata": {},
     "output_type": "execute_result"
    }
   ],
   "source": [
    "import pandas as pd\n",
    "df = pd.read_csv(\"diabetes.csv\")\n",
    "df.head()"
   ]
  },
  {
   "cell_type": "code",
   "execution_count": 5,
   "id": "579cc1bc",
   "metadata": {},
   "outputs": [
    {
     "ename": "FileNotFoundError",
     "evalue": "[Errno 2] No such file or directory: 'alturas.csv'",
     "output_type": "error",
     "traceback": [
      "\u001b[1;31m---------------------------------------------------------------------------\u001b[0m",
      "\u001b[1;31mFileNotFoundError\u001b[0m                         Traceback (most recent call last)",
      "Input \u001b[1;32mIn [5]\u001b[0m, in \u001b[0;36m<cell line: 6>\u001b[1;34m()\u001b[0m\n\u001b[0;32m      3\u001b[0m \u001b[38;5;28;01mimport\u001b[39;00m \u001b[38;5;21;01mnumpy\u001b[39;00m \u001b[38;5;28;01mas\u001b[39;00m \u001b[38;5;21;01mnp\u001b[39;00m \u001b[38;5;66;03m# módulo Python Numérico\u001b[39;00m\n\u001b[0;32m      4\u001b[0m \u001b[38;5;28;01mimport\u001b[39;00m \u001b[38;5;21;01mseaborn\u001b[39;00m \u001b[38;5;28;01mas\u001b[39;00m \u001b[38;5;21;01msns\u001b[39;00m \u001b[38;5;66;03m# módulo de visualização de dados mais aprimorado\u001b[39;00m\n\u001b[1;32m----> 6\u001b[0m alturas \u001b[38;5;241m=\u001b[39m \u001b[43mpd\u001b[49m\u001b[38;5;241;43m.\u001b[39;49m\u001b[43mread_csv\u001b[49m\u001b[43m(\u001b[49m\u001b[38;5;124;43m\"\u001b[39;49m\u001b[38;5;124;43malturas.csv\u001b[39;49m\u001b[38;5;124;43m\"\u001b[39;49m\u001b[43m,\u001b[49m\u001b[43m \u001b[49m\u001b[43msep\u001b[49m\u001b[38;5;241;43m=\u001b[39;49m\u001b[38;5;28;43;01mNone\u001b[39;49;00m\u001b[43m,\u001b[49m\u001b[43m \u001b[49m\u001b[43mengine\u001b[49m\u001b[38;5;241;43m=\u001b[39;49m\u001b[38;5;124;43m'\u001b[39;49m\u001b[38;5;124;43mpython\u001b[39;49m\u001b[38;5;124;43m'\u001b[39;49m\u001b[43m)\u001b[49m\n",
      "File \u001b[1;32mC:\\ProgramData\\Anaconda3\\lib\\site-packages\\pandas\\util\\_decorators.py:311\u001b[0m, in \u001b[0;36mdeprecate_nonkeyword_arguments.<locals>.decorate.<locals>.wrapper\u001b[1;34m(*args, **kwargs)\u001b[0m\n\u001b[0;32m    305\u001b[0m \u001b[38;5;28;01mif\u001b[39;00m \u001b[38;5;28mlen\u001b[39m(args) \u001b[38;5;241m>\u001b[39m num_allow_args:\n\u001b[0;32m    306\u001b[0m     warnings\u001b[38;5;241m.\u001b[39mwarn(\n\u001b[0;32m    307\u001b[0m         msg\u001b[38;5;241m.\u001b[39mformat(arguments\u001b[38;5;241m=\u001b[39marguments),\n\u001b[0;32m    308\u001b[0m         \u001b[38;5;167;01mFutureWarning\u001b[39;00m,\n\u001b[0;32m    309\u001b[0m         stacklevel\u001b[38;5;241m=\u001b[39mstacklevel,\n\u001b[0;32m    310\u001b[0m     )\n\u001b[1;32m--> 311\u001b[0m \u001b[38;5;28;01mreturn\u001b[39;00m func(\u001b[38;5;241m*\u001b[39margs, \u001b[38;5;241m*\u001b[39m\u001b[38;5;241m*\u001b[39mkwargs)\n",
      "File \u001b[1;32mC:\\ProgramData\\Anaconda3\\lib\\site-packages\\pandas\\io\\parsers\\readers.py:680\u001b[0m, in \u001b[0;36mread_csv\u001b[1;34m(filepath_or_buffer, sep, delimiter, header, names, index_col, usecols, squeeze, prefix, mangle_dupe_cols, dtype, engine, converters, true_values, false_values, skipinitialspace, skiprows, skipfooter, nrows, na_values, keep_default_na, na_filter, verbose, skip_blank_lines, parse_dates, infer_datetime_format, keep_date_col, date_parser, dayfirst, cache_dates, iterator, chunksize, compression, thousands, decimal, lineterminator, quotechar, quoting, doublequote, escapechar, comment, encoding, encoding_errors, dialect, error_bad_lines, warn_bad_lines, on_bad_lines, delim_whitespace, low_memory, memory_map, float_precision, storage_options)\u001b[0m\n\u001b[0;32m    665\u001b[0m kwds_defaults \u001b[38;5;241m=\u001b[39m _refine_defaults_read(\n\u001b[0;32m    666\u001b[0m     dialect,\n\u001b[0;32m    667\u001b[0m     delimiter,\n\u001b[1;32m   (...)\u001b[0m\n\u001b[0;32m    676\u001b[0m     defaults\u001b[38;5;241m=\u001b[39m{\u001b[38;5;124m\"\u001b[39m\u001b[38;5;124mdelimiter\u001b[39m\u001b[38;5;124m\"\u001b[39m: \u001b[38;5;124m\"\u001b[39m\u001b[38;5;124m,\u001b[39m\u001b[38;5;124m\"\u001b[39m},\n\u001b[0;32m    677\u001b[0m )\n\u001b[0;32m    678\u001b[0m kwds\u001b[38;5;241m.\u001b[39mupdate(kwds_defaults)\n\u001b[1;32m--> 680\u001b[0m \u001b[38;5;28;01mreturn\u001b[39;00m \u001b[43m_read\u001b[49m\u001b[43m(\u001b[49m\u001b[43mfilepath_or_buffer\u001b[49m\u001b[43m,\u001b[49m\u001b[43m \u001b[49m\u001b[43mkwds\u001b[49m\u001b[43m)\u001b[49m\n",
      "File \u001b[1;32mC:\\ProgramData\\Anaconda3\\lib\\site-packages\\pandas\\io\\parsers\\readers.py:575\u001b[0m, in \u001b[0;36m_read\u001b[1;34m(filepath_or_buffer, kwds)\u001b[0m\n\u001b[0;32m    572\u001b[0m _validate_names(kwds\u001b[38;5;241m.\u001b[39mget(\u001b[38;5;124m\"\u001b[39m\u001b[38;5;124mnames\u001b[39m\u001b[38;5;124m\"\u001b[39m, \u001b[38;5;28;01mNone\u001b[39;00m))\n\u001b[0;32m    574\u001b[0m \u001b[38;5;66;03m# Create the parser.\u001b[39;00m\n\u001b[1;32m--> 575\u001b[0m parser \u001b[38;5;241m=\u001b[39m TextFileReader(filepath_or_buffer, \u001b[38;5;241m*\u001b[39m\u001b[38;5;241m*\u001b[39mkwds)\n\u001b[0;32m    577\u001b[0m \u001b[38;5;28;01mif\u001b[39;00m chunksize \u001b[38;5;129;01mor\u001b[39;00m iterator:\n\u001b[0;32m    578\u001b[0m     \u001b[38;5;28;01mreturn\u001b[39;00m parser\n",
      "File \u001b[1;32mC:\\ProgramData\\Anaconda3\\lib\\site-packages\\pandas\\io\\parsers\\readers.py:933\u001b[0m, in \u001b[0;36mTextFileReader.__init__\u001b[1;34m(self, f, engine, **kwds)\u001b[0m\n\u001b[0;32m    930\u001b[0m     \u001b[38;5;28mself\u001b[39m\u001b[38;5;241m.\u001b[39moptions[\u001b[38;5;124m\"\u001b[39m\u001b[38;5;124mhas_index_names\u001b[39m\u001b[38;5;124m\"\u001b[39m] \u001b[38;5;241m=\u001b[39m kwds[\u001b[38;5;124m\"\u001b[39m\u001b[38;5;124mhas_index_names\u001b[39m\u001b[38;5;124m\"\u001b[39m]\n\u001b[0;32m    932\u001b[0m \u001b[38;5;28mself\u001b[39m\u001b[38;5;241m.\u001b[39mhandles: IOHandles \u001b[38;5;241m|\u001b[39m \u001b[38;5;28;01mNone\u001b[39;00m \u001b[38;5;241m=\u001b[39m \u001b[38;5;28;01mNone\u001b[39;00m\n\u001b[1;32m--> 933\u001b[0m \u001b[38;5;28mself\u001b[39m\u001b[38;5;241m.\u001b[39m_engine \u001b[38;5;241m=\u001b[39m \u001b[38;5;28;43mself\u001b[39;49m\u001b[38;5;241;43m.\u001b[39;49m\u001b[43m_make_engine\u001b[49m\u001b[43m(\u001b[49m\u001b[43mf\u001b[49m\u001b[43m,\u001b[49m\u001b[43m \u001b[49m\u001b[38;5;28;43mself\u001b[39;49m\u001b[38;5;241;43m.\u001b[39;49m\u001b[43mengine\u001b[49m\u001b[43m)\u001b[49m\n",
      "File \u001b[1;32mC:\\ProgramData\\Anaconda3\\lib\\site-packages\\pandas\\io\\parsers\\readers.py:1217\u001b[0m, in \u001b[0;36mTextFileReader._make_engine\u001b[1;34m(self, f, engine)\u001b[0m\n\u001b[0;32m   1213\u001b[0m     mode \u001b[38;5;241m=\u001b[39m \u001b[38;5;124m\"\u001b[39m\u001b[38;5;124mrb\u001b[39m\u001b[38;5;124m\"\u001b[39m\n\u001b[0;32m   1214\u001b[0m \u001b[38;5;66;03m# error: No overload variant of \"get_handle\" matches argument types\u001b[39;00m\n\u001b[0;32m   1215\u001b[0m \u001b[38;5;66;03m# \"Union[str, PathLike[str], ReadCsvBuffer[bytes], ReadCsvBuffer[str]]\"\u001b[39;00m\n\u001b[0;32m   1216\u001b[0m \u001b[38;5;66;03m# , \"str\", \"bool\", \"Any\", \"Any\", \"Any\", \"Any\", \"Any\"\u001b[39;00m\n\u001b[1;32m-> 1217\u001b[0m \u001b[38;5;28mself\u001b[39m\u001b[38;5;241m.\u001b[39mhandles \u001b[38;5;241m=\u001b[39m \u001b[43mget_handle\u001b[49m\u001b[43m(\u001b[49m\u001b[43m  \u001b[49m\u001b[38;5;66;43;03m# type: ignore[call-overload]\u001b[39;49;00m\n\u001b[0;32m   1218\u001b[0m \u001b[43m    \u001b[49m\u001b[43mf\u001b[49m\u001b[43m,\u001b[49m\n\u001b[0;32m   1219\u001b[0m \u001b[43m    \u001b[49m\u001b[43mmode\u001b[49m\u001b[43m,\u001b[49m\n\u001b[0;32m   1220\u001b[0m \u001b[43m    \u001b[49m\u001b[43mencoding\u001b[49m\u001b[38;5;241;43m=\u001b[39;49m\u001b[38;5;28;43mself\u001b[39;49m\u001b[38;5;241;43m.\u001b[39;49m\u001b[43moptions\u001b[49m\u001b[38;5;241;43m.\u001b[39;49m\u001b[43mget\u001b[49m\u001b[43m(\u001b[49m\u001b[38;5;124;43m\"\u001b[39;49m\u001b[38;5;124;43mencoding\u001b[39;49m\u001b[38;5;124;43m\"\u001b[39;49m\u001b[43m,\u001b[49m\u001b[43m \u001b[49m\u001b[38;5;28;43;01mNone\u001b[39;49;00m\u001b[43m)\u001b[49m\u001b[43m,\u001b[49m\n\u001b[0;32m   1221\u001b[0m \u001b[43m    \u001b[49m\u001b[43mcompression\u001b[49m\u001b[38;5;241;43m=\u001b[39;49m\u001b[38;5;28;43mself\u001b[39;49m\u001b[38;5;241;43m.\u001b[39;49m\u001b[43moptions\u001b[49m\u001b[38;5;241;43m.\u001b[39;49m\u001b[43mget\u001b[49m\u001b[43m(\u001b[49m\u001b[38;5;124;43m\"\u001b[39;49m\u001b[38;5;124;43mcompression\u001b[39;49m\u001b[38;5;124;43m\"\u001b[39;49m\u001b[43m,\u001b[49m\u001b[43m \u001b[49m\u001b[38;5;28;43;01mNone\u001b[39;49;00m\u001b[43m)\u001b[49m\u001b[43m,\u001b[49m\n\u001b[0;32m   1222\u001b[0m \u001b[43m    \u001b[49m\u001b[43mmemory_map\u001b[49m\u001b[38;5;241;43m=\u001b[39;49m\u001b[38;5;28;43mself\u001b[39;49m\u001b[38;5;241;43m.\u001b[39;49m\u001b[43moptions\u001b[49m\u001b[38;5;241;43m.\u001b[39;49m\u001b[43mget\u001b[49m\u001b[43m(\u001b[49m\u001b[38;5;124;43m\"\u001b[39;49m\u001b[38;5;124;43mmemory_map\u001b[39;49m\u001b[38;5;124;43m\"\u001b[39;49m\u001b[43m,\u001b[49m\u001b[43m \u001b[49m\u001b[38;5;28;43;01mFalse\u001b[39;49;00m\u001b[43m)\u001b[49m\u001b[43m,\u001b[49m\n\u001b[0;32m   1223\u001b[0m \u001b[43m    \u001b[49m\u001b[43mis_text\u001b[49m\u001b[38;5;241;43m=\u001b[39;49m\u001b[43mis_text\u001b[49m\u001b[43m,\u001b[49m\n\u001b[0;32m   1224\u001b[0m \u001b[43m    \u001b[49m\u001b[43merrors\u001b[49m\u001b[38;5;241;43m=\u001b[39;49m\u001b[38;5;28;43mself\u001b[39;49m\u001b[38;5;241;43m.\u001b[39;49m\u001b[43moptions\u001b[49m\u001b[38;5;241;43m.\u001b[39;49m\u001b[43mget\u001b[49m\u001b[43m(\u001b[49m\u001b[38;5;124;43m\"\u001b[39;49m\u001b[38;5;124;43mencoding_errors\u001b[39;49m\u001b[38;5;124;43m\"\u001b[39;49m\u001b[43m,\u001b[49m\u001b[43m \u001b[49m\u001b[38;5;124;43m\"\u001b[39;49m\u001b[38;5;124;43mstrict\u001b[39;49m\u001b[38;5;124;43m\"\u001b[39;49m\u001b[43m)\u001b[49m\u001b[43m,\u001b[49m\n\u001b[0;32m   1225\u001b[0m \u001b[43m    \u001b[49m\u001b[43mstorage_options\u001b[49m\u001b[38;5;241;43m=\u001b[39;49m\u001b[38;5;28;43mself\u001b[39;49m\u001b[38;5;241;43m.\u001b[39;49m\u001b[43moptions\u001b[49m\u001b[38;5;241;43m.\u001b[39;49m\u001b[43mget\u001b[49m\u001b[43m(\u001b[49m\u001b[38;5;124;43m\"\u001b[39;49m\u001b[38;5;124;43mstorage_options\u001b[39;49m\u001b[38;5;124;43m\"\u001b[39;49m\u001b[43m,\u001b[49m\u001b[43m \u001b[49m\u001b[38;5;28;43;01mNone\u001b[39;49;00m\u001b[43m)\u001b[49m\u001b[43m,\u001b[49m\n\u001b[0;32m   1226\u001b[0m \u001b[43m\u001b[49m\u001b[43m)\u001b[49m\n\u001b[0;32m   1227\u001b[0m \u001b[38;5;28;01massert\u001b[39;00m \u001b[38;5;28mself\u001b[39m\u001b[38;5;241m.\u001b[39mhandles \u001b[38;5;129;01mis\u001b[39;00m \u001b[38;5;129;01mnot\u001b[39;00m \u001b[38;5;28;01mNone\u001b[39;00m\n\u001b[0;32m   1228\u001b[0m f \u001b[38;5;241m=\u001b[39m \u001b[38;5;28mself\u001b[39m\u001b[38;5;241m.\u001b[39mhandles\u001b[38;5;241m.\u001b[39mhandle\n",
      "File \u001b[1;32mC:\\ProgramData\\Anaconda3\\lib\\site-packages\\pandas\\io\\common.py:789\u001b[0m, in \u001b[0;36mget_handle\u001b[1;34m(path_or_buf, mode, encoding, compression, memory_map, is_text, errors, storage_options)\u001b[0m\n\u001b[0;32m    784\u001b[0m \u001b[38;5;28;01melif\u001b[39;00m \u001b[38;5;28misinstance\u001b[39m(handle, \u001b[38;5;28mstr\u001b[39m):\n\u001b[0;32m    785\u001b[0m     \u001b[38;5;66;03m# Check whether the filename is to be opened in binary mode.\u001b[39;00m\n\u001b[0;32m    786\u001b[0m     \u001b[38;5;66;03m# Binary mode does not support 'encoding' and 'newline'.\u001b[39;00m\n\u001b[0;32m    787\u001b[0m     \u001b[38;5;28;01mif\u001b[39;00m ioargs\u001b[38;5;241m.\u001b[39mencoding \u001b[38;5;129;01mand\u001b[39;00m \u001b[38;5;124m\"\u001b[39m\u001b[38;5;124mb\u001b[39m\u001b[38;5;124m\"\u001b[39m \u001b[38;5;129;01mnot\u001b[39;00m \u001b[38;5;129;01min\u001b[39;00m ioargs\u001b[38;5;241m.\u001b[39mmode:\n\u001b[0;32m    788\u001b[0m         \u001b[38;5;66;03m# Encoding\u001b[39;00m\n\u001b[1;32m--> 789\u001b[0m         handle \u001b[38;5;241m=\u001b[39m \u001b[38;5;28;43mopen\u001b[39;49m\u001b[43m(\u001b[49m\n\u001b[0;32m    790\u001b[0m \u001b[43m            \u001b[49m\u001b[43mhandle\u001b[49m\u001b[43m,\u001b[49m\n\u001b[0;32m    791\u001b[0m \u001b[43m            \u001b[49m\u001b[43mioargs\u001b[49m\u001b[38;5;241;43m.\u001b[39;49m\u001b[43mmode\u001b[49m\u001b[43m,\u001b[49m\n\u001b[0;32m    792\u001b[0m \u001b[43m            \u001b[49m\u001b[43mencoding\u001b[49m\u001b[38;5;241;43m=\u001b[39;49m\u001b[43mioargs\u001b[49m\u001b[38;5;241;43m.\u001b[39;49m\u001b[43mencoding\u001b[49m\u001b[43m,\u001b[49m\n\u001b[0;32m    793\u001b[0m \u001b[43m            \u001b[49m\u001b[43merrors\u001b[49m\u001b[38;5;241;43m=\u001b[39;49m\u001b[43merrors\u001b[49m\u001b[43m,\u001b[49m\n\u001b[0;32m    794\u001b[0m \u001b[43m            \u001b[49m\u001b[43mnewline\u001b[49m\u001b[38;5;241;43m=\u001b[39;49m\u001b[38;5;124;43m\"\u001b[39;49m\u001b[38;5;124;43m\"\u001b[39;49m\u001b[43m,\u001b[49m\n\u001b[0;32m    795\u001b[0m \u001b[43m        \u001b[49m\u001b[43m)\u001b[49m\n\u001b[0;32m    796\u001b[0m     \u001b[38;5;28;01melse\u001b[39;00m:\n\u001b[0;32m    797\u001b[0m         \u001b[38;5;66;03m# Binary mode\u001b[39;00m\n\u001b[0;32m    798\u001b[0m         handle \u001b[38;5;241m=\u001b[39m \u001b[38;5;28mopen\u001b[39m(handle, ioargs\u001b[38;5;241m.\u001b[39mmode)\n",
      "\u001b[1;31mFileNotFoundError\u001b[0m: [Errno 2] No such file or directory: 'alturas.csv'"
     ]
    }
   ],
   "source": [
    "import pandas as pd # módulo de análise de dados de Python\n",
    "import matplotlib as plt # módulo de visualização de dados\n",
    "import numpy as np # módulo Python Numérico\n",
    "import seaborn as sns # módulo de visualização de dados mais aprimorado\n",
    "\n",
    "alturas = pd.read_csv(\"alturas.csv\", sep=None, engine='python')"
   ]
  },
  {
   "cell_type": "code",
   "execution_count": 4,
   "id": "b17f2077",
   "metadata": {},
   "outputs": [
    {
     "data": {
      "text/html": [
       "<div>\n",
       "<style scoped>\n",
       "    .dataframe tbody tr th:only-of-type {\n",
       "        vertical-align: middle;\n",
       "    }\n",
       "\n",
       "    .dataframe tbody tr th {\n",
       "        vertical-align: top;\n",
       "    }\n",
       "\n",
       "    .dataframe thead th {\n",
       "        text-align: right;\n",
       "    }\n",
       "</style>\n",
       "<table border=\"1\" class=\"dataframe\">\n",
       "  <thead>\n",
       "    <tr style=\"text-align: right;\">\n",
       "      <th></th>\n",
       "      <th>sexo</th>\n",
       "      <th>altura</th>\n",
       "    </tr>\n",
       "  </thead>\n",
       "  <tbody>\n",
       "    <tr>\n",
       "      <th>0</th>\n",
       "      <td>M</td>\n",
       "      <td>1.80</td>\n",
       "    </tr>\n",
       "    <tr>\n",
       "      <th>1</th>\n",
       "      <td>M</td>\n",
       "      <td>1.81</td>\n",
       "    </tr>\n",
       "    <tr>\n",
       "      <th>2</th>\n",
       "      <td>F</td>\n",
       "      <td>1.70</td>\n",
       "    </tr>\n",
       "    <tr>\n",
       "      <th>3</th>\n",
       "      <td>F</td>\n",
       "      <td>1.60</td>\n",
       "    </tr>\n",
       "    <tr>\n",
       "      <th>4</th>\n",
       "      <td>F</td>\n",
       "      <td>1.68</td>\n",
       "    </tr>\n",
       "  </tbody>\n",
       "</table>\n",
       "</div>"
      ],
      "text/plain": [
       "  sexo  altura\n",
       "0    M    1.80\n",
       "1    M    1.81\n",
       "2    F    1.70\n",
       "3    F    1.60\n",
       "4    F    1.68"
      ]
     },
     "execution_count": 4,
     "metadata": {},
     "output_type": "execute_result"
    }
   ],
   "source": [
    "alturas.head()  # mostra os 5 primeiros valores (cabeçalho)"
   ]
  },
  {
   "cell_type": "code",
   "execution_count": 6,
   "id": "1c7bbf0b",
   "metadata": {},
   "outputs": [
    {
     "data": {
      "text/html": [
       "<div>\n",
       "<style scoped>\n",
       "    .dataframe tbody tr th:only-of-type {\n",
       "        vertical-align: middle;\n",
       "    }\n",
       "\n",
       "    .dataframe tbody tr th {\n",
       "        vertical-align: top;\n",
       "    }\n",
       "\n",
       "    .dataframe thead th {\n",
       "        text-align: right;\n",
       "    }\n",
       "</style>\n",
       "<table border=\"1\" class=\"dataframe\">\n",
       "  <thead>\n",
       "    <tr style=\"text-align: right;\">\n",
       "      <th></th>\n",
       "      <th>sexo</th>\n",
       "      <th>altura</th>\n",
       "    </tr>\n",
       "  </thead>\n",
       "  <tbody>\n",
       "    <tr>\n",
       "      <th>0</th>\n",
       "      <td>M</td>\n",
       "      <td>1.80</td>\n",
       "    </tr>\n",
       "    <tr>\n",
       "      <th>1</th>\n",
       "      <td>M</td>\n",
       "      <td>1.81</td>\n",
       "    </tr>\n",
       "    <tr>\n",
       "      <th>2</th>\n",
       "      <td>F</td>\n",
       "      <td>1.70</td>\n",
       "    </tr>\n",
       "  </tbody>\n",
       "</table>\n",
       "</div>"
      ],
      "text/plain": [
       "  sexo  altura\n",
       "0    M    1.80\n",
       "1    M    1.81\n",
       "2    F    1.70"
      ]
     },
     "execution_count": 6,
     "metadata": {},
     "output_type": "execute_result"
    }
   ],
   "source": [
    "alturas.head(3)"
   ]
  },
  {
   "cell_type": "code",
   "execution_count": 7,
   "id": "da3a1d8b",
   "metadata": {},
   "outputs": [
    {
     "data": {
      "text/html": [
       "<div>\n",
       "<style scoped>\n",
       "    .dataframe tbody tr th:only-of-type {\n",
       "        vertical-align: middle;\n",
       "    }\n",
       "\n",
       "    .dataframe tbody tr th {\n",
       "        vertical-align: top;\n",
       "    }\n",
       "\n",
       "    .dataframe thead th {\n",
       "        text-align: right;\n",
       "    }\n",
       "</style>\n",
       "<table border=\"1\" class=\"dataframe\">\n",
       "  <thead>\n",
       "    <tr style=\"text-align: right;\">\n",
       "      <th></th>\n",
       "      <th>sexo</th>\n",
       "      <th>altura</th>\n",
       "    </tr>\n",
       "  </thead>\n",
       "  <tbody>\n",
       "    <tr>\n",
       "      <th>205</th>\n",
       "      <td>F</td>\n",
       "      <td>1.65</td>\n",
       "    </tr>\n",
       "    <tr>\n",
       "      <th>206</th>\n",
       "      <td>M</td>\n",
       "      <td>1.70</td>\n",
       "    </tr>\n",
       "    <tr>\n",
       "      <th>207</th>\n",
       "      <td>M</td>\n",
       "      <td>1.70</td>\n",
       "    </tr>\n",
       "    <tr>\n",
       "      <th>208</th>\n",
       "      <td>M</td>\n",
       "      <td>1.80</td>\n",
       "    </tr>\n",
       "    <tr>\n",
       "      <th>209</th>\n",
       "      <td>M</td>\n",
       "      <td>1.85</td>\n",
       "    </tr>\n",
       "  </tbody>\n",
       "</table>\n",
       "</div>"
      ],
      "text/plain": [
       "    sexo  altura\n",
       "205    F    1.65\n",
       "206    M    1.70\n",
       "207    M    1.70\n",
       "208    M    1.80\n",
       "209    M    1.85"
      ]
     },
     "execution_count": 7,
     "metadata": {},
     "output_type": "execute_result"
    }
   ],
   "source": [
    "alturas.tail() # mostra os 5 últimos registros do dataframe"
   ]
  },
  {
   "cell_type": "code",
   "execution_count": 68,
   "id": "32ca8ef2",
   "metadata": {},
   "outputs": [
    {
     "data": {
      "text/plain": [
       "(210, 2)"
      ]
     },
     "execution_count": 68,
     "metadata": {},
     "output_type": "execute_result"
    }
   ],
   "source": [
    "alturas.shape # dimensões do dataframe"
   ]
  },
  {
   "cell_type": "code",
   "execution_count": 8,
   "id": "8ef2af08",
   "metadata": {},
   "outputs": [
    {
     "data": {
      "text/plain": [
       "sexo       object\n",
       "altura    float64\n",
       "dtype: object"
      ]
     },
     "execution_count": 8,
     "metadata": {},
     "output_type": "execute_result"
    }
   ],
   "source": [
    "alturas.dtypes # tipos de dados das colunas"
   ]
  },
  {
   "cell_type": "raw",
   "id": "e0c86161",
   "metadata": {},
   "source": [
    "Temos tipos numérico (float) e categórico (string/caractere = object)"
   ]
  },
  {
   "cell_type": "code",
   "execution_count": 126,
   "id": "6177a8e4",
   "metadata": {},
   "outputs": [
    {
     "name": "stdout",
     "output_type": "stream",
     "text": [
      "<class 'pandas.core.frame.DataFrame'>\n",
      "RangeIndex: 210 entries, 0 to 209\n",
      "Data columns (total 2 columns):\n",
      " #   Column  Non-Null Count  Dtype  \n",
      "---  ------  --------------  -----  \n",
      " 0   sexo    210 non-null    object \n",
      " 1   altura  210 non-null    float64\n",
      "dtypes: float64(1), object(1)\n",
      "memory usage: 3.4+ KB\n"
     ]
    }
   ],
   "source": [
    "alturas.info() # tipo de dado de cada coluna, valores não-faltantes e uso de memória"
   ]
  },
  {
   "cell_type": "code",
   "execution_count": 9,
   "id": "7470e308",
   "metadata": {},
   "outputs": [
    {
     "data": {
      "text/plain": [
       "Index(['sexo', 'altura'], dtype='object')"
      ]
     },
     "execution_count": 9,
     "metadata": {},
     "output_type": "execute_result"
    }
   ],
   "source": [
    "alturas.columns # mostra os nomes das colunas"
   ]
  },
  {
   "cell_type": "code",
   "execution_count": 1,
   "id": "6c82fb23",
   "metadata": {},
   "outputs": [],
   "source": [
    "# alturas.index"
   ]
  },
  {
   "cell_type": "code",
   "execution_count": 129,
   "id": "ff397988",
   "metadata": {},
   "outputs": [
    {
     "data": {
      "text/plain": [
       "sexo         F\n",
       "altura    1.48\n",
       "dtype: object"
      ]
     },
     "execution_count": 129,
     "metadata": {},
     "output_type": "execute_result"
    }
   ],
   "source": [
    "alturas.min()"
   ]
  },
  {
   "cell_type": "code",
   "execution_count": 130,
   "id": "ac1386df",
   "metadata": {},
   "outputs": [
    {
     "data": {
      "text/plain": [
       "sexo         M\n",
       "altura    2.03\n",
       "dtype: object"
      ]
     },
     "execution_count": 130,
     "metadata": {},
     "output_type": "execute_result"
    }
   ],
   "source": [
    "alturas.max()"
   ]
  },
  {
   "cell_type": "code",
   "execution_count": 131,
   "id": "0e62970d",
   "metadata": {},
   "outputs": [
    {
     "data": {
      "text/plain": [
       "altura    1.707667\n",
       "dtype: float64"
      ]
     },
     "execution_count": 131,
     "metadata": {},
     "output_type": "execute_result"
    }
   ],
   "source": [
    "alturas.mean()"
   ]
  },
  {
   "cell_type": "code",
   "execution_count": 132,
   "id": "ba7e7747",
   "metadata": {},
   "outputs": [
    {
     "data": {
      "text/plain": [
       "altura    1.71\n",
       "dtype: float64"
      ]
     },
     "execution_count": 132,
     "metadata": {},
     "output_type": "execute_result"
    }
   ],
   "source": [
    "alturas.median()"
   ]
  },
  {
   "cell_type": "code",
   "execution_count": 133,
   "id": "0c721050",
   "metadata": {},
   "outputs": [
    {
     "data": {
      "text/html": [
       "<div>\n",
       "<style scoped>\n",
       "    .dataframe tbody tr th:only-of-type {\n",
       "        vertical-align: middle;\n",
       "    }\n",
       "\n",
       "    .dataframe tbody tr th {\n",
       "        vertical-align: top;\n",
       "    }\n",
       "\n",
       "    .dataframe thead th {\n",
       "        text-align: right;\n",
       "    }\n",
       "</style>\n",
       "<table border=\"1\" class=\"dataframe\">\n",
       "  <thead>\n",
       "    <tr style=\"text-align: right;\">\n",
       "      <th></th>\n",
       "      <th>sexo</th>\n",
       "      <th>altura</th>\n",
       "    </tr>\n",
       "  </thead>\n",
       "  <tbody>\n",
       "    <tr>\n",
       "      <th>0</th>\n",
       "      <td>M</td>\n",
       "      <td>1.8</td>\n",
       "    </tr>\n",
       "  </tbody>\n",
       "</table>\n",
       "</div>"
      ],
      "text/plain": [
       "  sexo  altura\n",
       "0    M     1.8"
      ]
     },
     "execution_count": 133,
     "metadata": {},
     "output_type": "execute_result"
    }
   ],
   "source": [
    "alturas.mode()"
   ]
  },
  {
   "cell_type": "code",
   "execution_count": 134,
   "id": "ed9182fd",
   "metadata": {},
   "outputs": [
    {
     "data": {
      "text/plain": [
       "altura    0.106631\n",
       "dtype: float64"
      ]
     },
     "execution_count": 134,
     "metadata": {},
     "output_type": "execute_result"
    }
   ],
   "source": [
    "alturas.std()"
   ]
  },
  {
   "cell_type": "code",
   "execution_count": 135,
   "id": "3831dfb6",
   "metadata": {},
   "outputs": [
    {
     "data": {
      "text/plain": [
       "altura    0.01137\n",
       "dtype: float64"
      ]
     },
     "execution_count": 135,
     "metadata": {},
     "output_type": "execute_result"
    }
   ],
   "source": [
    "alturas.var()"
   ]
  },
  {
   "cell_type": "code",
   "execution_count": 136,
   "id": "5f96270f",
   "metadata": {},
   "outputs": [
    {
     "data": {
      "text/plain": [
       "array([['M', 1.8],\n",
       "       ['M', 1.81],\n",
       "       ['F', 1.7],\n",
       "       ['F', 1.6],\n",
       "       ['F', 1.68],\n",
       "       ['M', 1.9],\n",
       "       ['M', 1.7],\n",
       "       ['M', 1.76],\n",
       "       ['M', 1.72],\n",
       "       ['F', 1.65],\n",
       "       ['F', 1.68],\n",
       "       ['M', 1.83],\n",
       "       ['M', 1.77],\n",
       "       ['F', 1.55],\n",
       "       ['F', 1.71],\n",
       "       ['M', 1.88],\n",
       "       ['F', 1.67],\n",
       "       ['F', 1.58],\n",
       "       ['M', 1.82],\n",
       "       ['M', 1.78],\n",
       "       ['F', 1.66],\n",
       "       ['M', 1.75],\n",
       "       ['M', 1.73],\n",
       "       ['F', 1.52],\n",
       "       ['M', 1.79],\n",
       "       ['F', 1.64],\n",
       "       ['F', 1.59],\n",
       "       ['M', 1.69],\n",
       "       ['M', 2.03],\n",
       "       ['M', 1.92],\n",
       "       ['M', 1.7],\n",
       "       ['F', 1.6],\n",
       "       ['F', 1.73],\n",
       "       ['M', 1.53],\n",
       "       ['M', 1.59],\n",
       "       ['M', 1.69],\n",
       "       ['M', 1.67],\n",
       "       ['F', 1.64],\n",
       "       ['F', 1.75],\n",
       "       ['F', 1.79],\n",
       "       ['F', 1.56],\n",
       "       ['M', 1.8],\n",
       "       ['M', 1.76],\n",
       "       ['M', 1.85],\n",
       "       ['F', 1.65],\n",
       "       ['M', 1.72],\n",
       "       ['F', 1.61],\n",
       "       ['M', 1.78],\n",
       "       ['F', 1.56],\n",
       "       ['M', 1.7],\n",
       "       ['M', 1.8],\n",
       "       ['F', 1.63],\n",
       "       ['F', 1.65],\n",
       "       ['M', 1.77],\n",
       "       ['F', 1.55],\n",
       "       ['M', 1.65],\n",
       "       ['F', 1.57],\n",
       "       ['M', 1.73],\n",
       "       ['F', 1.68],\n",
       "       ['M', 1.85],\n",
       "       ['M', 1.65],\n",
       "       ['F', 1.6],\n",
       "       ['M', 1.68],\n",
       "       ['F', 1.5],\n",
       "       ['M', 1.72],\n",
       "       ['F', 1.57],\n",
       "       ['M', 1.82],\n",
       "       ['M', 1.92],\n",
       "       ['M', 1.82],\n",
       "       ['F', 1.84],\n",
       "       ['M', 1.85],\n",
       "       ['F', 1.94],\n",
       "       ['F', 1.54],\n",
       "       ['M', 1.7],\n",
       "       ['F', 1.67],\n",
       "       ['M', 1.78],\n",
       "       ['M', 1.78],\n",
       "       ['F', 1.51],\n",
       "       ['F', 1.51],\n",
       "       ['F', 1.71],\n",
       "       ['F', 1.7],\n",
       "       ['M', 2.0],\n",
       "       ['F', 1.8],\n",
       "       ['F', 1.82],\n",
       "       ['M', 1.75],\n",
       "       ['M', 1.8],\n",
       "       ['M', 1.86],\n",
       "       ['M', 1.9],\n",
       "       ['F', 1.83],\n",
       "       ['M', 1.86],\n",
       "       ['M', 1.85],\n",
       "       ['M', 1.71],\n",
       "       ['F', 1.69],\n",
       "       ['M', 1.76],\n",
       "       ['M', 1.69],\n",
       "       ['M', 1.78],\n",
       "       ['F', 1.48],\n",
       "       ['M', 1.69],\n",
       "       ['F', 1.6],\n",
       "       ['M', 1.81],\n",
       "       ['F', 1.62],\n",
       "       ['F', 1.58],\n",
       "       ['F', 1.67],\n",
       "       ['M', 1.74],\n",
       "       ['F', 1.66],\n",
       "       ['M', 1.62],\n",
       "       ['F', 1.53],\n",
       "       ['F', 1.57],\n",
       "       ['F', 1.55],\n",
       "       ['M', 1.82],\n",
       "       ['M', 1.72],\n",
       "       ['M', 1.75],\n",
       "       ['F', 1.71],\n",
       "       ['M', 1.67],\n",
       "       ['M', 1.61],\n",
       "       ['F', 1.69],\n",
       "       ['M', 1.6],\n",
       "       ['F', 1.56],\n",
       "       ['F', 1.59],\n",
       "       ['M', 1.66],\n",
       "       ['F', 1.63],\n",
       "       ['F', 1.6],\n",
       "       ['M', 1.78],\n",
       "       ['F', 1.56],\n",
       "       ['M', 1.71],\n",
       "       ['M', 1.79],\n",
       "       ['M', 1.73],\n",
       "       ['M', 1.64],\n",
       "       ['F', 1.64],\n",
       "       ['M', 1.76],\n",
       "       ['M', 1.74],\n",
       "       ['M', 1.72],\n",
       "       ['F', 1.69],\n",
       "       ['F', 1.53],\n",
       "       ['M', 1.8],\n",
       "       ['M', 1.78],\n",
       "       ['M', 1.7],\n",
       "       ['F', 1.72],\n",
       "       ['F', 1.68],\n",
       "       ['M', 1.73],\n",
       "       ['F', 1.5],\n",
       "       ['M', 1.71],\n",
       "       ['M', 1.72],\n",
       "       ['M', 1.86],\n",
       "       ['M', 1.8],\n",
       "       ['F', 1.67],\n",
       "       ['F', 1.6],\n",
       "       ['M', 1.72],\n",
       "       ['F', 1.6],\n",
       "       ['M', 1.85],\n",
       "       ['M', 1.8],\n",
       "       ['F', 1.73],\n",
       "       ['M', 1.91],\n",
       "       ['M', 1.58],\n",
       "       ['M', 1.8],\n",
       "       ['F', 1.52],\n",
       "       ['F', 1.5],\n",
       "       ['M', 1.8],\n",
       "       ['M', 1.71],\n",
       "       ['M', 1.75],\n",
       "       ['F', 1.6],\n",
       "       ['M', 1.75],\n",
       "       ['F', 1.58],\n",
       "       ['F', 1.56],\n",
       "       ['M', 1.78],\n",
       "       ['F', 1.67],\n",
       "       ['F', 1.71],\n",
       "       ['F', 1.73],\n",
       "       ['F', 1.6],\n",
       "       ['F', 1.72],\n",
       "       ['F', 1.8],\n",
       "       ['F', 1.5],\n",
       "       ['M', 1.75],\n",
       "       ['M', 1.77],\n",
       "       ['M', 1.8],\n",
       "       ['M', 1.81],\n",
       "       ['M', 1.86],\n",
       "       ['M', 1.7],\n",
       "       ['M', 1.68],\n",
       "       ['M', 1.71],\n",
       "       ['F', 1.52],\n",
       "       ['M', 1.63],\n",
       "       ['M', 1.67],\n",
       "       ['F', 1.75],\n",
       "       ['M', 1.81],\n",
       "       ['M', 1.75],\n",
       "       ['M', 1.79],\n",
       "       ['M', 1.64],\n",
       "       ['M', 1.81],\n",
       "       ['M', 1.76],\n",
       "       ['F', 1.69],\n",
       "       ['M', 2.0],\n",
       "       ['M', 1.64],\n",
       "       ['F', 1.57],\n",
       "       ['F', 1.69],\n",
       "       ['M', 1.8],\n",
       "       ['M', 1.73],\n",
       "       ['F', 1.63],\n",
       "       ['F', 1.61],\n",
       "       ['M', 1.79],\n",
       "       ['M', 1.75],\n",
       "       ['F', 1.61],\n",
       "       ['M', 1.65],\n",
       "       ['F', 1.85],\n",
       "       ['F', 1.75],\n",
       "       ['F', 1.65],\n",
       "       ['M', 1.7],\n",
       "       ['M', 1.7],\n",
       "       ['M', 1.8],\n",
       "       ['M', 1.85]], dtype=object)"
      ]
     },
     "execution_count": 136,
     "metadata": {},
     "output_type": "execute_result"
    }
   ],
   "source": [
    "alturas.values # retorna valores na forma de vetor/matriz ('array')"
   ]
  },
  {
   "cell_type": "code",
   "execution_count": 137,
   "id": "c1a23e48",
   "metadata": {},
   "outputs": [
    {
     "data": {
      "text/html": [
       "<div>\n",
       "<style scoped>\n",
       "    .dataframe tbody tr th:only-of-type {\n",
       "        vertical-align: middle;\n",
       "    }\n",
       "\n",
       "    .dataframe tbody tr th {\n",
       "        vertical-align: top;\n",
       "    }\n",
       "\n",
       "    .dataframe thead th {\n",
       "        text-align: right;\n",
       "    }\n",
       "</style>\n",
       "<table border=\"1\" class=\"dataframe\">\n",
       "  <thead>\n",
       "    <tr style=\"text-align: right;\">\n",
       "      <th></th>\n",
       "      <th>altura</th>\n",
       "    </tr>\n",
       "  </thead>\n",
       "  <tbody>\n",
       "    <tr>\n",
       "      <th>count</th>\n",
       "      <td>210.000000</td>\n",
       "    </tr>\n",
       "    <tr>\n",
       "      <th>mean</th>\n",
       "      <td>1.707667</td>\n",
       "    </tr>\n",
       "    <tr>\n",
       "      <th>std</th>\n",
       "      <td>0.106631</td>\n",
       "    </tr>\n",
       "    <tr>\n",
       "      <th>min</th>\n",
       "      <td>1.480000</td>\n",
       "    </tr>\n",
       "    <tr>\n",
       "      <th>25%</th>\n",
       "      <td>1.632500</td>\n",
       "    </tr>\n",
       "    <tr>\n",
       "      <th>50%</th>\n",
       "      <td>1.710000</td>\n",
       "    </tr>\n",
       "    <tr>\n",
       "      <th>75%</th>\n",
       "      <td>1.787500</td>\n",
       "    </tr>\n",
       "    <tr>\n",
       "      <th>max</th>\n",
       "      <td>2.030000</td>\n",
       "    </tr>\n",
       "  </tbody>\n",
       "</table>\n",
       "</div>"
      ],
      "text/plain": [
       "           altura\n",
       "count  210.000000\n",
       "mean     1.707667\n",
       "std      0.106631\n",
       "min      1.480000\n",
       "25%      1.632500\n",
       "50%      1.710000\n",
       "75%      1.787500\n",
       "max      2.030000"
      ]
     },
     "execution_count": 137,
     "metadata": {},
     "output_type": "execute_result"
    }
   ],
   "source": [
    "alturas.describe() # resumo estatístico"
   ]
  },
  {
   "cell_type": "code",
   "execution_count": 138,
   "id": "6c1cd7c1",
   "metadata": {},
   "outputs": [
    {
     "data": {
      "text/plain": [
       "count    210.000000\n",
       "mean       1.707667\n",
       "std        0.106631\n",
       "min        1.480000\n",
       "25%        1.632500\n",
       "50%        1.710000\n",
       "75%        1.787500\n",
       "max        2.030000\n",
       "Name: altura, dtype: float64"
      ]
     },
     "execution_count": 138,
     "metadata": {},
     "output_type": "execute_result"
    }
   ],
   "source": [
    "alturas.altura.describe()"
   ]
  },
  {
   "cell_type": "code",
   "execution_count": 139,
   "id": "b6d43f22",
   "metadata": {},
   "outputs": [
    {
     "data": {
      "text/html": [
       "<div>\n",
       "<style scoped>\n",
       "    .dataframe tbody tr th:only-of-type {\n",
       "        vertical-align: middle;\n",
       "    }\n",
       "\n",
       "    .dataframe tbody tr th {\n",
       "        vertical-align: top;\n",
       "    }\n",
       "\n",
       "    .dataframe thead th {\n",
       "        text-align: right;\n",
       "    }\n",
       "</style>\n",
       "<table border=\"1\" class=\"dataframe\">\n",
       "  <thead>\n",
       "    <tr style=\"text-align: right;\">\n",
       "      <th></th>\n",
       "      <th>sexo</th>\n",
       "      <th>altura</th>\n",
       "    </tr>\n",
       "  </thead>\n",
       "  <tbody>\n",
       "    <tr>\n",
       "      <th>5</th>\n",
       "      <td>M</td>\n",
       "      <td>1.90</td>\n",
       "    </tr>\n",
       "    <tr>\n",
       "      <th>28</th>\n",
       "      <td>M</td>\n",
       "      <td>2.03</td>\n",
       "    </tr>\n",
       "    <tr>\n",
       "      <th>29</th>\n",
       "      <td>M</td>\n",
       "      <td>1.92</td>\n",
       "    </tr>\n",
       "    <tr>\n",
       "      <th>67</th>\n",
       "      <td>M</td>\n",
       "      <td>1.92</td>\n",
       "    </tr>\n",
       "    <tr>\n",
       "      <th>71</th>\n",
       "      <td>F</td>\n",
       "      <td>1.94</td>\n",
       "    </tr>\n",
       "    <tr>\n",
       "      <th>81</th>\n",
       "      <td>M</td>\n",
       "      <td>2.00</td>\n",
       "    </tr>\n",
       "    <tr>\n",
       "      <th>87</th>\n",
       "      <td>M</td>\n",
       "      <td>1.90</td>\n",
       "    </tr>\n",
       "    <tr>\n",
       "      <th>152</th>\n",
       "      <td>M</td>\n",
       "      <td>1.91</td>\n",
       "    </tr>\n",
       "    <tr>\n",
       "      <th>191</th>\n",
       "      <td>M</td>\n",
       "      <td>2.00</td>\n",
       "    </tr>\n",
       "  </tbody>\n",
       "</table>\n",
       "</div>"
      ],
      "text/plain": [
       "    sexo  altura\n",
       "5      M    1.90\n",
       "28     M    2.03\n",
       "29     M    1.92\n",
       "67     M    1.92\n",
       "71     F    1.94\n",
       "81     M    2.00\n",
       "87     M    1.90\n",
       "152    M    1.91\n",
       "191    M    2.00"
      ]
     },
     "execution_count": 139,
     "metadata": {},
     "output_type": "execute_result"
    }
   ],
   "source": [
    "alturas.query('altura >= 1.90') # busca ou pesquisa nos dados"
   ]
  },
  {
   "cell_type": "code",
   "execution_count": 141,
   "id": "82db4271",
   "metadata": {},
   "outputs": [
    {
     "data": {
      "text/plain": [
       "sexo\n",
       "F     91\n",
       "M    119\n",
       "dtype: int64"
      ]
     },
     "execution_count": 141,
     "metadata": {},
     "output_type": "execute_result"
    }
   ],
   "source": [
    "alturas.groupby('sexo').size()"
   ]
  },
  {
   "cell_type": "code",
   "execution_count": 142,
   "id": "61ee003f",
   "metadata": {},
   "outputs": [
    {
     "data": {
      "text/plain": [
       "sexo  altura\n",
       "F     1.60      9\n",
       "      1.56      5\n",
       "      1.67      5\n",
       "      1.69      5\n",
       "      1.50      4\n",
       "               ..\n",
       "M     1.66      1\n",
       "      1.83      1\n",
       "      1.88      1\n",
       "      1.91      1\n",
       "      2.03      1\n",
       "Name: altura, Length: 68, dtype: int64"
      ]
     },
     "execution_count": 142,
     "metadata": {},
     "output_type": "execute_result"
    }
   ],
   "source": [
    "alturas.groupby('sexo')['altura'].value_counts() # agrupamento de valores de acordo com algum critério"
   ]
  },
  {
   "cell_type": "code",
   "execution_count": 143,
   "id": "60849678",
   "metadata": {},
   "outputs": [
    {
     "data": {
      "text/html": [
       "<div>\n",
       "<style scoped>\n",
       "    .dataframe tbody tr th:only-of-type {\n",
       "        vertical-align: middle;\n",
       "    }\n",
       "\n",
       "    .dataframe tbody tr th {\n",
       "        vertical-align: top;\n",
       "    }\n",
       "\n",
       "    .dataframe thead th {\n",
       "        text-align: right;\n",
       "    }\n",
       "</style>\n",
       "<table border=\"1\" class=\"dataframe\">\n",
       "  <thead>\n",
       "    <tr style=\"text-align: right;\">\n",
       "      <th></th>\n",
       "      <th>altura</th>\n",
       "    </tr>\n",
       "  </thead>\n",
       "  <tbody>\n",
       "    <tr>\n",
       "      <th>altura</th>\n",
       "      <td>1.0</td>\n",
       "    </tr>\n",
       "  </tbody>\n",
       "</table>\n",
       "</div>"
      ],
      "text/plain": [
       "        altura\n",
       "altura     1.0"
      ]
     },
     "execution_count": 143,
     "metadata": {},
     "output_type": "execute_result"
    }
   ],
   "source": [
    "alturas.corr()"
   ]
  },
  {
   "cell_type": "code",
   "execution_count": 144,
   "id": "28f4dd66",
   "metadata": {},
   "outputs": [
    {
     "data": {
      "text/plain": [
       "<AxesSubplot:>"
      ]
     },
     "execution_count": 144,
     "metadata": {},
     "output_type": "execute_result"
    },
    {
     "data": {
      "image/png": "[encoded data removed]",
      "text/plain": [
       "<Figure size 432x288 with 1 Axes>"
      ]
     },
     "metadata": {
      "needs_background": "light"
     },
     "output_type": "display_data"
    }
   ],
   "source": [
    "alturas.altura.hist()"
   ]
  },
  {
   "cell_type": "code",
   "execution_count": 145,
   "id": "3bd63c01",
   "metadata": {},
   "outputs": [
    {
     "data": {
      "text/plain": [
       "<AxesSubplot:xlabel='altura', ylabel='count'>"
      ]
     },
     "execution_count": 145,
     "metadata": {},
     "output_type": "execute_result"
    },
    {
     "data": {
      "image/png": "[encoded data removed]",
      "text/plain": [
       "<Figure size 432x288 with 1 Axes>"
      ]
     },
     "metadata": {
      "needs_background": "light"
     },
     "output_type": "display_data"
    }
   ],
   "source": [
    "sns.countplot(x='altura', data=alturas)"
   ]
  },
  {
   "cell_type": "code",
   "execution_count": 146,
   "id": "5271ea37",
   "metadata": {},
   "outputs": [
    {
     "data": {
      "text/plain": [
       "<AxesSubplot:>"
      ]
     },
     "execution_count": 146,
     "metadata": {},
     "output_type": "execute_result"
    },
    {
     "data": {
      "image/png": "[encoded data removed]",
      "text/plain": [
       "<Figure size 432x288 with 1 Axes>"
      ]
     },
     "metadata": {
      "needs_background": "light"
     },
     "output_type": "display_data"
    }
   ],
   "source": [
    "alturas.sexo.value_counts().plot.bar()"
   ]
  },
  {
   "cell_type": "code",
   "execution_count": 147,
   "id": "c7844abd",
   "metadata": {},
   "outputs": [
    {
     "name": "stderr",
     "output_type": "stream",
     "text": [
      "C:\\Users\\renato soffner\\anaconda3\\lib\\site-packages\\seaborn\\distributions.py:2557: FutureWarning: `distplot` is a deprecated function and will be removed in a future version. Please adapt your code to use either `displot` (a figure-level function with similar flexibility) or `histplot` (an axes-level function for histograms).\n",
      "  warnings.warn(msg, FutureWarning)\n"
     ]
    },
    {
     "data": {
      "text/plain": [
       "<AxesSubplot:xlabel='altura', ylabel='Density'>"
      ]
     },
     "execution_count": 147,
     "metadata": {},
     "output_type": "execute_result"
    },
    {
     "data": {
      "image/png": "[encoded data removed]",
      "text/plain": [
       "<Figure size 432x288 with 1 Axes>"
      ]
     },
     "metadata": {
      "needs_background": "light"
     },
     "output_type": "display_data"
    }
   ],
   "source": [
    "sns.distplot(alturas['altura'])"
   ]
  },
  {
   "cell_type": "code",
   "execution_count": 148,
   "id": "4c240ddb",
   "metadata": {},
   "outputs": [
    {
     "data": {
      "image/png": "[encoded data removed]",
      "text/plain": [
       "<Figure size 180x180 with 2 Axes>"
      ]
     },
     "metadata": {
      "needs_background": "light"
     },
     "output_type": "display_data"
    }
   ],
   "source": [
    "pp = sns.pairplot(alturas)"
   ]
  },
  {
   "cell_type": "code",
   "execution_count": 149,
   "id": "6d10cd8d",
   "metadata": {},
   "outputs": [
    {
     "data": {
      "text/plain": [
       "<AxesSubplot:>"
      ]
     },
     "execution_count": 149,
     "metadata": {},
     "output_type": "execute_result"
    },
    {
     "data": {
      "image/png": "[encoded data removed]",
      "text/plain": [
       "<Figure size 720x576 with 1 Axes>"
      ]
     },
     "metadata": {
      "needs_background": "light"
     },
     "output_type": "display_data"
    }
   ],
   "source": [
    "alturas.boxplot(column = ['altura'], figsize=(10, 8))"
   ]
  },
  {
   "cell_type": "code",
   "execution_count": 150,
   "id": "f151fcdb",
   "metadata": {},
   "outputs": [
    {
     "data": {
      "text/plain": [
       "<AxesSubplot:xlabel='sexo', ylabel='altura'>"
      ]
     },
     "execution_count": 150,
     "metadata": {},
     "output_type": "execute_result"
    },
    {
     "data": {
      "image/png": "[encoded data removed]",
      "text/plain": [
       "<Figure size 1080x720 with 1 Axes>"
      ]
     },
     "metadata": {
      "needs_background": "light"
     },
     "output_type": "display_data"
    }
   ],
   "source": [
    "alturas.plot.scatter(x='sexo', y='altura', figsize=(15, 10))"
   ]
  },
  {
   "cell_type": "code",
   "execution_count": 70,
   "id": "bb4dbadc",
   "metadata": {},
   "outputs": [
    {
     "data": {
      "text/html": [
       "<div>\n",
       "<style scoped>\n",
       "    .dataframe tbody tr th:only-of-type {\n",
       "        vertical-align: middle;\n",
       "    }\n",
       "\n",
       "    .dataframe tbody tr th {\n",
       "        vertical-align: top;\n",
       "    }\n",
       "\n",
       "    .dataframe thead th {\n",
       "        text-align: right;\n",
       "    }\n",
       "</style>\n",
       "<table border=\"1\" class=\"dataframe\">\n",
       "  <thead>\n",
       "    <tr style=\"text-align: right;\">\n",
       "      <th></th>\n",
       "      <th>sexo</th>\n",
       "      <th>altura</th>\n",
       "    </tr>\n",
       "  </thead>\n",
       "  <tbody>\n",
       "    <tr>\n",
       "      <th>28</th>\n",
       "      <td>M</td>\n",
       "      <td>2.03</td>\n",
       "    </tr>\n",
       "    <tr>\n",
       "      <th>81</th>\n",
       "      <td>M</td>\n",
       "      <td>2.00</td>\n",
       "    </tr>\n",
       "    <tr>\n",
       "      <th>191</th>\n",
       "      <td>M</td>\n",
       "      <td>2.00</td>\n",
       "    </tr>\n",
       "    <tr>\n",
       "      <th>71</th>\n",
       "      <td>F</td>\n",
       "      <td>1.94</td>\n",
       "    </tr>\n",
       "    <tr>\n",
       "      <th>29</th>\n",
       "      <td>M</td>\n",
       "      <td>1.92</td>\n",
       "    </tr>\n",
       "  </tbody>\n",
       "</table>\n",
       "</div>"
      ],
      "text/plain": [
       "    sexo  altura\n",
       "28     M    2.03\n",
       "81     M    2.00\n",
       "191    M    2.00\n",
       "71     F    1.94\n",
       "29     M    1.92"
      ]
     },
     "execution_count": 70,
     "metadata": {},
     "output_type": "execute_result"
    }
   ],
   "source": [
    "alturas.nlargest(5, 'altura')"
   ]
  },
  {
   "cell_type": "code",
   "execution_count": 71,
   "id": "1808b4dd",
   "metadata": {},
   "outputs": [
    {
     "data": {
      "text/html": [
       "<div>\n",
       "<style scoped>\n",
       "    .dataframe tbody tr th:only-of-type {\n",
       "        vertical-align: middle;\n",
       "    }\n",
       "\n",
       "    .dataframe tbody tr th {\n",
       "        vertical-align: top;\n",
       "    }\n",
       "\n",
       "    .dataframe thead th {\n",
       "        text-align: right;\n",
       "    }\n",
       "</style>\n",
       "<table border=\"1\" class=\"dataframe\">\n",
       "  <thead>\n",
       "    <tr style=\"text-align: right;\">\n",
       "      <th></th>\n",
       "      <th>sexo</th>\n",
       "      <th>altura</th>\n",
       "    </tr>\n",
       "  </thead>\n",
       "  <tbody>\n",
       "    <tr>\n",
       "      <th>96</th>\n",
       "      <td>F</td>\n",
       "      <td>1.48</td>\n",
       "    </tr>\n",
       "    <tr>\n",
       "      <th>63</th>\n",
       "      <td>F</td>\n",
       "      <td>1.50</td>\n",
       "    </tr>\n",
       "    <tr>\n",
       "      <th>140</th>\n",
       "      <td>F</td>\n",
       "      <td>1.50</td>\n",
       "    </tr>\n",
       "  </tbody>\n",
       "</table>\n",
       "</div>"
      ],
      "text/plain": [
       "    sexo  altura\n",
       "96     F    1.48\n",
       "63     F    1.50\n",
       "140    F    1.50"
      ]
     },
     "execution_count": 71,
     "metadata": {},
     "output_type": "execute_result"
    }
   ],
   "source": [
    "alturas.nsmallest(3, 'altura')"
   ]
  },
  {
   "cell_type": "code",
   "execution_count": 153,
   "id": "d69b9d64",
   "metadata": {},
   "outputs": [
    {
     "data": {
      "text/plain": [
       "0    1.80\n",
       "1    1.81\n",
       "2    1.70\n",
       "3    1.60\n",
       "4    1.68\n",
       "Name: altura, dtype: float64"
      ]
     },
     "execution_count": 153,
     "metadata": {},
     "output_type": "execute_result"
    }
   ],
   "source": [
    "alturas['altura'].head()"
   ]
  },
  {
   "cell_type": "code",
   "execution_count": 154,
   "id": "67f90c77",
   "metadata": {},
   "outputs": [
    {
     "data": {
      "text/html": [
       "<div>\n",
       "<style scoped>\n",
       "    .dataframe tbody tr th:only-of-type {\n",
       "        vertical-align: middle;\n",
       "    }\n",
       "\n",
       "    .dataframe tbody tr th {\n",
       "        vertical-align: top;\n",
       "    }\n",
       "\n",
       "    .dataframe thead th {\n",
       "        text-align: right;\n",
       "    }\n",
       "</style>\n",
       "<table border=\"1\" class=\"dataframe\">\n",
       "  <thead>\n",
       "    <tr style=\"text-align: right;\">\n",
       "      <th></th>\n",
       "      <th>altura</th>\n",
       "      <th>sexo</th>\n",
       "    </tr>\n",
       "  </thead>\n",
       "  <tbody>\n",
       "    <tr>\n",
       "      <th>0</th>\n",
       "      <td>1.80</td>\n",
       "      <td>M</td>\n",
       "    </tr>\n",
       "    <tr>\n",
       "      <th>1</th>\n",
       "      <td>1.81</td>\n",
       "      <td>M</td>\n",
       "    </tr>\n",
       "    <tr>\n",
       "      <th>2</th>\n",
       "      <td>1.70</td>\n",
       "      <td>F</td>\n",
       "    </tr>\n",
       "    <tr>\n",
       "      <th>3</th>\n",
       "      <td>1.60</td>\n",
       "      <td>F</td>\n",
       "    </tr>\n",
       "    <tr>\n",
       "      <th>4</th>\n",
       "      <td>1.68</td>\n",
       "      <td>F</td>\n",
       "    </tr>\n",
       "  </tbody>\n",
       "</table>\n",
       "</div>"
      ],
      "text/plain": [
       "   altura sexo\n",
       "0    1.80    M\n",
       "1    1.81    M\n",
       "2    1.70    F\n",
       "3    1.60    F\n",
       "4    1.68    F"
      ]
     },
     "execution_count": 154,
     "metadata": {},
     "output_type": "execute_result"
    }
   ],
   "source": [
    "alturas[['altura', 'sexo']].head()"
   ]
  },
  {
   "cell_type": "code",
   "execution_count": 10,
   "id": "5ede6379",
   "metadata": {},
   "outputs": [
    {
     "data": {
      "text/plain": [
       "(210, 1)"
      ]
     },
     "execution_count": 10,
     "metadata": {},
     "output_type": "execute_result"
    }
   ],
   "source": [
    "colunas = ['sexo']\n",
    "# dataframe reduzido\n",
    "novo = alturas[colunas]\n",
    "novo.shape"
   ]
  },
  {
   "cell_type": "code",
   "execution_count": 11,
   "id": "54314221",
   "metadata": {},
   "outputs": [
    {
     "data": {
      "text/html": [
       "<div>\n",
       "<style scoped>\n",
       "    .dataframe tbody tr th:only-of-type {\n",
       "        vertical-align: middle;\n",
       "    }\n",
       "\n",
       "    .dataframe tbody tr th {\n",
       "        vertical-align: top;\n",
       "    }\n",
       "\n",
       "    .dataframe thead th {\n",
       "        text-align: right;\n",
       "    }\n",
       "</style>\n",
       "<table border=\"1\" class=\"dataframe\">\n",
       "  <thead>\n",
       "    <tr style=\"text-align: right;\">\n",
       "      <th></th>\n",
       "      <th>sexo</th>\n",
       "    </tr>\n",
       "  </thead>\n",
       "  <tbody>\n",
       "    <tr>\n",
       "      <th>0</th>\n",
       "      <td>M</td>\n",
       "    </tr>\n",
       "    <tr>\n",
       "      <th>1</th>\n",
       "      <td>M</td>\n",
       "    </tr>\n",
       "    <tr>\n",
       "      <th>2</th>\n",
       "      <td>F</td>\n",
       "    </tr>\n",
       "    <tr>\n",
       "      <th>3</th>\n",
       "      <td>F</td>\n",
       "    </tr>\n",
       "    <tr>\n",
       "      <th>4</th>\n",
       "      <td>F</td>\n",
       "    </tr>\n",
       "  </tbody>\n",
       "</table>\n",
       "</div>"
      ],
      "text/plain": [
       "  sexo\n",
       "0    M\n",
       "1    M\n",
       "2    F\n",
       "3    F\n",
       "4    F"
      ]
     },
     "execution_count": 11,
     "metadata": {},
     "output_type": "execute_result"
    }
   ],
   "source": [
    "novo.head()"
   ]
  },
  {
   "cell_type": "code",
   "execution_count": 15,
   "id": "5b799e50",
   "metadata": {},
   "outputs": [
    {
     "data": {
      "text/html": [
       "<div>\n",
       "<style scoped>\n",
       "    .dataframe tbody tr th:only-of-type {\n",
       "        vertical-align: middle;\n",
       "    }\n",
       "\n",
       "    .dataframe tbody tr th {\n",
       "        vertical-align: top;\n",
       "    }\n",
       "\n",
       "    .dataframe thead th {\n",
       "        text-align: right;\n",
       "    }\n",
       "</style>\n",
       "<table border=\"1\" class=\"dataframe\">\n",
       "  <thead>\n",
       "    <tr style=\"text-align: right;\">\n",
       "      <th></th>\n",
       "      <th>sexo</th>\n",
       "      <th>altura</th>\n",
       "    </tr>\n",
       "  </thead>\n",
       "  <tbody>\n",
       "    <tr>\n",
       "      <th>91</th>\n",
       "      <td>M</td>\n",
       "      <td>1.71</td>\n",
       "    </tr>\n",
       "    <tr>\n",
       "      <th>37</th>\n",
       "      <td>F</td>\n",
       "      <td>1.64</td>\n",
       "    </tr>\n",
       "    <tr>\n",
       "      <th>84</th>\n",
       "      <td>M</td>\n",
       "      <td>1.75</td>\n",
       "    </tr>\n",
       "    <tr>\n",
       "      <th>23</th>\n",
       "      <td>F</td>\n",
       "      <td>1.52</td>\n",
       "    </tr>\n",
       "    <tr>\n",
       "      <th>111</th>\n",
       "      <td>M</td>\n",
       "      <td>1.75</td>\n",
       "    </tr>\n",
       "  </tbody>\n",
       "</table>\n",
       "</div>"
      ],
      "text/plain": [
       "    sexo  altura\n",
       "91     M    1.71\n",
       "37     F    1.64\n",
       "84     M    1.75\n",
       "23     F    1.52\n",
       "111    M    1.75"
      ]
     },
     "execution_count": 15,
     "metadata": {},
     "output_type": "execute_result"
    }
   ],
   "source": [
    "# sorteando linhas ao acaso\n",
    "alturas.sample(5)"
   ]
  },
  {
   "cell_type": "code",
   "execution_count": 17,
   "id": "8a0ef76b",
   "metadata": {},
   "outputs": [
    {
     "data": {
      "text/html": [
       "<div>\n",
       "<style scoped>\n",
       "    .dataframe tbody tr th:only-of-type {\n",
       "        vertical-align: middle;\n",
       "    }\n",
       "\n",
       "    .dataframe tbody tr th {\n",
       "        vertical-align: top;\n",
       "    }\n",
       "\n",
       "    .dataframe thead th {\n",
       "        text-align: right;\n",
       "    }\n",
       "</style>\n",
       "<table border=\"1\" class=\"dataframe\">\n",
       "  <thead>\n",
       "    <tr style=\"text-align: right;\">\n",
       "      <th></th>\n",
       "      <th>sexo</th>\n",
       "      <th>altura</th>\n",
       "    </tr>\n",
       "  </thead>\n",
       "  <tbody>\n",
       "    <tr>\n",
       "      <th>0</th>\n",
       "      <td>M</td>\n",
       "      <td>1.80</td>\n",
       "    </tr>\n",
       "    <tr>\n",
       "      <th>1</th>\n",
       "      <td>M</td>\n",
       "      <td>1.81</td>\n",
       "    </tr>\n",
       "    <tr>\n",
       "      <th>5</th>\n",
       "      <td>M</td>\n",
       "      <td>1.90</td>\n",
       "    </tr>\n",
       "    <tr>\n",
       "      <th>6</th>\n",
       "      <td>M</td>\n",
       "      <td>1.70</td>\n",
       "    </tr>\n",
       "    <tr>\n",
       "      <th>7</th>\n",
       "      <td>M</td>\n",
       "      <td>1.76</td>\n",
       "    </tr>\n",
       "  </tbody>\n",
       "</table>\n",
       "</div>"
      ],
      "text/plain": [
       "  sexo  altura\n",
       "0    M    1.80\n",
       "1    M    1.81\n",
       "5    M    1.90\n",
       "6    M    1.70\n",
       "7    M    1.76"
      ]
     },
     "execution_count": 17,
     "metadata": {},
     "output_type": "execute_result"
    }
   ],
   "source": [
    "# Filtrando valores na coluna\n",
    "alturas[alturas['sexo'] == 'M'].head()"
   ]
  },
  {
   "cell_type": "code",
   "execution_count": 18,
   "id": "35d41b75",
   "metadata": {},
   "outputs": [
    {
     "data": {
      "text/html": [
       "<div>\n",
       "<style scoped>\n",
       "    .dataframe tbody tr th:only-of-type {\n",
       "        vertical-align: middle;\n",
       "    }\n",
       "\n",
       "    .dataframe tbody tr th {\n",
       "        vertical-align: top;\n",
       "    }\n",
       "\n",
       "    .dataframe thead th {\n",
       "        text-align: right;\n",
       "    }\n",
       "</style>\n",
       "<table border=\"1\" class=\"dataframe\">\n",
       "  <thead>\n",
       "    <tr style=\"text-align: right;\">\n",
       "      <th></th>\n",
       "      <th>sexo</th>\n",
       "      <th>altura</th>\n",
       "    </tr>\n",
       "  </thead>\n",
       "  <tbody>\n",
       "    <tr>\n",
       "      <th>2</th>\n",
       "      <td>F</td>\n",
       "      <td>1.70</td>\n",
       "    </tr>\n",
       "    <tr>\n",
       "      <th>3</th>\n",
       "      <td>F</td>\n",
       "      <td>1.60</td>\n",
       "    </tr>\n",
       "    <tr>\n",
       "      <th>4</th>\n",
       "      <td>F</td>\n",
       "      <td>1.68</td>\n",
       "    </tr>\n",
       "    <tr>\n",
       "      <th>9</th>\n",
       "      <td>F</td>\n",
       "      <td>1.65</td>\n",
       "    </tr>\n",
       "    <tr>\n",
       "      <th>10</th>\n",
       "      <td>F</td>\n",
       "      <td>1.68</td>\n",
       "    </tr>\n",
       "  </tbody>\n",
       "</table>\n",
       "</div>"
      ],
      "text/plain": [
       "   sexo  altura\n",
       "2     F    1.70\n",
       "3     F    1.60\n",
       "4     F    1.68\n",
       "9     F    1.65\n",
       "10    F    1.68"
      ]
     },
     "execution_count": 18,
     "metadata": {},
     "output_type": "execute_result"
    }
   ],
   "source": [
    "alturas[[\"sexo\", \"altura\"]][alturas[\"sexo\"] == 'F'].head()"
   ]
  },
  {
   "cell_type": "code",
   "execution_count": 85,
   "id": "bfc887cb",
   "metadata": {},
   "outputs": [
    {
     "data": {
      "text/html": [
       "<div>\n",
       "<style scoped>\n",
       "    .dataframe tbody tr th:only-of-type {\n",
       "        vertical-align: middle;\n",
       "    }\n",
       "\n",
       "    .dataframe tbody tr th {\n",
       "        vertical-align: top;\n",
       "    }\n",
       "\n",
       "    .dataframe thead th {\n",
       "        text-align: right;\n",
       "    }\n",
       "</style>\n",
       "<table border=\"1\" class=\"dataframe\">\n",
       "  <thead>\n",
       "    <tr style=\"text-align: right;\">\n",
       "      <th></th>\n",
       "      <th>sexo</th>\n",
       "      <th>altura</th>\n",
       "    </tr>\n",
       "  </thead>\n",
       "  <tbody>\n",
       "  </tbody>\n",
       "</table>\n",
       "</div>"
      ],
      "text/plain": [
       "Empty DataFrame\n",
       "Columns: [sexo, altura]\n",
       "Index: []"
      ]
     },
     "execution_count": 85,
     "metadata": {},
     "output_type": "execute_result"
    }
   ],
   "source": [
    "alturas[(alturas.sexo == 'M') & (alturas.sexo == 'F')]"
   ]
  },
  {
   "cell_type": "code",
   "execution_count": 19,
   "id": "9bdb00a5",
   "metadata": {},
   "outputs": [
    {
     "data": {
      "text/html": [
       "<div>\n",
       "<style scoped>\n",
       "    .dataframe tbody tr th:only-of-type {\n",
       "        vertical-align: middle;\n",
       "    }\n",
       "\n",
       "    .dataframe tbody tr th {\n",
       "        vertical-align: top;\n",
       "    }\n",
       "\n",
       "    .dataframe thead th {\n",
       "        text-align: right;\n",
       "    }\n",
       "</style>\n",
       "<table border=\"1\" class=\"dataframe\">\n",
       "  <thead>\n",
       "    <tr style=\"text-align: right;\">\n",
       "      <th></th>\n",
       "      <th>sexo</th>\n",
       "      <th>altura</th>\n",
       "      <th>nova</th>\n",
       "    </tr>\n",
       "  </thead>\n",
       "  <tbody>\n",
       "    <tr>\n",
       "      <th>0</th>\n",
       "      <td>M</td>\n",
       "      <td>1.80</td>\n",
       "      <td>3.60</td>\n",
       "    </tr>\n",
       "    <tr>\n",
       "      <th>1</th>\n",
       "      <td>M</td>\n",
       "      <td>1.81</td>\n",
       "      <td>3.62</td>\n",
       "    </tr>\n",
       "    <tr>\n",
       "      <th>2</th>\n",
       "      <td>F</td>\n",
       "      <td>1.70</td>\n",
       "      <td>3.40</td>\n",
       "    </tr>\n",
       "    <tr>\n",
       "      <th>3</th>\n",
       "      <td>F</td>\n",
       "      <td>1.60</td>\n",
       "      <td>3.20</td>\n",
       "    </tr>\n",
       "    <tr>\n",
       "      <th>4</th>\n",
       "      <td>F</td>\n",
       "      <td>1.68</td>\n",
       "      <td>3.36</td>\n",
       "    </tr>\n",
       "  </tbody>\n",
       "</table>\n",
       "</div>"
      ],
      "text/plain": [
       "  sexo  altura  nova\n",
       "0    M    1.80  3.60\n",
       "1    M    1.81  3.62\n",
       "2    F    1.70  3.40\n",
       "3    F    1.60  3.20\n",
       "4    F    1.68  3.36"
      ]
     },
     "execution_count": 19,
     "metadata": {},
     "output_type": "execute_result"
    }
   ],
   "source": [
    "# Criando nova coluna\n",
    "alturas['nova'] = 2 * alturas['altura']\n",
    "alturas.head()"
   ]
  },
  {
   "cell_type": "code",
   "execution_count": 20,
   "id": "2badac59",
   "metadata": {},
   "outputs": [
    {
     "data": {
      "text/plain": [
       "0      3.60\n",
       "1      3.62\n",
       "2      3.40\n",
       "3      3.20\n",
       "4      3.36\n",
       "       ... \n",
       "205    3.30\n",
       "206    3.40\n",
       "207    3.40\n",
       "208    3.60\n",
       "209    3.70\n",
       "Name: nova, Length: 210, dtype: float64"
      ]
     },
     "execution_count": 20,
     "metadata": {},
     "output_type": "execute_result"
    }
   ],
   "source": [
    "alturas['nova']"
   ]
  },
  {
   "cell_type": "code",
   "execution_count": 21,
   "id": "5f1e5b6d",
   "metadata": {},
   "outputs": [
    {
     "data": {
      "text/html": [
       "<div>\n",
       "<style scoped>\n",
       "    .dataframe tbody tr th:only-of-type {\n",
       "        vertical-align: middle;\n",
       "    }\n",
       "\n",
       "    .dataframe tbody tr th {\n",
       "        vertical-align: top;\n",
       "    }\n",
       "\n",
       "    .dataframe thead th {\n",
       "        text-align: right;\n",
       "    }\n",
       "</style>\n",
       "<table border=\"1\" class=\"dataframe\">\n",
       "  <thead>\n",
       "    <tr style=\"text-align: right;\">\n",
       "      <th></th>\n",
       "      <th>sexo</th>\n",
       "      <th>altura</th>\n",
       "    </tr>\n",
       "  </thead>\n",
       "  <tbody>\n",
       "    <tr>\n",
       "      <th>0</th>\n",
       "      <td>M</td>\n",
       "      <td>1.80</td>\n",
       "    </tr>\n",
       "    <tr>\n",
       "      <th>1</th>\n",
       "      <td>M</td>\n",
       "      <td>1.81</td>\n",
       "    </tr>\n",
       "    <tr>\n",
       "      <th>2</th>\n",
       "      <td>F</td>\n",
       "      <td>1.70</td>\n",
       "    </tr>\n",
       "    <tr>\n",
       "      <th>3</th>\n",
       "      <td>F</td>\n",
       "      <td>1.60</td>\n",
       "    </tr>\n",
       "    <tr>\n",
       "      <th>4</th>\n",
       "      <td>F</td>\n",
       "      <td>1.68</td>\n",
       "    </tr>\n",
       "  </tbody>\n",
       "</table>\n",
       "</div>"
      ],
      "text/plain": [
       "  sexo  altura\n",
       "0    M    1.80\n",
       "1    M    1.81\n",
       "2    F    1.70\n",
       "3    F    1.60\n",
       "4    F    1.68"
      ]
     },
     "execution_count": 21,
     "metadata": {},
     "output_type": "execute_result"
    }
   ],
   "source": [
    "# Apagando a nova coluna\n",
    "\n",
    "del alturas['nova']\n",
    "alturas.head()"
   ]
  },
  {
   "cell_type": "code",
   "execution_count": 22,
   "id": "9e8a36fd",
   "metadata": {},
   "outputs": [
    {
     "data": {
      "text/html": [
       "<div>\n",
       "<style scoped>\n",
       "    .dataframe tbody tr th:only-of-type {\n",
       "        vertical-align: middle;\n",
       "    }\n",
       "\n",
       "    .dataframe tbody tr th {\n",
       "        vertical-align: top;\n",
       "    }\n",
       "\n",
       "    .dataframe thead th {\n",
       "        text-align: right;\n",
       "    }\n",
       "</style>\n",
       "<table border=\"1\" class=\"dataframe\">\n",
       "  <thead>\n",
       "    <tr style=\"text-align: right;\">\n",
       "      <th></th>\n",
       "      <th>sexo</th>\n",
       "      <th>altura</th>\n",
       "    </tr>\n",
       "  </thead>\n",
       "  <tbody>\n",
       "    <tr>\n",
       "      <th>10</th>\n",
       "      <td>F</td>\n",
       "      <td>1.68</td>\n",
       "    </tr>\n",
       "    <tr>\n",
       "      <th>11</th>\n",
       "      <td>M</td>\n",
       "      <td>1.83</td>\n",
       "    </tr>\n",
       "    <tr>\n",
       "      <th>12</th>\n",
       "      <td>M</td>\n",
       "      <td>1.77</td>\n",
       "    </tr>\n",
       "    <tr>\n",
       "      <th>13</th>\n",
       "      <td>F</td>\n",
       "      <td>1.55</td>\n",
       "    </tr>\n",
       "    <tr>\n",
       "      <th>14</th>\n",
       "      <td>F</td>\n",
       "      <td>1.71</td>\n",
       "    </tr>\n",
       "  </tbody>\n",
       "</table>\n",
       "</div>"
      ],
      "text/plain": [
       "   sexo  altura\n",
       "10    F    1.68\n",
       "11    M    1.83\n",
       "12    M    1.77\n",
       "13    F    1.55\n",
       "14    F    1.71"
      ]
     },
     "execution_count": 22,
     "metadata": {},
     "output_type": "execute_result"
    }
   ],
   "source": [
    "# Fatiamento (\"slicing\") de DataFrames\n",
    "alturas[10:15]"
   ]
  },
  {
   "cell_type": "code",
   "execution_count": 23,
   "id": "396fa069",
   "metadata": {},
   "outputs": [
    {
     "data": {
      "text/plain": [
       "10    F\n",
       "11    M\n",
       "12    M\n",
       "13    F\n",
       "14    F\n",
       "Name: sexo, dtype: object"
      ]
     },
     "execution_count": 23,
     "metadata": {},
     "output_type": "execute_result"
    }
   ],
   "source": [
    "alturas['sexo'][10:15]"
   ]
  },
  {
   "cell_type": "code",
   "execution_count": 24,
   "id": "9404a372",
   "metadata": {},
   "outputs": [
    {
     "data": {
      "text/html": [
       "<div>\n",
       "<style scoped>\n",
       "    .dataframe tbody tr th:only-of-type {\n",
       "        vertical-align: middle;\n",
       "    }\n",
       "\n",
       "    .dataframe tbody tr th {\n",
       "        vertical-align: top;\n",
       "    }\n",
       "\n",
       "    .dataframe thead th {\n",
       "        text-align: right;\n",
       "    }\n",
       "</style>\n",
       "<table border=\"1\" class=\"dataframe\">\n",
       "  <thead>\n",
       "    <tr style=\"text-align: right;\">\n",
       "      <th></th>\n",
       "      <th>SEXO</th>\n",
       "      <th>ALTURA</th>\n",
       "    </tr>\n",
       "  </thead>\n",
       "  <tbody>\n",
       "    <tr>\n",
       "      <th>0</th>\n",
       "      <td>M</td>\n",
       "      <td>1.80</td>\n",
       "    </tr>\n",
       "    <tr>\n",
       "      <th>1</th>\n",
       "      <td>M</td>\n",
       "      <td>1.81</td>\n",
       "    </tr>\n",
       "    <tr>\n",
       "      <th>2</th>\n",
       "      <td>F</td>\n",
       "      <td>1.70</td>\n",
       "    </tr>\n",
       "    <tr>\n",
       "      <th>3</th>\n",
       "      <td>F</td>\n",
       "      <td>1.60</td>\n",
       "    </tr>\n",
       "    <tr>\n",
       "      <th>4</th>\n",
       "      <td>F</td>\n",
       "      <td>1.68</td>\n",
       "    </tr>\n",
       "  </tbody>\n",
       "</table>\n",
       "</div>"
      ],
      "text/plain": [
       "  SEXO  ALTURA\n",
       "0    M    1.80\n",
       "1    M    1.81\n",
       "2    F    1.70\n",
       "3    F    1.60\n",
       "4    F    1.68"
      ]
     },
     "execution_count": 24,
     "metadata": {},
     "output_type": "execute_result"
    }
   ],
   "source": [
    "# Renomeando colunas\n",
    "alturas.rename(columns = {'sexo': 'SEXO', 'altura': 'ALTURA'}, inplace=True) # mudanças diretamente para o DataFrame\n",
    "alturas.head()"
   ]
  },
  {
   "cell_type": "code",
   "execution_count": 25,
   "id": "69be2806",
   "metadata": {},
   "outputs": [
    {
     "data": {
      "text/plain": [
       "0      M\n",
       "1      M\n",
       "2      F\n",
       "3      F\n",
       "4      F\n",
       "      ..\n",
       "205    F\n",
       "206    M\n",
       "207    M\n",
       "208    M\n",
       "209    M\n",
       "Name: SEXO, Length: 210, dtype: object"
      ]
     },
     "execution_count": 25,
     "metadata": {},
     "output_type": "execute_result"
    }
   ],
   "source": [
    "alturas['SEXO']"
   ]
  },
  {
   "cell_type": "code",
   "execution_count": 26,
   "id": "2a816136",
   "metadata": {},
   "outputs": [],
   "source": [
    "# Convertendo uma coluna para outro tipo de dado\n",
    "    \n",
    "# df['coluna'] = df['coluna'].astype(int)"
   ]
  },
  {
   "cell_type": "code",
   "execution_count": 27,
   "id": "7a0b26f1",
   "metadata": {},
   "outputs": [
    {
     "data": {
      "text/plain": [
       "array(['M', 'F'], dtype=object)"
      ]
     },
     "execution_count": 27,
     "metadata": {},
     "output_type": "execute_result"
    }
   ],
   "source": [
    "# Todos os valores únicos de uma variável\n",
    "alturas.SEXO.unique()"
   ]
  },
  {
   "cell_type": "code",
   "execution_count": 28,
   "id": "81fdf1ac",
   "metadata": {},
   "outputs": [
    {
     "data": {
      "text/plain": [
       "2"
      ]
     },
     "execution_count": 28,
     "metadata": {},
     "output_type": "execute_result"
    }
   ],
   "source": [
    "# Contando valores únicos numa coluna\n",
    "len(alturas['SEXO'].unique())"
   ]
  },
  {
   "cell_type": "code",
   "execution_count": 29,
   "id": "8679b391",
   "metadata": {},
   "outputs": [
    {
     "data": {
      "text/plain": [
       "array([1.8 , 1.81, 1.7 , 1.6 , 1.68, 1.9 , 1.76, 1.72, 1.65, 1.83, 1.77,\n",
       "       1.55, 1.71, 1.88, 1.67, 1.58, 1.82, 1.78, 1.66, 1.75, 1.73, 1.52,\n",
       "       1.79, 1.64, 1.59, 1.69, 2.03, 1.92, 1.53, 1.56, 1.85, 1.61, 1.63,\n",
       "       1.57, 1.5 , 1.84, 1.94, 1.54, 1.51, 2.  , 1.86, 1.48, 1.62, 1.74,\n",
       "       1.91])"
      ]
     },
     "execution_count": 29,
     "metadata": {},
     "output_type": "execute_result"
    }
   ],
   "source": [
    "alturas.ALTURA.unique()"
   ]
  },
  {
   "cell_type": "code",
   "execution_count": 30,
   "id": "bf38e7d2",
   "metadata": {},
   "outputs": [
    {
     "data": {
      "text/plain": [
       "142"
      ]
     },
     "execution_count": 30,
     "metadata": {},
     "output_type": "execute_result"
    }
   ],
   "source": [
    "# Duplicados\n",
    "alturas.duplicated().sum()"
   ]
  },
  {
   "cell_type": "code",
   "execution_count": 31,
   "id": "becfe9ef",
   "metadata": {},
   "outputs": [
    {
     "data": {
      "text/plain": [
       "float64    1\n",
       "object     1\n",
       "dtype: int64"
      ]
     },
     "execution_count": 31,
     "metadata": {},
     "output_type": "execute_result"
    }
   ],
   "source": [
    "# Contagem por tipo\n",
    "alturas.dtypes.value_counts()"
   ]
  },
  {
   "cell_type": "code",
   "execution_count": 114,
   "id": "b77c248e",
   "metadata": {},
   "outputs": [
    {
     "data": {
      "text/html": [
       "<div>\n",
       "<style scoped>\n",
       "    .dataframe tbody tr th:only-of-type {\n",
       "        vertical-align: middle;\n",
       "    }\n",
       "\n",
       "    .dataframe tbody tr th {\n",
       "        vertical-align: top;\n",
       "    }\n",
       "\n",
       "    .dataframe thead th {\n",
       "        text-align: right;\n",
       "    }\n",
       "</style>\n",
       "<table border=\"1\" class=\"dataframe\">\n",
       "  <thead>\n",
       "    <tr style=\"text-align: right;\">\n",
       "      <th></th>\n",
       "      <th>SEXO</th>\n",
       "      <th>altura</th>\n",
       "    </tr>\n",
       "  </thead>\n",
       "  <tbody>\n",
       "    <tr>\n",
       "      <th>0</th>\n",
       "      <td>M</td>\n",
       "      <td>1.80</td>\n",
       "    </tr>\n",
       "    <tr>\n",
       "      <th>130</th>\n",
       "      <td>M</td>\n",
       "      <td>1.74</td>\n",
       "    </tr>\n",
       "    <tr>\n",
       "      <th>119</th>\n",
       "      <td>M</td>\n",
       "      <td>1.66</td>\n",
       "    </tr>\n",
       "    <tr>\n",
       "      <th>122</th>\n",
       "      <td>M</td>\n",
       "      <td>1.78</td>\n",
       "    </tr>\n",
       "    <tr>\n",
       "      <th>124</th>\n",
       "      <td>M</td>\n",
       "      <td>1.71</td>\n",
       "    </tr>\n",
       "    <tr>\n",
       "      <th>...</th>\n",
       "      <td>...</td>\n",
       "      <td>...</td>\n",
       "    </tr>\n",
       "    <tr>\n",
       "      <th>54</th>\n",
       "      <td>F</td>\n",
       "      <td>1.55</td>\n",
       "    </tr>\n",
       "    <tr>\n",
       "      <th>121</th>\n",
       "      <td>F</td>\n",
       "      <td>1.60</td>\n",
       "    </tr>\n",
       "    <tr>\n",
       "      <th>120</th>\n",
       "      <td>F</td>\n",
       "      <td>1.63</td>\n",
       "    </tr>\n",
       "    <tr>\n",
       "      <th>118</th>\n",
       "      <td>F</td>\n",
       "      <td>1.59</td>\n",
       "    </tr>\n",
       "    <tr>\n",
       "      <th>40</th>\n",
       "      <td>F</td>\n",
       "      <td>1.56</td>\n",
       "    </tr>\n",
       "  </tbody>\n",
       "</table>\n",
       "<p>210 rows × 2 columns</p>\n",
       "</div>"
      ],
      "text/plain": [
       "    SEXO  altura\n",
       "0      M    1.80\n",
       "130    M    1.74\n",
       "119    M    1.66\n",
       "122    M    1.78\n",
       "124    M    1.71\n",
       "..   ...     ...\n",
       "54     F    1.55\n",
       "121    F    1.60\n",
       "120    F    1.63\n",
       "118    F    1.59\n",
       "40     F    1.56\n",
       "\n",
       "[210 rows x 2 columns]"
      ]
     },
     "execution_count": 114,
     "metadata": {},
     "output_type": "execute_result"
    }
   ],
   "source": [
    "# Ordenando valores\n",
    "\n",
    "# Por uma variável:\n",
    "alturas.sort_values(by='SEXO', ascending=False)"
   ]
  },
  {
   "cell_type": "code",
   "execution_count": 127,
   "id": "6ce0883c",
   "metadata": {},
   "outputs": [
    {
     "data": {
      "text/html": [
       "<div>\n",
       "<style scoped>\n",
       "    .dataframe tbody tr th:only-of-type {\n",
       "        vertical-align: middle;\n",
       "    }\n",
       "\n",
       "    .dataframe tbody tr th {\n",
       "        vertical-align: top;\n",
       "    }\n",
       "\n",
       "    .dataframe thead th {\n",
       "        text-align: right;\n",
       "    }\n",
       "</style>\n",
       "<table border=\"1\" class=\"dataframe\">\n",
       "  <thead>\n",
       "    <tr style=\"text-align: right;\">\n",
       "      <th></th>\n",
       "      <th>SEXO</th>\n",
       "      <th>ALTURA</th>\n",
       "      <th>nova</th>\n",
       "    </tr>\n",
       "  </thead>\n",
       "  <tbody>\n",
       "    <tr>\n",
       "      <th>96</th>\n",
       "      <td>F</td>\n",
       "      <td>1.48</td>\n",
       "      <td>F</td>\n",
       "    </tr>\n",
       "    <tr>\n",
       "      <th>63</th>\n",
       "      <td>F</td>\n",
       "      <td>1.50</td>\n",
       "      <td>F</td>\n",
       "    </tr>\n",
       "    <tr>\n",
       "      <th>171</th>\n",
       "      <td>F</td>\n",
       "      <td>1.50</td>\n",
       "      <td>F</td>\n",
       "    </tr>\n",
       "    <tr>\n",
       "      <th>140</th>\n",
       "      <td>F</td>\n",
       "      <td>1.50</td>\n",
       "      <td>F</td>\n",
       "    </tr>\n",
       "    <tr>\n",
       "      <th>156</th>\n",
       "      <td>F</td>\n",
       "      <td>1.50</td>\n",
       "      <td>F</td>\n",
       "    </tr>\n",
       "    <tr>\n",
       "      <th>...</th>\n",
       "      <td>...</td>\n",
       "      <td>...</td>\n",
       "      <td>...</td>\n",
       "    </tr>\n",
       "    <tr>\n",
       "      <th>29</th>\n",
       "      <td>M</td>\n",
       "      <td>1.92</td>\n",
       "      <td>F</td>\n",
       "    </tr>\n",
       "    <tr>\n",
       "      <th>71</th>\n",
       "      <td>F</td>\n",
       "      <td>1.94</td>\n",
       "      <td>F</td>\n",
       "    </tr>\n",
       "    <tr>\n",
       "      <th>81</th>\n",
       "      <td>M</td>\n",
       "      <td>2.00</td>\n",
       "      <td>F</td>\n",
       "    </tr>\n",
       "    <tr>\n",
       "      <th>191</th>\n",
       "      <td>M</td>\n",
       "      <td>2.00</td>\n",
       "      <td>F</td>\n",
       "    </tr>\n",
       "    <tr>\n",
       "      <th>28</th>\n",
       "      <td>M</td>\n",
       "      <td>2.03</td>\n",
       "      <td>F</td>\n",
       "    </tr>\n",
       "  </tbody>\n",
       "</table>\n",
       "<p>210 rows × 3 columns</p>\n",
       "</div>"
      ],
      "text/plain": [
       "    SEXO  ALTURA nova\n",
       "96     F    1.48    F\n",
       "63     F    1.50    F\n",
       "171    F    1.50    F\n",
       "140    F    1.50    F\n",
       "156    F    1.50    F\n",
       "..   ...     ...  ...\n",
       "29     M    1.92    F\n",
       "71     F    1.94    F\n",
       "81     M    2.00    F\n",
       "191    M    2.00    F\n",
       "28     M    2.03    F\n",
       "\n",
       "[210 rows x 3 columns]"
      ]
     },
     "execution_count": 127,
     "metadata": {},
     "output_type": "execute_result"
    }
   ],
   "source": [
    "# Por uma coluna:\n",
    "\n",
    "alturas.sort_values('ALTURA', ascending=True)"
   ]
  },
  {
   "cell_type": "code",
   "execution_count": 117,
   "id": "03ba049b",
   "metadata": {},
   "outputs": [],
   "source": [
    "# Por diversas variáveis:\n",
    "\n",
    "# df.sort_values(by=['variable_one', 'variable_two'])"
   ]
  },
  {
   "cell_type": "code",
   "execution_count": null,
   "id": "23fad8fe",
   "metadata": {},
   "outputs": [],
   "source": [
    "import pandas as pd\n",
    "\n"
   ]
  },
  {
   "cell_type": "code",
   "execution_count": null,
   "id": "cce723ea",
   "metadata": {},
   "outputs": [],
   "source": [
    "# Não cai na avaliação"
   ]
  },
  {
   "attachments": {},
   "cell_type": "markdown",
   "id": "18c4fde4",
   "metadata": {},
   "source": [
    "Criação de DataFrames próprios"
   ]
  },
  {
   "cell_type": "code",
   "execution_count": 128,
   "id": "e5d14afe",
   "metadata": {},
   "outputs": [
    {
     "data": {
      "text/html": [
       "<div>\n",
       "<style scoped>\n",
       "    .dataframe tbody tr th:only-of-type {\n",
       "        vertical-align: middle;\n",
       "    }\n",
       "\n",
       "    .dataframe tbody tr th {\n",
       "        vertical-align: top;\n",
       "    }\n",
       "\n",
       "    .dataframe thead th {\n",
       "        text-align: right;\n",
       "    }\n",
       "</style>\n",
       "<table border=\"1\" class=\"dataframe\">\n",
       "  <thead>\n",
       "    <tr style=\"text-align: right;\">\n",
       "      <th></th>\n",
       "      <th>Adubo</th>\n",
       "      <th>Peso</th>\n",
       "    </tr>\n",
       "  </thead>\n",
       "  <tbody>\n",
       "    <tr>\n",
       "      <th>0</th>\n",
       "      <td>0</td>\n",
       "      <td>138.60</td>\n",
       "    </tr>\n",
       "    <tr>\n",
       "      <th>1</th>\n",
       "      <td>50</td>\n",
       "      <td>153.60</td>\n",
       "    </tr>\n",
       "    <tr>\n",
       "      <th>2</th>\n",
       "      <td>100</td>\n",
       "      <td>164.53</td>\n",
       "    </tr>\n",
       "    <tr>\n",
       "      <th>3</th>\n",
       "      <td>150</td>\n",
       "      <td>164.93</td>\n",
       "    </tr>\n",
       "    <tr>\n",
       "      <th>4</th>\n",
       "      <td>200</td>\n",
       "      <td>163.20</td>\n",
       "    </tr>\n",
       "    <tr>\n",
       "      <th>5</th>\n",
       "      <td>250</td>\n",
       "      <td>159.98</td>\n",
       "    </tr>\n",
       "    <tr>\n",
       "      <th>6</th>\n",
       "      <td>300</td>\n",
       "      <td>154.43</td>\n",
       "    </tr>\n",
       "  </tbody>\n",
       "</table>\n",
       "</div>"
      ],
      "text/plain": [
       "   Adubo    Peso\n",
       "0      0  138.60\n",
       "1     50  153.60\n",
       "2    100  164.53\n",
       "3    150  164.93\n",
       "4    200  163.20\n",
       "5    250  159.98\n",
       "6    300  154.43"
      ]
     },
     "execution_count": 128,
     "metadata": {},
     "output_type": "execute_result"
    }
   ],
   "source": [
    "import pandas as pd\n",
    "\n",
    "adubo = [0, 50, 100, 150, 200, 250, 300]\n",
    "peso = [138.60, 153.60, 164.53, 164.93, 163.20, 159.98, 154.43]\n",
    "\n",
    "d = {'Adubo':adubo,'Peso':peso} # dicionário\n",
    "\n",
    "df = pd.DataFrame(d)\n",
    "df"
   ]
  },
  {
   "cell_type": "code",
   "execution_count": 131,
   "id": "9550d174",
   "metadata": {},
   "outputs": [
    {
     "data": {
      "text/html": [
       "<div>\n",
       "<style scoped>\n",
       "    .dataframe tbody tr th:only-of-type {\n",
       "        vertical-align: middle;\n",
       "    }\n",
       "\n",
       "    .dataframe tbody tr th {\n",
       "        vertical-align: top;\n",
       "    }\n",
       "\n",
       "    .dataframe thead th {\n",
       "        text-align: right;\n",
       "    }\n",
       "</style>\n",
       "<table border=\"1\" class=\"dataframe\">\n",
       "  <thead>\n",
       "    <tr style=\"text-align: right;\">\n",
       "      <th></th>\n",
       "      <th>Adubo</th>\n",
       "      <th>Peso</th>\n",
       "    </tr>\n",
       "  </thead>\n",
       "  <tbody>\n",
       "    <tr>\n",
       "      <th>0</th>\n",
       "      <td>0</td>\n",
       "      <td>138.60</td>\n",
       "    </tr>\n",
       "    <tr>\n",
       "      <th>1</th>\n",
       "      <td>50</td>\n",
       "      <td>153.60</td>\n",
       "    </tr>\n",
       "    <tr>\n",
       "      <th>2</th>\n",
       "      <td>100</td>\n",
       "      <td>164.53</td>\n",
       "    </tr>\n",
       "  </tbody>\n",
       "</table>\n",
       "</div>"
      ],
      "text/plain": [
       "   Adubo    Peso\n",
       "0      0  138.60\n",
       "1     50  153.60\n",
       "2    100  164.53"
      ]
     },
     "execution_count": 131,
     "metadata": {},
     "output_type": "execute_result"
    }
   ],
   "source": [
    "df.head(3)"
   ]
  },
  {
   "cell_type": "code",
   "execution_count": 134,
   "id": "e37d3dec",
   "metadata": {},
   "outputs": [
    {
     "data": {
      "text/html": [
       "<div>\n",
       "<style scoped>\n",
       "    .dataframe tbody tr th:only-of-type {\n",
       "        vertical-align: middle;\n",
       "    }\n",
       "\n",
       "    .dataframe tbody tr th {\n",
       "        vertical-align: top;\n",
       "    }\n",
       "\n",
       "    .dataframe thead th {\n",
       "        text-align: right;\n",
       "    }\n",
       "</style>\n",
       "<table border=\"1\" class=\"dataframe\">\n",
       "  <thead>\n",
       "    <tr style=\"text-align: right;\">\n",
       "      <th></th>\n",
       "      <th>Adubo</th>\n",
       "      <th>Peso</th>\n",
       "    </tr>\n",
       "  </thead>\n",
       "  <tbody>\n",
       "    <tr>\n",
       "      <th>4</th>\n",
       "      <td>200</td>\n",
       "      <td>163.20</td>\n",
       "    </tr>\n",
       "    <tr>\n",
       "      <th>5</th>\n",
       "      <td>250</td>\n",
       "      <td>159.98</td>\n",
       "    </tr>\n",
       "    <tr>\n",
       "      <th>6</th>\n",
       "      <td>300</td>\n",
       "      <td>154.43</td>\n",
       "    </tr>\n",
       "  </tbody>\n",
       "</table>\n",
       "</div>"
      ],
      "text/plain": [
       "   Adubo    Peso\n",
       "4    200  163.20\n",
       "5    250  159.98\n",
       "6    300  154.43"
      ]
     },
     "execution_count": 134,
     "metadata": {},
     "output_type": "execute_result"
    }
   ],
   "source": [
    "df.tail(3)"
   ]
  },
  {
   "cell_type": "code",
   "execution_count": 135,
   "id": "af31e334",
   "metadata": {},
   "outputs": [
    {
     "name": "stdout",
     "output_type": "stream",
     "text": [
      "<class 'pandas.core.frame.DataFrame'>\n",
      "RangeIndex: 7 entries, 0 to 6\n",
      "Data columns (total 2 columns):\n",
      " #   Column  Non-Null Count  Dtype  \n",
      "---  ------  --------------  -----  \n",
      " 0   Adubo   7 non-null      int64  \n",
      " 1   Peso    7 non-null      float64\n",
      "dtypes: float64(1), int64(1)\n",
      "memory usage: 240.0 bytes\n"
     ]
    }
   ],
   "source": [
    "df.info()"
   ]
  },
  {
   "cell_type": "code",
   "execution_count": 133,
   "id": "ac2adcec",
   "metadata": {},
   "outputs": [
    {
     "data": {
      "text/html": [
       "<div>\n",
       "<style scoped>\n",
       "    .dataframe tbody tr th:only-of-type {\n",
       "        vertical-align: middle;\n",
       "    }\n",
       "\n",
       "    .dataframe tbody tr th {\n",
       "        vertical-align: top;\n",
       "    }\n",
       "\n",
       "    .dataframe thead th {\n",
       "        text-align: right;\n",
       "    }\n",
       "</style>\n",
       "<table border=\"1\" class=\"dataframe\">\n",
       "  <thead>\n",
       "    <tr style=\"text-align: right;\">\n",
       "      <th></th>\n",
       "      <th>Adubo</th>\n",
       "      <th>Peso</th>\n",
       "    </tr>\n",
       "  </thead>\n",
       "  <tbody>\n",
       "    <tr>\n",
       "      <th>count</th>\n",
       "      <td>7.000000</td>\n",
       "      <td>7.000000</td>\n",
       "    </tr>\n",
       "    <tr>\n",
       "      <th>mean</th>\n",
       "      <td>150.000000</td>\n",
       "      <td>157.038571</td>\n",
       "    </tr>\n",
       "    <tr>\n",
       "      <th>std</th>\n",
       "      <td>108.012345</td>\n",
       "      <td>9.341847</td>\n",
       "    </tr>\n",
       "    <tr>\n",
       "      <th>min</th>\n",
       "      <td>0.000000</td>\n",
       "      <td>138.600000</td>\n",
       "    </tr>\n",
       "    <tr>\n",
       "      <th>25%</th>\n",
       "      <td>75.000000</td>\n",
       "      <td>154.015000</td>\n",
       "    </tr>\n",
       "    <tr>\n",
       "      <th>50%</th>\n",
       "      <td>150.000000</td>\n",
       "      <td>159.980000</td>\n",
       "    </tr>\n",
       "    <tr>\n",
       "      <th>75%</th>\n",
       "      <td>225.000000</td>\n",
       "      <td>163.865000</td>\n",
       "    </tr>\n",
       "    <tr>\n",
       "      <th>max</th>\n",
       "      <td>300.000000</td>\n",
       "      <td>164.930000</td>\n",
       "    </tr>\n",
       "  </tbody>\n",
       "</table>\n",
       "</div>"
      ],
      "text/plain": [
       "            Adubo        Peso\n",
       "count    7.000000    7.000000\n",
       "mean   150.000000  157.038571\n",
       "std    108.012345    9.341847\n",
       "min      0.000000  138.600000\n",
       "25%     75.000000  154.015000\n",
       "50%    150.000000  159.980000\n",
       "75%    225.000000  163.865000\n",
       "max    300.000000  164.930000"
      ]
     },
     "execution_count": 133,
     "metadata": {},
     "output_type": "execute_result"
    }
   ],
   "source": [
    "df.describe()"
   ]
  },
  {
   "cell_type": "code",
   "execution_count": 136,
   "id": "3240b02a",
   "metadata": {},
   "outputs": [
    {
     "data": {
      "text/plain": [
       "(7, 2)"
      ]
     },
     "execution_count": 136,
     "metadata": {},
     "output_type": "execute_result"
    }
   ],
   "source": [
    "df.shape"
   ]
  },
  {
   "cell_type": "code",
   "execution_count": 137,
   "id": "3c3f9d60",
   "metadata": {},
   "outputs": [
    {
     "data": {
      "text/plain": [
       "Adubo      int64\n",
       "Peso     float64\n",
       "dtype: object"
      ]
     },
     "execution_count": 137,
     "metadata": {},
     "output_type": "execute_result"
    }
   ],
   "source": [
    "df.dtypes"
   ]
  },
  {
   "cell_type": "code",
   "execution_count": 138,
   "id": "cbb068e7",
   "metadata": {},
   "outputs": [
    {
     "data": {
      "text/html": [
       "<div>\n",
       "<style scoped>\n",
       "    .dataframe tbody tr th:only-of-type {\n",
       "        vertical-align: middle;\n",
       "    }\n",
       "\n",
       "    .dataframe tbody tr th {\n",
       "        vertical-align: top;\n",
       "    }\n",
       "\n",
       "    .dataframe thead th {\n",
       "        text-align: right;\n",
       "    }\n",
       "</style>\n",
       "<table border=\"1\" class=\"dataframe\">\n",
       "  <thead>\n",
       "    <tr style=\"text-align: right;\">\n",
       "      <th></th>\n",
       "      <th>Adubo</th>\n",
       "      <th>Peso</th>\n",
       "    </tr>\n",
       "  </thead>\n",
       "  <tbody>\n",
       "    <tr>\n",
       "      <th>2</th>\n",
       "      <td>100</td>\n",
       "      <td>164.53</td>\n",
       "    </tr>\n",
       "    <tr>\n",
       "      <th>3</th>\n",
       "      <td>150</td>\n",
       "      <td>164.93</td>\n",
       "    </tr>\n",
       "    <tr>\n",
       "      <th>4</th>\n",
       "      <td>200</td>\n",
       "      <td>163.20</td>\n",
       "    </tr>\n",
       "  </tbody>\n",
       "</table>\n",
       "</div>"
      ],
      "text/plain": [
       "   Adubo    Peso\n",
       "2    100  164.53\n",
       "3    150  164.93\n",
       "4    200  163.20"
      ]
     },
     "execution_count": 138,
     "metadata": {},
     "output_type": "execute_result"
    }
   ],
   "source": [
    "df.query('Peso >= 160.0')"
   ]
  },
  {
   "cell_type": "code",
   "execution_count": 139,
   "id": "190cf4dd",
   "metadata": {},
   "outputs": [
    {
     "data": {
      "text/plain": [
       "<AxesSubplot:>"
      ]
     },
     "execution_count": 139,
     "metadata": {},
     "output_type": "execute_result"
    },
    {
     "data": {
      "image/png": "[encoded data removed]",
      "text/plain": [
       "<Figure size 720x576 with 1 Axes>"
      ]
     },
     "metadata": {
      "needs_background": "light"
     },
     "output_type": "display_data"
    }
   ],
   "source": [
    "df.boxplot(column = ['Peso'], figsize=(10, 8))"
   ]
  },
  {
   "cell_type": "code",
   "execution_count": 20,
   "id": "919b97ab",
   "metadata": {},
   "outputs": [
    {
     "data": {
      "text/plain": [
       "array([[<AxesSubplot:title={'center':'Adubo'}>,\n",
       "        <AxesSubplot:title={'center':'Peso'}>]], dtype=object)"
      ]
     },
     "execution_count": 20,
     "metadata": {},
     "output_type": "execute_result"
    },
    {
     "data": {
      "image/png": "[encoded data removed]",
      "text/plain": [
       "<Figure size 432x288 with 2 Axes>"
      ]
     },
     "metadata": {
      "needs_background": "light"
     },
     "output_type": "display_data"
    }
   ],
   "source": [
    "df.hist()"
   ]
  },
  {
   "cell_type": "code",
   "execution_count": 140,
   "id": "585d37d5",
   "metadata": {},
   "outputs": [
    {
     "data": {
      "text/html": [
       "<div>\n",
       "<style scoped>\n",
       "    .dataframe tbody tr th:only-of-type {\n",
       "        vertical-align: middle;\n",
       "    }\n",
       "\n",
       "    .dataframe tbody tr th {\n",
       "        vertical-align: top;\n",
       "    }\n",
       "\n",
       "    .dataframe thead th {\n",
       "        text-align: right;\n",
       "    }\n",
       "</style>\n",
       "<table border=\"1\" class=\"dataframe\">\n",
       "  <thead>\n",
       "    <tr style=\"text-align: right;\">\n",
       "      <th></th>\n",
       "      <th>Adubo</th>\n",
       "      <th>Peso</th>\n",
       "    </tr>\n",
       "  </thead>\n",
       "  <tbody>\n",
       "    <tr>\n",
       "      <th>Adubo</th>\n",
       "      <td>1.000000</td>\n",
       "      <td>0.486604</td>\n",
       "    </tr>\n",
       "    <tr>\n",
       "      <th>Peso</th>\n",
       "      <td>0.486604</td>\n",
       "      <td>1.000000</td>\n",
       "    </tr>\n",
       "  </tbody>\n",
       "</table>\n",
       "</div>"
      ],
      "text/plain": [
       "          Adubo      Peso\n",
       "Adubo  1.000000  0.486604\n",
       "Peso   0.486604  1.000000"
      ]
     },
     "execution_count": 140,
     "metadata": {},
     "output_type": "execute_result"
    }
   ],
   "source": [
    "df.corr()"
   ]
  },
  {
   "cell_type": "code",
   "execution_count": 2,
   "id": "e46eb151",
   "metadata": {},
   "outputs": [
    {
     "data": {
      "text/plain": [
       "<AxesSubplot:xlabel='Adubo', ylabel='Peso'>"
      ]
     },
     "execution_count": 2,
     "metadata": {},
     "output_type": "execute_result"
    },
    {
     "data": {
      "image/png": "[encoded data removed]",
      "text/plain": [
       "<Figure size 576x360 with 1 Axes>"
      ]
     },
     "metadata": {
      "needs_background": "light"
     },
     "output_type": "display_data"
    }
   ],
   "source": [
    "df.plot.scatter(x='Adubo', y='Peso', figsize=(8, 5))"
   ]
  },
  {
   "cell_type": "code",
   "execution_count": null,
   "id": "0d836060",
   "metadata": {},
   "outputs": [],
   "source": []
  },
  {
   "cell_type": "code",
   "execution_count": 141,
   "id": "7110f238",
   "metadata": {},
   "outputs": [
    {
     "data": {
      "text/html": [
       "<div>\n",
       "<style scoped>\n",
       "    .dataframe tbody tr th:only-of-type {\n",
       "        vertical-align: middle;\n",
       "    }\n",
       "\n",
       "    .dataframe tbody tr th {\n",
       "        vertical-align: top;\n",
       "    }\n",
       "\n",
       "    .dataframe thead th {\n",
       "        text-align: right;\n",
       "    }\n",
       "</style>\n",
       "<table border=\"1\" class=\"dataframe\">\n",
       "  <thead>\n",
       "    <tr style=\"text-align: right;\">\n",
       "      <th></th>\n",
       "      <th>Planta</th>\n",
       "      <th>Diametro</th>\n",
       "      <th>Altura</th>\n",
       "      <th>Peso</th>\n",
       "      <th>Brix</th>\n",
       "      <th>Ph</th>\n",
       "      <th>Acucar</th>\n",
       "    </tr>\n",
       "  </thead>\n",
       "  <tbody>\n",
       "    <tr>\n",
       "      <th>0</th>\n",
       "      <td>1</td>\n",
       "      <td>2.0</td>\n",
       "      <td>2.1</td>\n",
       "      <td>3.71</td>\n",
       "      <td>8.4</td>\n",
       "      <td>2.78</td>\n",
       "      <td>5.12</td>\n",
       "    </tr>\n",
       "    <tr>\n",
       "      <th>1</th>\n",
       "      <td>2</td>\n",
       "      <td>2.1</td>\n",
       "      <td>2.0</td>\n",
       "      <td>3.79</td>\n",
       "      <td>8.4</td>\n",
       "      <td>2.84</td>\n",
       "      <td>5.40</td>\n",
       "    </tr>\n",
       "    <tr>\n",
       "      <th>2</th>\n",
       "      <td>3</td>\n",
       "      <td>2.0</td>\n",
       "      <td>1.7</td>\n",
       "      <td>3.65</td>\n",
       "      <td>8.7</td>\n",
       "      <td>2.89</td>\n",
       "      <td>5.38</td>\n",
       "    </tr>\n",
       "    <tr>\n",
       "      <th>3</th>\n",
       "      <td>4</td>\n",
       "      <td>2.0</td>\n",
       "      <td>1.8</td>\n",
       "      <td>3.83</td>\n",
       "      <td>8.6</td>\n",
       "      <td>2.91</td>\n",
       "      <td>5.23</td>\n",
       "    </tr>\n",
       "    <tr>\n",
       "      <th>4</th>\n",
       "      <td>5</td>\n",
       "      <td>1.8</td>\n",
       "      <td>1.8</td>\n",
       "      <td>3.95</td>\n",
       "      <td>8.0</td>\n",
       "      <td>2.84</td>\n",
       "      <td>3.44</td>\n",
       "    </tr>\n",
       "    <tr>\n",
       "      <th>5</th>\n",
       "      <td>6</td>\n",
       "      <td>2.0</td>\n",
       "      <td>1.9</td>\n",
       "      <td>4.18</td>\n",
       "      <td>8.2</td>\n",
       "      <td>3.00</td>\n",
       "      <td>3.42</td>\n",
       "    </tr>\n",
       "    <tr>\n",
       "      <th>6</th>\n",
       "      <td>7</td>\n",
       "      <td>2.1</td>\n",
       "      <td>2.2</td>\n",
       "      <td>4.37</td>\n",
       "      <td>8.1</td>\n",
       "      <td>3.00</td>\n",
       "      <td>3.48</td>\n",
       "    </tr>\n",
       "    <tr>\n",
       "      <th>7</th>\n",
       "      <td>8</td>\n",
       "      <td>1.8</td>\n",
       "      <td>1.9</td>\n",
       "      <td>3.97</td>\n",
       "      <td>8.0</td>\n",
       "      <td>2.96</td>\n",
       "      <td>3.34</td>\n",
       "    </tr>\n",
       "    <tr>\n",
       "      <th>8</th>\n",
       "      <td>9</td>\n",
       "      <td>1.8</td>\n",
       "      <td>1.8</td>\n",
       "      <td>3.43</td>\n",
       "      <td>8.2</td>\n",
       "      <td>2.75</td>\n",
       "      <td>2.02</td>\n",
       "    </tr>\n",
       "    <tr>\n",
       "      <th>9</th>\n",
       "      <td>10</td>\n",
       "      <td>1.9</td>\n",
       "      <td>1.9</td>\n",
       "      <td>3.78</td>\n",
       "      <td>8.0</td>\n",
       "      <td>2.75</td>\n",
       "      <td>2.14</td>\n",
       "    </tr>\n",
       "    <tr>\n",
       "      <th>10</th>\n",
       "      <td>11</td>\n",
       "      <td>1.9</td>\n",
       "      <td>1.9</td>\n",
       "      <td>3.42</td>\n",
       "      <td>8.0</td>\n",
       "      <td>2.73</td>\n",
       "      <td>2.06</td>\n",
       "    </tr>\n",
       "    <tr>\n",
       "      <th>11</th>\n",
       "      <td>12</td>\n",
       "      <td>2.0</td>\n",
       "      <td>1.9</td>\n",
       "      <td>3.60</td>\n",
       "      <td>8.1</td>\n",
       "      <td>2.71</td>\n",
       "      <td>2.02</td>\n",
       "    </tr>\n",
       "    <tr>\n",
       "      <th>12</th>\n",
       "      <td>13</td>\n",
       "      <td>1.9</td>\n",
       "      <td>1.7</td>\n",
       "      <td>2.87</td>\n",
       "      <td>8.4</td>\n",
       "      <td>2.94</td>\n",
       "      <td>2.86</td>\n",
       "    </tr>\n",
       "    <tr>\n",
       "      <th>13</th>\n",
       "      <td>14</td>\n",
       "      <td>2.1</td>\n",
       "      <td>1.9</td>\n",
       "      <td>3.74</td>\n",
       "      <td>8.8</td>\n",
       "      <td>3.20</td>\n",
       "      <td>3.89</td>\n",
       "    </tr>\n",
       "  </tbody>\n",
       "</table>\n",
       "</div>"
      ],
      "text/plain": [
       "    Planta  Diametro  Altura  Peso  Brix    Ph  Acucar\n",
       "0        1       2.0     2.1  3.71   8.4  2.78    5.12\n",
       "1        2       2.1     2.0  3.79   8.4  2.84    5.40\n",
       "2        3       2.0     1.7  3.65   8.7  2.89    5.38\n",
       "3        4       2.0     1.8  3.83   8.6  2.91    5.23\n",
       "4        5       1.8     1.8  3.95   8.0  2.84    3.44\n",
       "5        6       2.0     1.9  4.18   8.2  3.00    3.42\n",
       "6        7       2.1     2.2  4.37   8.1  3.00    3.48\n",
       "7        8       1.8     1.9  3.97   8.0  2.96    3.34\n",
       "8        9       1.8     1.8  3.43   8.2  2.75    2.02\n",
       "9       10       1.9     1.9  3.78   8.0  2.75    2.14\n",
       "10      11       1.9     1.9  3.42   8.0  2.73    2.06\n",
       "11      12       2.0     1.9  3.60   8.1  2.71    2.02\n",
       "12      13       1.9     1.7  2.87   8.4  2.94    2.86\n",
       "13      14       2.1     1.9  3.74   8.8  3.20    3.89"
      ]
     },
     "execution_count": 141,
     "metadata": {},
     "output_type": "execute_result"
    }
   ],
   "source": [
    "import pandas as pd\n",
    "import seaborn as sns\n",
    "\n",
    "planta = [1, 2, 3, 4, 5, 6, 7, 8, 9, 10, 11, 12, 13, 14]\n",
    "diametro = [2.0, 2.1, 2.0, 2.0, 1.8, 2.0, 2.1, 1.8, 1.8, 1.9, 1.9, 2.0, \n",
    "            1.9, 2.1]\n",
    "altura = [2.1, 2.0, 1.7, 1.8, 1.8, 1.9, 2.2, 1.9, 1.8, 1.9, 1.9, 1.9,\n",
    "          1.7, 1.9]\n",
    "peso = [3.71, 3.79, 3.65, 3.83, 3.95, 4.18, 4.37, 3.97, 3.43, 3.78, 3.42, \n",
    "        3.60, 2.87, 3.74]\n",
    "brix = [8.4, 8.4, 8.7, 8.6, 8.0, 8.2, 8.1, 8.0, 8.2, 8.0, 8.0, 8.1, 8.4, 8.8]\n",
    "ph = [2.78, 2.84, 2.89, 2.91, 2.84, 3.00, 3.00, 2.96, 2.75, 2.75, 2.73, 2.71, \n",
    "      2.94, 3.20]\n",
    "acucar = [5.12, 5.40, 5.38, 5.23, 3.44, 3.42, 3.48, 3.34, 2.02, 2.14, 2.06, \n",
    "          2.02, 2.86, 3.89]\n",
    "\n",
    "\n",
    "d = {'Planta':planta,'Diametro':diametro, 'Altura': altura, 'Peso': peso, \n",
    "     'Brix': brix, 'Ph': ph, 'Acucar': acucar}\n",
    "\n",
    "df = pd.DataFrame(d)\n",
    "df"
   ]
  },
  {
   "cell_type": "code",
   "execution_count": 142,
   "id": "59a12d9e",
   "metadata": {},
   "outputs": [
    {
     "data": {
      "text/plain": [
       "<seaborn.axisgrid.PairGrid at 0x1bc54e2ab20>"
      ]
     },
     "execution_count": 142,
     "metadata": {},
     "output_type": "execute_result"
    },
    {
     "data": {
      "image/png": "[encoded data removed]",
      "text/plain": [
       "<Figure size 1080x1080 with 42 Axes>"
      ]
     },
     "metadata": {
      "needs_background": "light"
     },
     "output_type": "display_data"
    }
   ],
   "source": [
    "num = ['Diametro', 'Altura', 'Peso', 'Brix', 'Ph', 'Acucar']\n",
    "\n",
    "sns.pairplot(df[num],\n",
    "             plot_kws={'alpha': 0.6},\n",
    "             diag_kws={'bins': 30})"
   ]
  },
  {
   "cell_type": "code",
   "execution_count": 143,
   "id": "779c675a",
   "metadata": {},
   "outputs": [
    {
     "data": {
      "text/html": [
       "<div>\n",
       "<style scoped>\n",
       "    .dataframe tbody tr th:only-of-type {\n",
       "        vertical-align: middle;\n",
       "    }\n",
       "\n",
       "    .dataframe tbody tr th {\n",
       "        vertical-align: top;\n",
       "    }\n",
       "\n",
       "    .dataframe thead th {\n",
       "        text-align: right;\n",
       "    }\n",
       "</style>\n",
       "<table border=\"1\" class=\"dataframe\">\n",
       "  <thead>\n",
       "    <tr style=\"text-align: right;\">\n",
       "      <th></th>\n",
       "      <th>Ano</th>\n",
       "      <th>Y</th>\n",
       "      <th>X1</th>\n",
       "      <th>X2</th>\n",
       "      <th>X3</th>\n",
       "      <th>X4</th>\n",
       "    </tr>\n",
       "  </thead>\n",
       "  <tbody>\n",
       "    <tr>\n",
       "      <th>0</th>\n",
       "      <td>1998-1999</td>\n",
       "      <td>2837</td>\n",
       "      <td>87.9</td>\n",
       "      <td>19.6</td>\n",
       "      <td>1.0</td>\n",
       "      <td>1254</td>\n",
       "    </tr>\n",
       "    <tr>\n",
       "      <th>1</th>\n",
       "      <td>1999-2000</td>\n",
       "      <td>2377</td>\n",
       "      <td>89.9</td>\n",
       "      <td>15.2</td>\n",
       "      <td>90.1</td>\n",
       "      <td>731</td>\n",
       "    </tr>\n",
       "    <tr>\n",
       "      <th>2</th>\n",
       "      <td>2000-2001</td>\n",
       "      <td>2604</td>\n",
       "      <td>153.0</td>\n",
       "      <td>19.7</td>\n",
       "      <td>56.6</td>\n",
       "      <td>1022</td>\n",
       "    </tr>\n",
       "    <tr>\n",
       "      <th>3</th>\n",
       "      <td>2001-2002</td>\n",
       "      <td>2574</td>\n",
       "      <td>132.1</td>\n",
       "      <td>17.0</td>\n",
       "      <td>91.0</td>\n",
       "      <td>976</td>\n",
       "    </tr>\n",
       "    <tr>\n",
       "      <th>4</th>\n",
       "      <td>2002-2003</td>\n",
       "      <td>2668</td>\n",
       "      <td>88.8</td>\n",
       "      <td>18.3</td>\n",
       "      <td>93.7</td>\n",
       "      <td>871</td>\n",
       "    </tr>\n",
       "    <tr>\n",
       "      <th>5</th>\n",
       "      <td>2003-2004</td>\n",
       "      <td>2429</td>\n",
       "      <td>220.9</td>\n",
       "      <td>17.8</td>\n",
       "      <td>106.9</td>\n",
       "      <td>971</td>\n",
       "    </tr>\n",
       "    <tr>\n",
       "      <th>6</th>\n",
       "      <td>2004-2005</td>\n",
       "      <td>2800</td>\n",
       "      <td>117.7</td>\n",
       "      <td>17.8</td>\n",
       "      <td>65.5</td>\n",
       "      <td>834</td>\n",
       "    </tr>\n",
       "    <tr>\n",
       "      <th>7</th>\n",
       "      <td>2005-2006</td>\n",
       "      <td>2837</td>\n",
       "      <td>109.0</td>\n",
       "      <td>18.3</td>\n",
       "      <td>41.8</td>\n",
       "      <td>1189</td>\n",
       "    </tr>\n",
       "    <tr>\n",
       "      <th>8</th>\n",
       "      <td>2006-2007</td>\n",
       "      <td>2496</td>\n",
       "      <td>156.1</td>\n",
       "      <td>17.8</td>\n",
       "      <td>57.4</td>\n",
       "      <td>923</td>\n",
       "    </tr>\n",
       "    <tr>\n",
       "      <th>9</th>\n",
       "      <td>2007-2008</td>\n",
       "      <td>2166</td>\n",
       "      <td>181.5</td>\n",
       "      <td>16.8</td>\n",
       "      <td>140.6</td>\n",
       "      <td>681</td>\n",
       "    </tr>\n",
       "    <tr>\n",
       "      <th>10</th>\n",
       "      <td>2008-2009</td>\n",
       "      <td>2437</td>\n",
       "      <td>181.4</td>\n",
       "      <td>17.0</td>\n",
       "      <td>74.3</td>\n",
       "      <td>868</td>\n",
       "    </tr>\n",
       "  </tbody>\n",
       "</table>\n",
       "</div>"
      ],
      "text/plain": [
       "          Ano     Y     X1    X2     X3    X4\n",
       "0   1998-1999  2837   87.9  19.6    1.0  1254\n",
       "1   1999-2000  2377   89.9  15.2   90.1   731\n",
       "2   2000-2001  2604  153.0  19.7   56.6  1022\n",
       "3   2001-2002  2574  132.1  17.0   91.0   976\n",
       "4   2002-2003  2668   88.8  18.3   93.7   871\n",
       "5   2003-2004  2429  220.9  17.8  106.9   971\n",
       "6   2004-2005  2800  117.7  17.8   65.5   834\n",
       "7   2005-2006  2837  109.0  18.3   41.8  1189\n",
       "8   2006-2007  2496  156.1  17.8   57.4   923\n",
       "9   2007-2008  2166  181.5  16.8  140.6   681\n",
       "10  2008-2009  2437  181.4  17.0   74.3   868"
      ]
     },
     "execution_count": 143,
     "metadata": {},
     "output_type": "execute_result"
    }
   ],
   "source": [
    "import pandas as pd\n",
    "import seaborn as sns\n",
    "\n",
    "ano = [\"1998-1999\", \"1999-2000\", \"2000-2001\", \"2001-2002\", \n",
    "       \"2002-2003\", \"2003-2004\", \"2004-2005\", \"2005-2006\", \"2006-2007\",\n",
    "       \"2007-2008\", \"2008-2009\"]\n",
    "y = [2837, 2377, 2604, 2574, 2668, 2429, 2800, 2837, 2496, 2166, 2437]\n",
    "x1 = [87.9, 89.9, 153.0, 132.1, 88.8, 220.9, 117.7, 109.0, 156.1, 181.5, 181.4]\n",
    "x2 = [19.6, 15.2, 19.7, 17.0, 18.3, 17.8, 17.8, 18.3, 17.8, 16.8, 17.0]\n",
    "x3 = [1.0, 90.1, 56.6, 91.0, 93.7, 106.9, 65.5, 41.8, 57.4, 140.6, 74.3]\n",
    "x4 = [1254, 731, 1022, 976, 871, 971, 834, 1189, 923, 681, 868]\n",
    "\n",
    "d = {'Ano':ano,'Y':y, 'X1': x1, 'X2': x2, 'X3': x3, 'X4': x4}\n",
    "\n",
    "df = pd.DataFrame(d)\n",
    "df"
   ]
  },
  {
   "cell_type": "code",
   "execution_count": 144,
   "id": "7d4c8077",
   "metadata": {},
   "outputs": [
    {
     "name": "stdout",
     "output_type": "stream",
     "text": [
      "<class 'pandas.core.frame.DataFrame'>\n",
      "RangeIndex: 11 entries, 0 to 10\n",
      "Data columns (total 6 columns):\n",
      " #   Column  Non-Null Count  Dtype  \n",
      "---  ------  --------------  -----  \n",
      " 0   Ano     11 non-null     object \n",
      " 1   Y       11 non-null     int64  \n",
      " 2   X1      11 non-null     float64\n",
      " 3   X2      11 non-null     float64\n",
      " 4   X3      11 non-null     float64\n",
      " 5   X4      11 non-null     int64  \n",
      "dtypes: float64(3), int64(2), object(1)\n",
      "memory usage: 656.0+ bytes\n"
     ]
    }
   ],
   "source": [
    "df.info()"
   ]
  },
  {
   "cell_type": "code",
   "execution_count": 145,
   "id": "65125cfc",
   "metadata": {},
   "outputs": [
    {
     "data": {
      "text/html": [
       "<div>\n",
       "<style scoped>\n",
       "    .dataframe tbody tr th:only-of-type {\n",
       "        vertical-align: middle;\n",
       "    }\n",
       "\n",
       "    .dataframe tbody tr th {\n",
       "        vertical-align: top;\n",
       "    }\n",
       "\n",
       "    .dataframe thead th {\n",
       "        text-align: right;\n",
       "    }\n",
       "</style>\n",
       "<table border=\"1\" class=\"dataframe\">\n",
       "  <thead>\n",
       "    <tr style=\"text-align: right;\">\n",
       "      <th></th>\n",
       "      <th>Sexo</th>\n",
       "      <th>Altura</th>\n",
       "      <th>Idade</th>\n",
       "    </tr>\n",
       "  </thead>\n",
       "  <tbody>\n",
       "    <tr>\n",
       "      <th>0</th>\n",
       "      <td>M</td>\n",
       "      <td>1.80</td>\n",
       "      <td>25</td>\n",
       "    </tr>\n",
       "    <tr>\n",
       "      <th>1</th>\n",
       "      <td>F</td>\n",
       "      <td>1.70</td>\n",
       "      <td>40</td>\n",
       "    </tr>\n",
       "    <tr>\n",
       "      <th>2</th>\n",
       "      <td>M</td>\n",
       "      <td>1.75</td>\n",
       "      <td>38</td>\n",
       "    </tr>\n",
       "    <tr>\n",
       "      <th>3</th>\n",
       "      <td>F</td>\n",
       "      <td>1.65</td>\n",
       "      <td>30</td>\n",
       "    </tr>\n",
       "  </tbody>\n",
       "</table>\n",
       "</div>"
      ],
      "text/plain": [
       "  Sexo  Altura  Idade\n",
       "0    M    1.80     25\n",
       "1    F    1.70     40\n",
       "2    M    1.75     38\n",
       "3    F    1.65     30"
      ]
     },
     "execution_count": 145,
     "metadata": {},
     "output_type": "execute_result"
    }
   ],
   "source": [
    "import pandas as pd\n",
    "\n",
    "sexo = ['M', 'F', 'M', 'F']\n",
    "altura = [1.80, 1.70, 1.75, 1.65]\n",
    "idade = [25, 40, 38, 30]\n",
    "\n",
    "d = {'Sexo':sexo,'Altura':altura, 'Idade':idade} # dicionário\n",
    "\n",
    "df = pd.DataFrame(d)\n",
    "df"
   ]
  },
  {
   "cell_type": "code",
   "execution_count": 146,
   "id": "dabb2dd9",
   "metadata": {},
   "outputs": [
    {
     "data": {
      "text/plain": [
       "(4, 3)"
      ]
     },
     "execution_count": 146,
     "metadata": {},
     "output_type": "execute_result"
    }
   ],
   "source": [
    "df.shape"
   ]
  },
  {
   "cell_type": "code",
   "execution_count": 147,
   "id": "a2669762",
   "metadata": {},
   "outputs": [
    {
     "name": "stdout",
     "output_type": "stream",
     "text": [
      "<class 'pandas.core.frame.DataFrame'>\n",
      "RangeIndex: 4 entries, 0 to 3\n",
      "Data columns (total 3 columns):\n",
      " #   Column  Non-Null Count  Dtype  \n",
      "---  ------  --------------  -----  \n",
      " 0   Sexo    4 non-null      object \n",
      " 1   Altura  4 non-null      float64\n",
      " 2   Idade   4 non-null      int64  \n",
      "dtypes: float64(1), int64(1), object(1)\n",
      "memory usage: 224.0+ bytes\n"
     ]
    }
   ],
   "source": [
    "df.info()"
   ]
  },
  {
   "cell_type": "raw",
   "id": "afbbfab0",
   "metadata": {},
   "source": [
    "*** Fim da aula de 07.10.2021 ***"
   ]
  },
  {
   "cell_type": "code",
   "execution_count": null,
   "id": "65426bb2",
   "metadata": {},
   "outputs": [],
   "source": []
  },
  {
   "attachments": {},
   "cell_type": "markdown",
   "id": "52a6a61f",
   "metadata": {},
   "source": [
    "Atividade prática de DataFrame"
   ]
  },
  {
   "cell_type": "raw",
   "id": "e66e705a",
   "metadata": {},
   "source": [
    "1) Criar um DataFrame com as seguintes colunas: altura, peso, idade, sexo, estado_civil, escolaridade, profissão, renda (não precisa ser real!), naturalidade, estado"
   ]
  },
  {
   "cell_type": "code",
   "execution_count": 1,
   "id": "c87a6749",
   "metadata": {},
   "outputs": [
    {
     "data": {
      "text/html": [
       "<div>\n",
       "<style scoped>\n",
       "    .dataframe tbody tr th:only-of-type {\n",
       "        vertical-align: middle;\n",
       "    }\n",
       "\n",
       "    .dataframe tbody tr th {\n",
       "        vertical-align: top;\n",
       "    }\n",
       "\n",
       "    .dataframe thead th {\n",
       "        text-align: right;\n",
       "    }\n",
       "</style>\n",
       "<table border=\"1\" class=\"dataframe\">\n",
       "  <thead>\n",
       "    <tr style=\"text-align: right;\">\n",
       "      <th></th>\n",
       "      <th>Altura</th>\n",
       "      <th>Peso</th>\n",
       "      <th>Idade</th>\n",
       "      <th>Sexo</th>\n",
       "      <th>Estado Civil</th>\n",
       "      <th>Escolaridade</th>\n",
       "      <th>Profissão</th>\n",
       "      <th>Renda</th>\n",
       "      <th>Naturalidade</th>\n",
       "      <th>Estado</th>\n",
       "    </tr>\n",
       "  </thead>\n",
       "  <tbody>\n",
       "    <tr>\n",
       "      <th>0</th>\n",
       "      <td>1.81</td>\n",
       "      <td>80</td>\n",
       "      <td>59</td>\n",
       "      <td>M</td>\n",
       "      <td>casado</td>\n",
       "      <td>PG</td>\n",
       "      <td>Engenheiro</td>\n",
       "      <td>5000.0</td>\n",
       "      <td>Piracicaba</td>\n",
       "      <td>SP</td>\n",
       "    </tr>\n",
       "    <tr>\n",
       "      <th>1</th>\n",
       "      <td>1.75</td>\n",
       "      <td>75</td>\n",
       "      <td>45</td>\n",
       "      <td>F</td>\n",
       "      <td>solteiro</td>\n",
       "      <td>graduação</td>\n",
       "      <td>professor</td>\n",
       "      <td>2500.0</td>\n",
       "      <td>Americana</td>\n",
       "      <td>SP</td>\n",
       "    </tr>\n",
       "  </tbody>\n",
       "</table>\n",
       "</div>"
      ],
      "text/plain": [
       "   Altura  Peso  Idade Sexo Estado Civil Escolaridade   Profissão   Renda  \\\n",
       "0    1.81    80     59    M       casado           PG  Engenheiro  5000.0   \n",
       "1    1.75    75     45    F     solteiro    graduação   professor  2500.0   \n",
       "\n",
       "  Naturalidade Estado  \n",
       "0   Piracicaba     SP  \n",
       "1    Americana     SP  "
      ]
     },
     "execution_count": 1,
     "metadata": {},
     "output_type": "execute_result"
    }
   ],
   "source": [
    "import pandas as pd\n",
    "\n",
    "altura = [1.81, 1.75]\n",
    "peso = [80, 75]\n",
    "idade = [59, 45]\n",
    "sexo = ['M', 'F']\n",
    "estado_civil = ['casado', 'solteiro']\n",
    "escolaridade = ['PG', 'graduação']\n",
    "profissão = ['Engenheiro', 'professor']\n",
    "renda = [5000.00, 2500.00]\n",
    "naturalidade = ['Piracicaba', 'Americana']\n",
    "estado = ['SP', 'SP']\n",
    "\n",
    "# Vou criar um dicionário (d)\n",
    "d = {'Altura':altura, 'Peso':peso, 'Idade':idade, 'Sexo':sexo, \"Estado Civil\":estado_civil, \n",
    "     'Escolaridade':escolaridade, 'Profissão':profissão, 'Renda':renda, \n",
    "     'Naturalidade':naturalidade, 'Estado':estado} \n",
    "\n",
    "df = pd.DataFrame(d)\n",
    "df"
   ]
  },
  {
   "cell_type": "code",
   "execution_count": 2,
   "id": "96c86e6b",
   "metadata": {},
   "outputs": [],
   "source": [
    "df.to_csv('pessoas.csv')"
   ]
  },
  {
   "cell_type": "code",
   "execution_count": 3,
   "id": "7ff4a35b",
   "metadata": {},
   "outputs": [],
   "source": [
    "df2 = pd.read_csv(\"pessoas.csv\")"
   ]
  },
  {
   "cell_type": "code",
   "execution_count": 4,
   "id": "37409ba6",
   "metadata": {},
   "outputs": [
    {
     "data": {
      "text/html": [
       "<div>\n",
       "<style scoped>\n",
       "    .dataframe tbody tr th:only-of-type {\n",
       "        vertical-align: middle;\n",
       "    }\n",
       "\n",
       "    .dataframe tbody tr th {\n",
       "        vertical-align: top;\n",
       "    }\n",
       "\n",
       "    .dataframe thead th {\n",
       "        text-align: right;\n",
       "    }\n",
       "</style>\n",
       "<table border=\"1\" class=\"dataframe\">\n",
       "  <thead>\n",
       "    <tr style=\"text-align: right;\">\n",
       "      <th></th>\n",
       "      <th>Unnamed: 0</th>\n",
       "      <th>Altura</th>\n",
       "      <th>Peso</th>\n",
       "      <th>Idade</th>\n",
       "      <th>Sexo</th>\n",
       "      <th>Estado Civil</th>\n",
       "      <th>Escolaridade</th>\n",
       "      <th>Profissão</th>\n",
       "      <th>Renda</th>\n",
       "      <th>Naturalidade</th>\n",
       "      <th>Estado</th>\n",
       "    </tr>\n",
       "  </thead>\n",
       "  <tbody>\n",
       "    <tr>\n",
       "      <th>0</th>\n",
       "      <td>0</td>\n",
       "      <td>1.81</td>\n",
       "      <td>80</td>\n",
       "      <td>59</td>\n",
       "      <td>M</td>\n",
       "      <td>casado</td>\n",
       "      <td>PG</td>\n",
       "      <td>Engenheiro</td>\n",
       "      <td>5000.0</td>\n",
       "      <td>Piracicaba</td>\n",
       "      <td>SP</td>\n",
       "    </tr>\n",
       "    <tr>\n",
       "      <th>1</th>\n",
       "      <td>1</td>\n",
       "      <td>1.75</td>\n",
       "      <td>75</td>\n",
       "      <td>45</td>\n",
       "      <td>F</td>\n",
       "      <td>solteiro</td>\n",
       "      <td>graduação</td>\n",
       "      <td>professor</td>\n",
       "      <td>2500.0</td>\n",
       "      <td>Americana</td>\n",
       "      <td>SP</td>\n",
       "    </tr>\n",
       "  </tbody>\n",
       "</table>\n",
       "</div>"
      ],
      "text/plain": [
       "   Unnamed: 0  Altura  Peso  Idade Sexo Estado Civil Escolaridade   Profissão  \\\n",
       "0           0    1.81    80     59    M       casado           PG  Engenheiro   \n",
       "1           1    1.75    75     45    F     solteiro    graduação   professor   \n",
       "\n",
       "    Renda Naturalidade Estado  \n",
       "0  5000.0   Piracicaba     SP  \n",
       "1  2500.0    Americana     SP  "
      ]
     },
     "execution_count": 4,
     "metadata": {},
     "output_type": "execute_result"
    }
   ],
   "source": [
    "df2"
   ]
  },
  {
   "cell_type": "code",
   "execution_count": 5,
   "id": "2d5471f9",
   "metadata": {},
   "outputs": [
    {
     "data": {
      "text/html": [
       "<div>\n",
       "<style scoped>\n",
       "    .dataframe tbody tr th:only-of-type {\n",
       "        vertical-align: middle;\n",
       "    }\n",
       "\n",
       "    .dataframe tbody tr th {\n",
       "        vertical-align: top;\n",
       "    }\n",
       "\n",
       "    .dataframe thead th {\n",
       "        text-align: right;\n",
       "    }\n",
       "</style>\n",
       "<table border=\"1\" class=\"dataframe\">\n",
       "  <thead>\n",
       "    <tr style=\"text-align: right;\">\n",
       "      <th></th>\n",
       "      <th>Unnamed: 0</th>\n",
       "      <th>Altura</th>\n",
       "      <th>Peso</th>\n",
       "      <th>Idade</th>\n",
       "      <th>Sexo</th>\n",
       "      <th>Estado Civil</th>\n",
       "      <th>Escolaridade</th>\n",
       "      <th>Profissão</th>\n",
       "      <th>Renda</th>\n",
       "      <th>Naturalidade</th>\n",
       "      <th>Estado</th>\n",
       "    </tr>\n",
       "  </thead>\n",
       "  <tbody>\n",
       "    <tr>\n",
       "      <th>0</th>\n",
       "      <td>0</td>\n",
       "      <td>1.81</td>\n",
       "      <td>80</td>\n",
       "      <td>59</td>\n",
       "      <td>M</td>\n",
       "      <td>casado</td>\n",
       "      <td>PG</td>\n",
       "      <td>Engenheiro</td>\n",
       "      <td>5000.0</td>\n",
       "      <td>Piracicaba</td>\n",
       "      <td>SP</td>\n",
       "    </tr>\n",
       "    <tr>\n",
       "      <th>1</th>\n",
       "      <td>1</td>\n",
       "      <td>1.75</td>\n",
       "      <td>75</td>\n",
       "      <td>45</td>\n",
       "      <td>F</td>\n",
       "      <td>solteiro</td>\n",
       "      <td>graduação</td>\n",
       "      <td>professor</td>\n",
       "      <td>2500.0</td>\n",
       "      <td>Americana</td>\n",
       "      <td>SP</td>\n",
       "    </tr>\n",
       "  </tbody>\n",
       "</table>\n",
       "</div>"
      ],
      "text/plain": [
       "   Unnamed: 0  Altura  Peso  Idade Sexo Estado Civil Escolaridade   Profissão  \\\n",
       "0           0    1.81    80     59    M       casado           PG  Engenheiro   \n",
       "1           1    1.75    75     45    F     solteiro    graduação   professor   \n",
       "\n",
       "    Renda Naturalidade Estado  \n",
       "0  5000.0   Piracicaba     SP  \n",
       "1  2500.0    Americana     SP  "
      ]
     },
     "execution_count": 5,
     "metadata": {},
     "output_type": "execute_result"
    }
   ],
   "source": [
    "df2.head()"
   ]
  },
  {
   "cell_type": "code",
   "execution_count": 10,
   "id": "c0e65b3a",
   "metadata": {},
   "outputs": [],
   "source": [
    "# arquivo da Sthefanie\n",
    "df3 = pd.read_csv(\"pessoas_s.csv\")"
   ]
  },
  {
   "cell_type": "code",
   "execution_count": 11,
   "id": "7142fdc0",
   "metadata": {},
   "outputs": [
    {
     "data": {
      "text/html": [
       "<div>\n",
       "<style scoped>\n",
       "    .dataframe tbody tr th:only-of-type {\n",
       "        vertical-align: middle;\n",
       "    }\n",
       "\n",
       "    .dataframe tbody tr th {\n",
       "        vertical-align: top;\n",
       "    }\n",
       "\n",
       "    .dataframe thead th {\n",
       "        text-align: right;\n",
       "    }\n",
       "</style>\n",
       "<table border=\"1\" class=\"dataframe\">\n",
       "  <thead>\n",
       "    <tr style=\"text-align: right;\">\n",
       "      <th></th>\n",
       "      <th>Unnamed: 0</th>\n",
       "      <th>Altura</th>\n",
       "      <th>Peso</th>\n",
       "      <th>Idade</th>\n",
       "      <th>Sexo</th>\n",
       "      <th>Estado Civil</th>\n",
       "      <th>Escolaridade</th>\n",
       "      <th>Profissão</th>\n",
       "      <th>Renda</th>\n",
       "      <th>Naturalidade</th>\n",
       "      <th>Estado</th>\n",
       "    </tr>\n",
       "  </thead>\n",
       "  <tbody>\n",
       "    <tr>\n",
       "      <th>0</th>\n",
       "      <td>0</td>\n",
       "      <td>1.81</td>\n",
       "      <td>80</td>\n",
       "      <td>59</td>\n",
       "      <td>M</td>\n",
       "      <td>casado</td>\n",
       "      <td>PG</td>\n",
       "      <td>Engenheiro</td>\n",
       "      <td>5000.0</td>\n",
       "      <td>Piracicaba</td>\n",
       "      <td>SP</td>\n",
       "    </tr>\n",
       "    <tr>\n",
       "      <th>1</th>\n",
       "      <td>1</td>\n",
       "      <td>1.66</td>\n",
       "      <td>53</td>\n",
       "      <td>19</td>\n",
       "      <td>F</td>\n",
       "      <td>solteira</td>\n",
       "      <td>G-cursando</td>\n",
       "      <td>Estagiária</td>\n",
       "      <td>2000.0</td>\n",
       "      <td>Americana</td>\n",
       "      <td>SP</td>\n",
       "    </tr>\n",
       "    <tr>\n",
       "      <th>2</th>\n",
       "      <td>2</td>\n",
       "      <td>1.73</td>\n",
       "      <td>72</td>\n",
       "      <td>31</td>\n",
       "      <td>M</td>\n",
       "      <td>casado</td>\n",
       "      <td>G-completo</td>\n",
       "      <td>Mecânico</td>\n",
       "      <td>2000.0</td>\n",
       "      <td>Porto dos Gaúchos</td>\n",
       "      <td>MT</td>\n",
       "    </tr>\n",
       "    <tr>\n",
       "      <th>3</th>\n",
       "      <td>3</td>\n",
       "      <td>1.78</td>\n",
       "      <td>65</td>\n",
       "      <td>20</td>\n",
       "      <td>M</td>\n",
       "      <td>solteiro</td>\n",
       "      <td>G-cursando</td>\n",
       "      <td>Estudante</td>\n",
       "      <td>1000.0</td>\n",
       "      <td>Bauru</td>\n",
       "      <td>SP</td>\n",
       "    </tr>\n",
       "    <tr>\n",
       "      <th>4</th>\n",
       "      <td>4</td>\n",
       "      <td>1.79</td>\n",
       "      <td>72</td>\n",
       "      <td>23</td>\n",
       "      <td>M</td>\n",
       "      <td>solteiro</td>\n",
       "      <td>G-cursando</td>\n",
       "      <td>Estudante</td>\n",
       "      <td>1000.0</td>\n",
       "      <td>Americana</td>\n",
       "      <td>SP</td>\n",
       "    </tr>\n",
       "    <tr>\n",
       "      <th>5</th>\n",
       "      <td>5</td>\n",
       "      <td>1.71</td>\n",
       "      <td>56</td>\n",
       "      <td>30</td>\n",
       "      <td>F</td>\n",
       "      <td>casada</td>\n",
       "      <td>G-completo</td>\n",
       "      <td>Empresária</td>\n",
       "      <td>1500.0</td>\n",
       "      <td>Americana</td>\n",
       "      <td>SP</td>\n",
       "    </tr>\n",
       "    <tr>\n",
       "      <th>6</th>\n",
       "      <td>6</td>\n",
       "      <td>1.84</td>\n",
       "      <td>82</td>\n",
       "      <td>19</td>\n",
       "      <td>M</td>\n",
       "      <td>solteiro</td>\n",
       "      <td>G-cursando</td>\n",
       "      <td>Projetista BIM</td>\n",
       "      <td>1500.0</td>\n",
       "      <td>Limeira</td>\n",
       "      <td>SP</td>\n",
       "    </tr>\n",
       "    <tr>\n",
       "      <th>7</th>\n",
       "      <td>7</td>\n",
       "      <td>1.58</td>\n",
       "      <td>55</td>\n",
       "      <td>18</td>\n",
       "      <td>F</td>\n",
       "      <td>solteira</td>\n",
       "      <td>G-cursando</td>\n",
       "      <td>Estudante</td>\n",
       "      <td>1000.0</td>\n",
       "      <td>São Paulo</td>\n",
       "      <td>SP</td>\n",
       "    </tr>\n",
       "    <tr>\n",
       "      <th>8</th>\n",
       "      <td>8</td>\n",
       "      <td>1.85</td>\n",
       "      <td>67</td>\n",
       "      <td>18</td>\n",
       "      <td>M</td>\n",
       "      <td>solteiro</td>\n",
       "      <td>G-cursando</td>\n",
       "      <td>Estudante</td>\n",
       "      <td>1000.0</td>\n",
       "      <td>Limeira</td>\n",
       "      <td>SP</td>\n",
       "    </tr>\n",
       "    <tr>\n",
       "      <th>9</th>\n",
       "      <td>9</td>\n",
       "      <td>1.80</td>\n",
       "      <td>67</td>\n",
       "      <td>19</td>\n",
       "      <td>M</td>\n",
       "      <td>solteiro</td>\n",
       "      <td>G-completo</td>\n",
       "      <td>Estudante</td>\n",
       "      <td>5000.0</td>\n",
       "      <td>Americana</td>\n",
       "      <td>SP</td>\n",
       "    </tr>\n",
       "    <tr>\n",
       "      <th>10</th>\n",
       "      <td>10</td>\n",
       "      <td>1.84</td>\n",
       "      <td>63</td>\n",
       "      <td>18</td>\n",
       "      <td>F</td>\n",
       "      <td>solteiro</td>\n",
       "      <td>G-cursando</td>\n",
       "      <td>Estudante</td>\n",
       "      <td>1000.0</td>\n",
       "      <td>Santa Bárbara d´oeste</td>\n",
       "      <td>SP</td>\n",
       "    </tr>\n",
       "    <tr>\n",
       "      <th>11</th>\n",
       "      <td>11</td>\n",
       "      <td>1.71</td>\n",
       "      <td>78</td>\n",
       "      <td>18</td>\n",
       "      <td>M</td>\n",
       "      <td>solteira</td>\n",
       "      <td>G-cursando</td>\n",
       "      <td>Estudante</td>\n",
       "      <td>1000.0</td>\n",
       "      <td>Americana</td>\n",
       "      <td>SP</td>\n",
       "    </tr>\n",
       "    <tr>\n",
       "      <th>12</th>\n",
       "      <td>12</td>\n",
       "      <td>1.77</td>\n",
       "      <td>60</td>\n",
       "      <td>22</td>\n",
       "      <td>F</td>\n",
       "      <td>solteiro</td>\n",
       "      <td>G-cursando</td>\n",
       "      <td>Estoquista</td>\n",
       "      <td>2000.0</td>\n",
       "      <td>Paranavaí</td>\n",
       "      <td>PR</td>\n",
       "    </tr>\n",
       "    <tr>\n",
       "      <th>13</th>\n",
       "      <td>13</td>\n",
       "      <td>1.75</td>\n",
       "      <td>55</td>\n",
       "      <td>20</td>\n",
       "      <td>M</td>\n",
       "      <td>solteira</td>\n",
       "      <td>G-cursando</td>\n",
       "      <td>Estudante</td>\n",
       "      <td>1000.0</td>\n",
       "      <td>Americana</td>\n",
       "      <td>SP</td>\n",
       "    </tr>\n",
       "    <tr>\n",
       "      <th>14</th>\n",
       "      <td>14</td>\n",
       "      <td>1.82</td>\n",
       "      <td>70</td>\n",
       "      <td>21</td>\n",
       "      <td>M</td>\n",
       "      <td>solteiro</td>\n",
       "      <td>G-cursando</td>\n",
       "      <td>Estudante</td>\n",
       "      <td>1000.0</td>\n",
       "      <td>Americana</td>\n",
       "      <td>SP</td>\n",
       "    </tr>\n",
       "    <tr>\n",
       "      <th>15</th>\n",
       "      <td>15</td>\n",
       "      <td>1.69</td>\n",
       "      <td>48</td>\n",
       "      <td>18</td>\n",
       "      <td>M</td>\n",
       "      <td>solteiro</td>\n",
       "      <td>G-cursando</td>\n",
       "      <td>Estudante/professor</td>\n",
       "      <td>1000.0</td>\n",
       "      <td>Reino Unido</td>\n",
       "      <td>WEST SUSSEX</td>\n",
       "    </tr>\n",
       "  </tbody>\n",
       "</table>\n",
       "</div>"
      ],
      "text/plain": [
       "    Unnamed: 0  Altura  Peso  Idade Sexo Estado Civil Escolaridade  \\\n",
       "0            0    1.81    80     59    M       casado           PG   \n",
       "1            1    1.66    53     19    F     solteira   G-cursando   \n",
       "2            2    1.73    72     31    M       casado   G-completo   \n",
       "3            3    1.78    65     20    M     solteiro   G-cursando   \n",
       "4            4    1.79    72     23    M     solteiro   G-cursando   \n",
       "5            5    1.71    56     30    F       casada   G-completo   \n",
       "6            6    1.84    82     19    M     solteiro   G-cursando   \n",
       "7            7    1.58    55     18    F     solteira   G-cursando   \n",
       "8            8    1.85    67     18    M     solteiro   G-cursando   \n",
       "9            9    1.80    67     19    M     solteiro   G-completo   \n",
       "10          10    1.84    63     18    F     solteiro   G-cursando   \n",
       "11          11    1.71    78     18    M     solteira   G-cursando   \n",
       "12          12    1.77    60     22    F     solteiro   G-cursando   \n",
       "13          13    1.75    55     20    M     solteira   G-cursando   \n",
       "14          14    1.82    70     21    M     solteiro   G-cursando   \n",
       "15          15    1.69    48     18    M     solteiro   G-cursando   \n",
       "\n",
       "              Profissão   Renda           Naturalidade       Estado  \n",
       "0            Engenheiro  5000.0             Piracicaba           SP  \n",
       "1            Estagiária  2000.0              Americana           SP  \n",
       "2              Mecânico  2000.0      Porto dos Gaúchos           MT  \n",
       "3             Estudante  1000.0                  Bauru           SP  \n",
       "4             Estudante  1000.0              Americana           SP  \n",
       "5            Empresária  1500.0              Americana           SP  \n",
       "6        Projetista BIM  1500.0                Limeira           SP  \n",
       "7             Estudante  1000.0              São Paulo           SP  \n",
       "8             Estudante  1000.0                Limeira           SP  \n",
       "9             Estudante  5000.0              Americana           SP  \n",
       "10            Estudante  1000.0  Santa Bárbara d´oeste           SP  \n",
       "11            Estudante  1000.0              Americana           SP  \n",
       "12           Estoquista  2000.0              Paranavaí           PR  \n",
       "13            Estudante  1000.0              Americana           SP  \n",
       "14            Estudante  1000.0              Americana           SP  \n",
       "15  Estudante/professor  1000.0            Reino Unido  WEST SUSSEX  "
      ]
     },
     "execution_count": 11,
     "metadata": {},
     "output_type": "execute_result"
    }
   ],
   "source": [
    "df3"
   ]
  },
  {
   "cell_type": "code",
   "execution_count": 12,
   "id": "9f829146",
   "metadata": {},
   "outputs": [
    {
     "data": {
      "text/html": [
       "<div>\n",
       "<style scoped>\n",
       "    .dataframe tbody tr th:only-of-type {\n",
       "        vertical-align: middle;\n",
       "    }\n",
       "\n",
       "    .dataframe tbody tr th {\n",
       "        vertical-align: top;\n",
       "    }\n",
       "\n",
       "    .dataframe thead th {\n",
       "        text-align: right;\n",
       "    }\n",
       "</style>\n",
       "<table border=\"1\" class=\"dataframe\">\n",
       "  <thead>\n",
       "    <tr style=\"text-align: right;\">\n",
       "      <th></th>\n",
       "      <th>Unnamed: 0</th>\n",
       "      <th>Altura</th>\n",
       "      <th>Peso</th>\n",
       "      <th>Idade</th>\n",
       "      <th>Sexo</th>\n",
       "      <th>Estado_civil</th>\n",
       "      <th>Escolaridade</th>\n",
       "      <th>ProfissÃ£o</th>\n",
       "      <th>Renda</th>\n",
       "      <th>Naturalidade</th>\n",
       "      <th>Estado</th>\n",
       "    </tr>\n",
       "  </thead>\n",
       "  <tbody>\n",
       "    <tr>\n",
       "      <th>0</th>\n",
       "      <td>0</td>\n",
       "      <td>1.74</td>\n",
       "      <td>65</td>\n",
       "      <td>18</td>\n",
       "      <td>M</td>\n",
       "      <td>Solteiro</td>\n",
       "      <td>Superior</td>\n",
       "      <td>Estudante</td>\n",
       "      <td>250</td>\n",
       "      <td>PeruÃ­be</td>\n",
       "      <td>SP</td>\n",
       "    </tr>\n",
       "    <tr>\n",
       "      <th>1</th>\n",
       "      <td>1</td>\n",
       "      <td>1.73</td>\n",
       "      <td>55</td>\n",
       "      <td>18</td>\n",
       "      <td>M</td>\n",
       "      <td>Solteiro</td>\n",
       "      <td>MÃ©dio</td>\n",
       "      <td>Estudante</td>\n",
       "      <td>1100</td>\n",
       "      <td>Santos</td>\n",
       "      <td>SP</td>\n",
       "    </tr>\n",
       "    <tr>\n",
       "      <th>2</th>\n",
       "      <td>2</td>\n",
       "      <td>1.71</td>\n",
       "      <td>75</td>\n",
       "      <td>37</td>\n",
       "      <td>F</td>\n",
       "      <td>Solteira</td>\n",
       "      <td>MÃ©dio</td>\n",
       "      <td>Uber</td>\n",
       "      <td>3385</td>\n",
       "      <td>PeruÃ­be</td>\n",
       "      <td>SP</td>\n",
       "    </tr>\n",
       "    <tr>\n",
       "      <th>3</th>\n",
       "      <td>3</td>\n",
       "      <td>1.73</td>\n",
       "      <td>72</td>\n",
       "      <td>31</td>\n",
       "      <td>M</td>\n",
       "      <td>Casado</td>\n",
       "      <td>Superior</td>\n",
       "      <td>MecÃ¢nica</td>\n",
       "      <td>4500</td>\n",
       "      <td>Porto_dos_GaÃºchos</td>\n",
       "      <td>MT</td>\n",
       "    </tr>\n",
       "    <tr>\n",
       "      <th>4</th>\n",
       "      <td>4</td>\n",
       "      <td>1.78</td>\n",
       "      <td>65</td>\n",
       "      <td>20</td>\n",
       "      <td>M</td>\n",
       "      <td>Solteiro</td>\n",
       "      <td>Superior</td>\n",
       "      <td>Estudante</td>\n",
       "      <td>1250</td>\n",
       "      <td>Bauru</td>\n",
       "      <td>SP</td>\n",
       "    </tr>\n",
       "    <tr>\n",
       "      <th>5</th>\n",
       "      <td>5</td>\n",
       "      <td>1.79</td>\n",
       "      <td>72</td>\n",
       "      <td>23</td>\n",
       "      <td>M</td>\n",
       "      <td>Solteiro</td>\n",
       "      <td>Superior</td>\n",
       "      <td>Estudante</td>\n",
       "      <td>720</td>\n",
       "      <td>Americana</td>\n",
       "      <td>SP</td>\n",
       "    </tr>\n",
       "    <tr>\n",
       "      <th>6</th>\n",
       "      <td>6</td>\n",
       "      <td>1.71</td>\n",
       "      <td>56</td>\n",
       "      <td>30</td>\n",
       "      <td>F</td>\n",
       "      <td>Casada</td>\n",
       "      <td>Superior</td>\n",
       "      <td>EmpresÃ¡ria</td>\n",
       "      <td>5200</td>\n",
       "      <td>Americana</td>\n",
       "      <td>SP</td>\n",
       "    </tr>\n",
       "    <tr>\n",
       "      <th>7</th>\n",
       "      <td>7</td>\n",
       "      <td>1.84</td>\n",
       "      <td>82</td>\n",
       "      <td>19</td>\n",
       "      <td>M</td>\n",
       "      <td>Solteiro</td>\n",
       "      <td>Superior</td>\n",
       "      <td>Projetista BIM</td>\n",
       "      <td>2800</td>\n",
       "      <td>Limeira</td>\n",
       "      <td>SP</td>\n",
       "    </tr>\n",
       "    <tr>\n",
       "      <th>8</th>\n",
       "      <td>8</td>\n",
       "      <td>1.58</td>\n",
       "      <td>55</td>\n",
       "      <td>18</td>\n",
       "      <td>F</td>\n",
       "      <td>Solteira</td>\n",
       "      <td>Superior</td>\n",
       "      <td>Estudante</td>\n",
       "      <td>1220</td>\n",
       "      <td>SÃ£o_Paulo</td>\n",
       "      <td>SP</td>\n",
       "    </tr>\n",
       "    <tr>\n",
       "      <th>9</th>\n",
       "      <td>9</td>\n",
       "      <td>1.85</td>\n",
       "      <td>67</td>\n",
       "      <td>18</td>\n",
       "      <td>M</td>\n",
       "      <td>Solteiro</td>\n",
       "      <td>Superior</td>\n",
       "      <td>Estudante</td>\n",
       "      <td>250</td>\n",
       "      <td>Limeira</td>\n",
       "      <td>SP</td>\n",
       "    </tr>\n",
       "    <tr>\n",
       "      <th>10</th>\n",
       "      <td>10</td>\n",
       "      <td>1.80</td>\n",
       "      <td>67</td>\n",
       "      <td>19</td>\n",
       "      <td>F</td>\n",
       "      <td>Solteira</td>\n",
       "      <td>Superior</td>\n",
       "      <td>Estudante</td>\n",
       "      <td>600</td>\n",
       "      <td>Americana</td>\n",
       "      <td>SP</td>\n",
       "    </tr>\n",
       "    <tr>\n",
       "      <th>11</th>\n",
       "      <td>11</td>\n",
       "      <td>1.84</td>\n",
       "      <td>63</td>\n",
       "      <td>18</td>\n",
       "      <td>F</td>\n",
       "      <td>Solteira</td>\n",
       "      <td>Superior</td>\n",
       "      <td>Estudante</td>\n",
       "      <td>3000</td>\n",
       "      <td>Santa_BarbarÃ¡_dOeste</td>\n",
       "      <td>SP</td>\n",
       "    </tr>\n",
       "    <tr>\n",
       "      <th>12</th>\n",
       "      <td>12</td>\n",
       "      <td>1.71</td>\n",
       "      <td>78</td>\n",
       "      <td>18</td>\n",
       "      <td>F</td>\n",
       "      <td>Solteira</td>\n",
       "      <td>Superior</td>\n",
       "      <td>Estudante</td>\n",
       "      <td>1000</td>\n",
       "      <td>Americana</td>\n",
       "      <td>SP</td>\n",
       "    </tr>\n",
       "    <tr>\n",
       "      <th>13</th>\n",
       "      <td>13</td>\n",
       "      <td>1.77</td>\n",
       "      <td>60</td>\n",
       "      <td>22</td>\n",
       "      <td>M</td>\n",
       "      <td>Solteiro</td>\n",
       "      <td>Superior</td>\n",
       "      <td>Estoquista</td>\n",
       "      <td>4500</td>\n",
       "      <td>ParanavaÃ­</td>\n",
       "      <td>PR</td>\n",
       "    </tr>\n",
       "    <tr>\n",
       "      <th>14</th>\n",
       "      <td>14</td>\n",
       "      <td>1.75</td>\n",
       "      <td>55</td>\n",
       "      <td>20</td>\n",
       "      <td>F</td>\n",
       "      <td>Solteira</td>\n",
       "      <td>Superior</td>\n",
       "      <td>Estudante</td>\n",
       "      <td>1500</td>\n",
       "      <td>Americana</td>\n",
       "      <td>SP</td>\n",
       "    </tr>\n",
       "    <tr>\n",
       "      <th>15</th>\n",
       "      <td>15</td>\n",
       "      <td>1.82</td>\n",
       "      <td>70</td>\n",
       "      <td>21</td>\n",
       "      <td>M</td>\n",
       "      <td>Solteiro</td>\n",
       "      <td>Superior</td>\n",
       "      <td>Estudante</td>\n",
       "      <td>2365</td>\n",
       "      <td>Americana</td>\n",
       "      <td>SP</td>\n",
       "    </tr>\n",
       "    <tr>\n",
       "      <th>16</th>\n",
       "      <td>16</td>\n",
       "      <td>1.69</td>\n",
       "      <td>48</td>\n",
       "      <td>18</td>\n",
       "      <td>M</td>\n",
       "      <td>Solteiro</td>\n",
       "      <td>Superior</td>\n",
       "      <td>Estudante/Professor</td>\n",
       "      <td>7000</td>\n",
       "      <td>Reino_Unido</td>\n",
       "      <td>West_sussex</td>\n",
       "    </tr>\n",
       "  </tbody>\n",
       "</table>\n",
       "</div>"
      ],
      "text/plain": [
       "    Unnamed: 0  Altura  Peso  Idade Sexo Estado_civil Escolaridade  \\\n",
       "0            0    1.74    65     18    M     Solteiro     Superior   \n",
       "1            1    1.73    55     18    M     Solteiro       MÃ©dio   \n",
       "2            2    1.71    75     37    F     Solteira       MÃ©dio   \n",
       "3            3    1.73    72     31    M       Casado     Superior   \n",
       "4            4    1.78    65     20    M     Solteiro     Superior   \n",
       "5            5    1.79    72     23    M     Solteiro     Superior   \n",
       "6            6    1.71    56     30    F       Casada     Superior   \n",
       "7            7    1.84    82     19    M     Solteiro     Superior   \n",
       "8            8    1.58    55     18    F     Solteira     Superior   \n",
       "9            9    1.85    67     18    M     Solteiro     Superior   \n",
       "10          10    1.80    67     19    F     Solteira     Superior   \n",
       "11          11    1.84    63     18    F     Solteira     Superior   \n",
       "12          12    1.71    78     18    F     Solteira     Superior   \n",
       "13          13    1.77    60     22    M     Solteiro     Superior   \n",
       "14          14    1.75    55     20    F     Solteira     Superior   \n",
       "15          15    1.82    70     21    M     Solteiro     Superior   \n",
       "16          16    1.69    48     18    M     Solteiro     Superior   \n",
       "\n",
       "             ProfissÃ£o  Renda           Naturalidade       Estado  \n",
       "0             Estudante    250               PeruÃ­be           SP  \n",
       "1             Estudante   1100                 Santos           SP  \n",
       "2                  Uber   3385               PeruÃ­be           SP  \n",
       "3             MecÃ¢nica   4500     Porto_dos_GaÃºchos           MT  \n",
       "4             Estudante   1250                  Bauru           SP  \n",
       "5             Estudante    720              Americana           SP  \n",
       "6           EmpresÃ¡ria   5200              Americana           SP  \n",
       "7        Projetista BIM   2800                Limeira           SP  \n",
       "8             Estudante   1220             SÃ£o_Paulo           SP  \n",
       "9             Estudante    250                Limeira           SP  \n",
       "10            Estudante    600              Americana           SP  \n",
       "11            Estudante   3000  Santa_BarbarÃ¡_dOeste           SP  \n",
       "12            Estudante   1000              Americana           SP  \n",
       "13           Estoquista   4500             ParanavaÃ­           PR  \n",
       "14            Estudante   1500              Americana           SP  \n",
       "15            Estudante   2365              Americana           SP  \n",
       "16  Estudante/Professor   7000            Reino_Unido  West_sussex  "
      ]
     },
     "execution_count": 12,
     "metadata": {},
     "output_type": "execute_result"
    }
   ],
   "source": [
    "df4 = pd.read_csv(\"pessoas_l.csv\")\n",
    "df4"
   ]
  },
  {
   "cell_type": "code",
   "execution_count": 13,
   "id": "ba7da4fe",
   "metadata": {},
   "outputs": [
    {
     "data": {
      "text/html": [
       "<div>\n",
       "<style scoped>\n",
       "    .dataframe tbody tr th:only-of-type {\n",
       "        vertical-align: middle;\n",
       "    }\n",
       "\n",
       "    .dataframe tbody tr th {\n",
       "        vertical-align: top;\n",
       "    }\n",
       "\n",
       "    .dataframe thead th {\n",
       "        text-align: right;\n",
       "    }\n",
       "</style>\n",
       "<table border=\"1\" class=\"dataframe\">\n",
       "  <thead>\n",
       "    <tr style=\"text-align: right;\">\n",
       "      <th></th>\n",
       "      <th>Unnamed: 0</th>\n",
       "      <th>Altura</th>\n",
       "      <th>Peso</th>\n",
       "      <th>Idade</th>\n",
       "      <th>Sexo</th>\n",
       "      <th>Estado Civil</th>\n",
       "      <th>Escolaridade</th>\n",
       "      <th>Profissão</th>\n",
       "      <th>Renda</th>\n",
       "      <th>Naturalidade</th>\n",
       "      <th>Estado</th>\n",
       "    </tr>\n",
       "  </thead>\n",
       "  <tbody>\n",
       "    <tr>\n",
       "      <th>0</th>\n",
       "      <td>0</td>\n",
       "      <td>1.79</td>\n",
       "      <td>72</td>\n",
       "      <td>23</td>\n",
       "      <td>M</td>\n",
       "      <td>Solteiro</td>\n",
       "      <td>Superior (Cursando)</td>\n",
       "      <td>Estudante</td>\n",
       "      <td>1820.0</td>\n",
       "      <td>Americana</td>\n",
       "      <td>SP</td>\n",
       "    </tr>\n",
       "    <tr>\n",
       "      <th>1</th>\n",
       "      <td>1</td>\n",
       "      <td>1.81</td>\n",
       "      <td>80</td>\n",
       "      <td>59</td>\n",
       "      <td>M</td>\n",
       "      <td>Casado</td>\n",
       "      <td>Pós-Graduação</td>\n",
       "      <td>Engenheiro</td>\n",
       "      <td>5000.0</td>\n",
       "      <td>Piracicaba</td>\n",
       "      <td>SP</td>\n",
       "    </tr>\n",
       "    <tr>\n",
       "      <th>2</th>\n",
       "      <td>2</td>\n",
       "      <td>1.66</td>\n",
       "      <td>53</td>\n",
       "      <td>19</td>\n",
       "      <td>F</td>\n",
       "      <td>Solteiro</td>\n",
       "      <td>Superior (Cursando)</td>\n",
       "      <td>Estagiária</td>\n",
       "      <td>1550.0</td>\n",
       "      <td>Americana</td>\n",
       "      <td>SP</td>\n",
       "    </tr>\n",
       "    <tr>\n",
       "      <th>3</th>\n",
       "      <td>3</td>\n",
       "      <td>1.73</td>\n",
       "      <td>72</td>\n",
       "      <td>31</td>\n",
       "      <td>M</td>\n",
       "      <td>Casado</td>\n",
       "      <td>Superior</td>\n",
       "      <td>Mecânico</td>\n",
       "      <td>3050.0</td>\n",
       "      <td>Porto dos Gaúchos</td>\n",
       "      <td>MT</td>\n",
       "    </tr>\n",
       "    <tr>\n",
       "      <th>4</th>\n",
       "      <td>4</td>\n",
       "      <td>1.78</td>\n",
       "      <td>65</td>\n",
       "      <td>20</td>\n",
       "      <td>M</td>\n",
       "      <td>Solteiro</td>\n",
       "      <td>Superior (Cursando)</td>\n",
       "      <td>Estudante</td>\n",
       "      <td>1820.0</td>\n",
       "      <td>Bauru</td>\n",
       "      <td>SP</td>\n",
       "    </tr>\n",
       "    <tr>\n",
       "      <th>5</th>\n",
       "      <td>5</td>\n",
       "      <td>1.71</td>\n",
       "      <td>56</td>\n",
       "      <td>30</td>\n",
       "      <td>F</td>\n",
       "      <td>Casado</td>\n",
       "      <td>Superior</td>\n",
       "      <td>Empresária</td>\n",
       "      <td>3070.0</td>\n",
       "      <td>Americana</td>\n",
       "      <td>SP</td>\n",
       "    </tr>\n",
       "    <tr>\n",
       "      <th>6</th>\n",
       "      <td>6</td>\n",
       "      <td>1.84</td>\n",
       "      <td>82</td>\n",
       "      <td>19</td>\n",
       "      <td>M</td>\n",
       "      <td>Solteiro</td>\n",
       "      <td>Superior (Cursando)</td>\n",
       "      <td>Projetista</td>\n",
       "      <td>2090.0</td>\n",
       "      <td>Limeira</td>\n",
       "      <td>SP</td>\n",
       "    </tr>\n",
       "    <tr>\n",
       "      <th>7</th>\n",
       "      <td>7</td>\n",
       "      <td>1.58</td>\n",
       "      <td>67</td>\n",
       "      <td>18</td>\n",
       "      <td>F</td>\n",
       "      <td>Solteiro</td>\n",
       "      <td>Superior (Cursando)</td>\n",
       "      <td>Estudante</td>\n",
       "      <td>1620.0</td>\n",
       "      <td>São Paulo</td>\n",
       "      <td>SP</td>\n",
       "    </tr>\n",
       "    <tr>\n",
       "      <th>8</th>\n",
       "      <td>8</td>\n",
       "      <td>1.85</td>\n",
       "      <td>67</td>\n",
       "      <td>18</td>\n",
       "      <td>M</td>\n",
       "      <td>Solteiro</td>\n",
       "      <td>Superior (Cursando)</td>\n",
       "      <td>Estudante</td>\n",
       "      <td>1530.0</td>\n",
       "      <td>Limeira</td>\n",
       "      <td>SP</td>\n",
       "    </tr>\n",
       "    <tr>\n",
       "      <th>9</th>\n",
       "      <td>9</td>\n",
       "      <td>1.80</td>\n",
       "      <td>67</td>\n",
       "      <td>19</td>\n",
       "      <td>M</td>\n",
       "      <td>Solteiro</td>\n",
       "      <td>Superior (Cursando)</td>\n",
       "      <td>Estudante</td>\n",
       "      <td>1580.0</td>\n",
       "      <td>Americana</td>\n",
       "      <td>SP</td>\n",
       "    </tr>\n",
       "    <tr>\n",
       "      <th>10</th>\n",
       "      <td>10</td>\n",
       "      <td>1.84</td>\n",
       "      <td>63</td>\n",
       "      <td>18</td>\n",
       "      <td>M</td>\n",
       "      <td>Solteiro</td>\n",
       "      <td>Superior (Cursando)</td>\n",
       "      <td>Estudante</td>\n",
       "      <td>1550.0</td>\n",
       "      <td>Santa Bárbara D Oeste</td>\n",
       "      <td>SP</td>\n",
       "    </tr>\n",
       "    <tr>\n",
       "      <th>11</th>\n",
       "      <td>11</td>\n",
       "      <td>1.71</td>\n",
       "      <td>78</td>\n",
       "      <td>18</td>\n",
       "      <td>F</td>\n",
       "      <td>Solteiro</td>\n",
       "      <td>Superior (Cursando)</td>\n",
       "      <td>Estudante</td>\n",
       "      <td>1570.0</td>\n",
       "      <td>Americana</td>\n",
       "      <td>SP</td>\n",
       "    </tr>\n",
       "    <tr>\n",
       "      <th>12</th>\n",
       "      <td>12</td>\n",
       "      <td>1.77</td>\n",
       "      <td>60</td>\n",
       "      <td>22</td>\n",
       "      <td>M</td>\n",
       "      <td>Solteiro</td>\n",
       "      <td>Superior (Cursando)</td>\n",
       "      <td>Estoquista</td>\n",
       "      <td>1890.0</td>\n",
       "      <td>Paranavaí</td>\n",
       "      <td>PR</td>\n",
       "    </tr>\n",
       "    <tr>\n",
       "      <th>13</th>\n",
       "      <td>13</td>\n",
       "      <td>1.75</td>\n",
       "      <td>55</td>\n",
       "      <td>20</td>\n",
       "      <td>F</td>\n",
       "      <td>Solteiro</td>\n",
       "      <td>Superior (Cursando)</td>\n",
       "      <td>Estudante</td>\n",
       "      <td>1700.0</td>\n",
       "      <td>Americana</td>\n",
       "      <td>SP</td>\n",
       "    </tr>\n",
       "    <tr>\n",
       "      <th>14</th>\n",
       "      <td>14</td>\n",
       "      <td>1.82</td>\n",
       "      <td>55</td>\n",
       "      <td>21</td>\n",
       "      <td>M</td>\n",
       "      <td>Solteiro</td>\n",
       "      <td>Superior (Cursando)</td>\n",
       "      <td>Estudante</td>\n",
       "      <td>1610.0</td>\n",
       "      <td>Americana</td>\n",
       "      <td>SP</td>\n",
       "    </tr>\n",
       "    <tr>\n",
       "      <th>15</th>\n",
       "      <td>15</td>\n",
       "      <td>1.69</td>\n",
       "      <td>48</td>\n",
       "      <td>18</td>\n",
       "      <td>M</td>\n",
       "      <td>Solteiro</td>\n",
       "      <td>Superior (Cursando)</td>\n",
       "      <td>Estudante</td>\n",
       "      <td>1690.0</td>\n",
       "      <td>Inglaterra</td>\n",
       "      <td>UK</td>\n",
       "    </tr>\n",
       "  </tbody>\n",
       "</table>\n",
       "</div>"
      ],
      "text/plain": [
       "    Unnamed: 0  Altura  Peso  Idade Sexo Estado Civil         Escolaridade  \\\n",
       "0            0    1.79    72     23    M     Solteiro  Superior (Cursando)   \n",
       "1            1    1.81    80     59    M       Casado        Pós-Graduação   \n",
       "2            2    1.66    53     19    F     Solteiro  Superior (Cursando)   \n",
       "3            3    1.73    72     31    M       Casado             Superior   \n",
       "4            4    1.78    65     20    M     Solteiro  Superior (Cursando)   \n",
       "5            5    1.71    56     30    F       Casado             Superior   \n",
       "6            6    1.84    82     19    M     Solteiro  Superior (Cursando)   \n",
       "7            7    1.58    67     18    F     Solteiro  Superior (Cursando)   \n",
       "8            8    1.85    67     18    M     Solteiro  Superior (Cursando)   \n",
       "9            9    1.80    67     19    M     Solteiro  Superior (Cursando)   \n",
       "10          10    1.84    63     18    M     Solteiro  Superior (Cursando)   \n",
       "11          11    1.71    78     18    F     Solteiro  Superior (Cursando)   \n",
       "12          12    1.77    60     22    M     Solteiro  Superior (Cursando)   \n",
       "13          13    1.75    55     20    F     Solteiro  Superior (Cursando)   \n",
       "14          14    1.82    55     21    M     Solteiro  Superior (Cursando)   \n",
       "15          15    1.69    48     18    M     Solteiro  Superior (Cursando)   \n",
       "\n",
       "     Profissão   Renda           Naturalidade Estado  \n",
       "0    Estudante  1820.0              Americana     SP  \n",
       "1   Engenheiro  5000.0             Piracicaba     SP  \n",
       "2   Estagiária  1550.0              Americana     SP  \n",
       "3     Mecânico  3050.0      Porto dos Gaúchos     MT  \n",
       "4    Estudante  1820.0                  Bauru     SP  \n",
       "5   Empresária  3070.0              Americana     SP  \n",
       "6   Projetista  2090.0                Limeira     SP  \n",
       "7    Estudante  1620.0              São Paulo     SP  \n",
       "8    Estudante  1530.0                Limeira     SP  \n",
       "9    Estudante  1580.0              Americana     SP  \n",
       "10   Estudante  1550.0  Santa Bárbara D Oeste     SP  \n",
       "11   Estudante  1570.0              Americana     SP  \n",
       "12  Estoquista  1890.0              Paranavaí     PR  \n",
       "13   Estudante  1700.0              Americana     SP  \n",
       "14   Estudante  1610.0              Americana     SP  \n",
       "15   Estudante  1690.0             Inglaterra     UK  "
      ]
     },
     "execution_count": 13,
     "metadata": {},
     "output_type": "execute_result"
    }
   ],
   "source": [
    "df5 = pd.read_csv(\"pessoas_r.csv\")\n",
    "df5"
   ]
  },
  {
   "cell_type": "code",
   "execution_count": null,
   "id": "9e54e4ed",
   "metadata": {},
   "outputs": [],
   "source": []
  },
  {
   "cell_type": "code",
   "execution_count": 6,
   "id": "86eddf59",
   "metadata": {},
   "outputs": [],
   "source": [
    "vagas = pd.read_csv(\"vagas.csv\")"
   ]
  },
  {
   "cell_type": "code",
   "execution_count": 8,
   "id": "31db2b50",
   "metadata": {},
   "outputs": [
    {
     "data": {
      "text/html": [
       "<div>\n",
       "<style scoped>\n",
       "    .dataframe tbody tr th:only-of-type {\n",
       "        vertical-align: middle;\n",
       "    }\n",
       "\n",
       "    .dataframe tbody tr th {\n",
       "        vertical-align: top;\n",
       "    }\n",
       "\n",
       "    .dataframe thead th {\n",
       "        text-align: right;\n",
       "    }\n",
       "</style>\n",
       "<table border=\"1\" class=\"dataframe\">\n",
       "  <thead>\n",
       "    <tr style=\"text-align: right;\">\n",
       "      <th></th>\n",
       "      <th>Unnamed: 0</th>\n",
       "      <th>Cargo</th>\n",
       "      <th>Período</th>\n",
       "      <th>Salário</th>\n",
       "      <th>Empresa</th>\n",
       "    </tr>\n",
       "  </thead>\n",
       "  <tbody>\n",
       "    <tr>\n",
       "      <th>0</th>\n",
       "      <td>0</td>\n",
       "      <td>analista</td>\n",
       "      <td>Integral</td>\n",
       "      <td>1.8</td>\n",
       "      <td>EMP1</td>\n",
       "    </tr>\n",
       "    <tr>\n",
       "      <th>1</th>\n",
       "      <td>1</td>\n",
       "      <td>estagiario</td>\n",
       "      <td>integral</td>\n",
       "      <td>1.1</td>\n",
       "      <td>EMP2</td>\n",
       "    </tr>\n",
       "    <tr>\n",
       "      <th>2</th>\n",
       "      <td>2</td>\n",
       "      <td>Suporte tecnico</td>\n",
       "      <td>integral</td>\n",
       "      <td>1.6</td>\n",
       "      <td>EMP3</td>\n",
       "    </tr>\n",
       "  </tbody>\n",
       "</table>\n",
       "</div>"
      ],
      "text/plain": [
       "   Unnamed: 0            Cargo   Período  Salário Empresa\n",
       "0           0         analista  Integral      1.8    EMP1\n",
       "1           1       estagiario  integral      1.1    EMP2\n",
       "2           2  Suporte tecnico  integral      1.6    EMP3"
      ]
     },
     "execution_count": 8,
     "metadata": {},
     "output_type": "execute_result"
    }
   ],
   "source": [
    "vagas"
   ]
  },
  {
   "cell_type": "code",
   "execution_count": 10,
   "id": "546c41ca",
   "metadata": {},
   "outputs": [
    {
     "data": {
      "text/html": [
       "<div>\n",
       "<style scoped>\n",
       "    .dataframe tbody tr th:only-of-type {\n",
       "        vertical-align: middle;\n",
       "    }\n",
       "\n",
       "    .dataframe tbody tr th {\n",
       "        vertical-align: top;\n",
       "    }\n",
       "\n",
       "    .dataframe thead th {\n",
       "        text-align: right;\n",
       "    }\n",
       "</style>\n",
       "<table border=\"1\" class=\"dataframe\">\n",
       "  <thead>\n",
       "    <tr style=\"text-align: right;\">\n",
       "      <th></th>\n",
       "      <th>;Nome;Gênero;Lançamento;País</th>\n",
       "    </tr>\n",
       "  </thead>\n",
       "  <tbody>\n",
       "    <tr>\n",
       "      <th>0</th>\n",
       "      <td>0;Matrix;Ficção;1999;EUA</td>\n",
       "    </tr>\n",
       "    <tr>\n",
       "      <th>1</th>\n",
       "      <td>1;Jeepers Creepers;Terror;2001;EUA</td>\n",
       "    </tr>\n",
       "    <tr>\n",
       "      <th>2</th>\n",
       "      <td>2;Cidade de Deus;Ação;2002;Brasil</td>\n",
       "    </tr>\n",
       "    <tr>\n",
       "      <th>3</th>\n",
       "      <td>3;Uma história de amor e fúria;Romance;2013;Br...</td>\n",
       "    </tr>\n",
       "  </tbody>\n",
       "</table>\n",
       "</div>"
      ],
      "text/plain": [
       "                        ;Nome;Gênero;Lançamento;País\n",
       "0                           0;Matrix;Ficção;1999;EUA\n",
       "1                 1;Jeepers Creepers;Terror;2001;EUA\n",
       "2                  2;Cidade de Deus;Ação;2002;Brasil\n",
       "3  3;Uma história de amor e fúria;Romance;2013;Br..."
      ]
     },
     "execution_count": 10,
     "metadata": {},
     "output_type": "execute_result"
    }
   ],
   "source": [
    "filmes = pd.read_csv(\"filmes.csv\")\n",
    "filmes"
   ]
  },
  {
   "cell_type": "code",
   "execution_count": null,
   "id": "9de535cc",
   "metadata": {},
   "outputs": [],
   "source": []
  },
  {
   "attachments": {},
   "cell_type": "markdown",
   "id": "6fe2cb69",
   "metadata": {},
   "source": [
    "Unindo vários arquivos de dados"
   ]
  },
  {
   "cell_type": "code",
   "execution_count": 14,
   "id": "8db72c39",
   "metadata": {},
   "outputs": [],
   "source": [
    "import pandas as pd\n",
    "import glob\n",
    "\n",
    "all_files = glob.glob(\"pessoas*.csv\")\n",
    "\n",
    "li = []\n",
    "\n",
    "for filename in all_files:\n",
    "    df = pd.read_csv(filename, index_col=None, header=0)\n",
    "    li.append(df)\n",
    "\n",
    "frame = pd.concat(li, axis=0, ignore_index=True)"
   ]
  },
  {
   "cell_type": "code",
   "execution_count": 15,
   "id": "b41ed0bf",
   "metadata": {},
   "outputs": [
    {
     "data": {
      "text/html": [
       "<div>\n",
       "<style scoped>\n",
       "    .dataframe tbody tr th:only-of-type {\n",
       "        vertical-align: middle;\n",
       "    }\n",
       "\n",
       "    .dataframe tbody tr th {\n",
       "        vertical-align: top;\n",
       "    }\n",
       "\n",
       "    .dataframe thead th {\n",
       "        text-align: right;\n",
       "    }\n",
       "</style>\n",
       "<table border=\"1\" class=\"dataframe\">\n",
       "  <thead>\n",
       "    <tr style=\"text-align: right;\">\n",
       "      <th></th>\n",
       "      <th>Unnamed: 0</th>\n",
       "      <th>Altura</th>\n",
       "      <th>Peso</th>\n",
       "      <th>Idade</th>\n",
       "      <th>Sexo</th>\n",
       "      <th>Estado Civil</th>\n",
       "      <th>Escolaridade</th>\n",
       "      <th>Profissão</th>\n",
       "      <th>Renda</th>\n",
       "      <th>Naturalidade</th>\n",
       "      <th>Estado</th>\n",
       "      <th>Estado_civil</th>\n",
       "      <th>ProfissÃ£o</th>\n",
       "    </tr>\n",
       "  </thead>\n",
       "  <tbody>\n",
       "    <tr>\n",
       "      <th>0</th>\n",
       "      <td>0</td>\n",
       "      <td>1.81</td>\n",
       "      <td>80</td>\n",
       "      <td>59</td>\n",
       "      <td>M</td>\n",
       "      <td>casado</td>\n",
       "      <td>PG</td>\n",
       "      <td>Engenheiro</td>\n",
       "      <td>5000.0</td>\n",
       "      <td>Piracicaba</td>\n",
       "      <td>SP</td>\n",
       "      <td>NaN</td>\n",
       "      <td>NaN</td>\n",
       "    </tr>\n",
       "    <tr>\n",
       "      <th>1</th>\n",
       "      <td>0</td>\n",
       "      <td>1.74</td>\n",
       "      <td>65</td>\n",
       "      <td>18</td>\n",
       "      <td>M</td>\n",
       "      <td>NaN</td>\n",
       "      <td>Superior</td>\n",
       "      <td>NaN</td>\n",
       "      <td>250.0</td>\n",
       "      <td>PeruÃ­be</td>\n",
       "      <td>SP</td>\n",
       "      <td>Solteiro</td>\n",
       "      <td>Estudante</td>\n",
       "    </tr>\n",
       "    <tr>\n",
       "      <th>2</th>\n",
       "      <td>1</td>\n",
       "      <td>1.73</td>\n",
       "      <td>55</td>\n",
       "      <td>18</td>\n",
       "      <td>M</td>\n",
       "      <td>NaN</td>\n",
       "      <td>MÃ©dio</td>\n",
       "      <td>NaN</td>\n",
       "      <td>1100.0</td>\n",
       "      <td>Santos</td>\n",
       "      <td>SP</td>\n",
       "      <td>Solteiro</td>\n",
       "      <td>Estudante</td>\n",
       "    </tr>\n",
       "    <tr>\n",
       "      <th>3</th>\n",
       "      <td>2</td>\n",
       "      <td>1.71</td>\n",
       "      <td>75</td>\n",
       "      <td>37</td>\n",
       "      <td>F</td>\n",
       "      <td>NaN</td>\n",
       "      <td>MÃ©dio</td>\n",
       "      <td>NaN</td>\n",
       "      <td>3385.0</td>\n",
       "      <td>PeruÃ­be</td>\n",
       "      <td>SP</td>\n",
       "      <td>Solteira</td>\n",
       "      <td>Uber</td>\n",
       "    </tr>\n",
       "    <tr>\n",
       "      <th>4</th>\n",
       "      <td>3</td>\n",
       "      <td>1.73</td>\n",
       "      <td>72</td>\n",
       "      <td>31</td>\n",
       "      <td>M</td>\n",
       "      <td>NaN</td>\n",
       "      <td>Superior</td>\n",
       "      <td>NaN</td>\n",
       "      <td>4500.0</td>\n",
       "      <td>Porto_dos_GaÃºchos</td>\n",
       "      <td>MT</td>\n",
       "      <td>Casado</td>\n",
       "      <td>MecÃ¢nica</td>\n",
       "    </tr>\n",
       "    <tr>\n",
       "      <th>5</th>\n",
       "      <td>4</td>\n",
       "      <td>1.78</td>\n",
       "      <td>65</td>\n",
       "      <td>20</td>\n",
       "      <td>M</td>\n",
       "      <td>NaN</td>\n",
       "      <td>Superior</td>\n",
       "      <td>NaN</td>\n",
       "      <td>1250.0</td>\n",
       "      <td>Bauru</td>\n",
       "      <td>SP</td>\n",
       "      <td>Solteiro</td>\n",
       "      <td>Estudante</td>\n",
       "    </tr>\n",
       "    <tr>\n",
       "      <th>6</th>\n",
       "      <td>5</td>\n",
       "      <td>1.79</td>\n",
       "      <td>72</td>\n",
       "      <td>23</td>\n",
       "      <td>M</td>\n",
       "      <td>NaN</td>\n",
       "      <td>Superior</td>\n",
       "      <td>NaN</td>\n",
       "      <td>720.0</td>\n",
       "      <td>Americana</td>\n",
       "      <td>SP</td>\n",
       "      <td>Solteiro</td>\n",
       "      <td>Estudante</td>\n",
       "    </tr>\n",
       "    <tr>\n",
       "      <th>7</th>\n",
       "      <td>6</td>\n",
       "      <td>1.71</td>\n",
       "      <td>56</td>\n",
       "      <td>30</td>\n",
       "      <td>F</td>\n",
       "      <td>NaN</td>\n",
       "      <td>Superior</td>\n",
       "      <td>NaN</td>\n",
       "      <td>5200.0</td>\n",
       "      <td>Americana</td>\n",
       "      <td>SP</td>\n",
       "      <td>Casada</td>\n",
       "      <td>EmpresÃ¡ria</td>\n",
       "    </tr>\n",
       "    <tr>\n",
       "      <th>8</th>\n",
       "      <td>7</td>\n",
       "      <td>1.84</td>\n",
       "      <td>82</td>\n",
       "      <td>19</td>\n",
       "      <td>M</td>\n",
       "      <td>NaN</td>\n",
       "      <td>Superior</td>\n",
       "      <td>NaN</td>\n",
       "      <td>2800.0</td>\n",
       "      <td>Limeira</td>\n",
       "      <td>SP</td>\n",
       "      <td>Solteiro</td>\n",
       "      <td>Projetista BIM</td>\n",
       "    </tr>\n",
       "    <tr>\n",
       "      <th>9</th>\n",
       "      <td>8</td>\n",
       "      <td>1.58</td>\n",
       "      <td>55</td>\n",
       "      <td>18</td>\n",
       "      <td>F</td>\n",
       "      <td>NaN</td>\n",
       "      <td>Superior</td>\n",
       "      <td>NaN</td>\n",
       "      <td>1220.0</td>\n",
       "      <td>SÃ£o_Paulo</td>\n",
       "      <td>SP</td>\n",
       "      <td>Solteira</td>\n",
       "      <td>Estudante</td>\n",
       "    </tr>\n",
       "    <tr>\n",
       "      <th>10</th>\n",
       "      <td>9</td>\n",
       "      <td>1.85</td>\n",
       "      <td>67</td>\n",
       "      <td>18</td>\n",
       "      <td>M</td>\n",
       "      <td>NaN</td>\n",
       "      <td>Superior</td>\n",
       "      <td>NaN</td>\n",
       "      <td>250.0</td>\n",
       "      <td>Limeira</td>\n",
       "      <td>SP</td>\n",
       "      <td>Solteiro</td>\n",
       "      <td>Estudante</td>\n",
       "    </tr>\n",
       "    <tr>\n",
       "      <th>11</th>\n",
       "      <td>10</td>\n",
       "      <td>1.80</td>\n",
       "      <td>67</td>\n",
       "      <td>19</td>\n",
       "      <td>F</td>\n",
       "      <td>NaN</td>\n",
       "      <td>Superior</td>\n",
       "      <td>NaN</td>\n",
       "      <td>600.0</td>\n",
       "      <td>Americana</td>\n",
       "      <td>SP</td>\n",
       "      <td>Solteira</td>\n",
       "      <td>Estudante</td>\n",
       "    </tr>\n",
       "    <tr>\n",
       "      <th>12</th>\n",
       "      <td>11</td>\n",
       "      <td>1.84</td>\n",
       "      <td>63</td>\n",
       "      <td>18</td>\n",
       "      <td>F</td>\n",
       "      <td>NaN</td>\n",
       "      <td>Superior</td>\n",
       "      <td>NaN</td>\n",
       "      <td>3000.0</td>\n",
       "      <td>Santa_BarbarÃ¡_dOeste</td>\n",
       "      <td>SP</td>\n",
       "      <td>Solteira</td>\n",
       "      <td>Estudante</td>\n",
       "    </tr>\n",
       "    <tr>\n",
       "      <th>13</th>\n",
       "      <td>12</td>\n",
       "      <td>1.71</td>\n",
       "      <td>78</td>\n",
       "      <td>18</td>\n",
       "      <td>F</td>\n",
       "      <td>NaN</td>\n",
       "      <td>Superior</td>\n",
       "      <td>NaN</td>\n",
       "      <td>1000.0</td>\n",
       "      <td>Americana</td>\n",
       "      <td>SP</td>\n",
       "      <td>Solteira</td>\n",
       "      <td>Estudante</td>\n",
       "    </tr>\n",
       "    <tr>\n",
       "      <th>14</th>\n",
       "      <td>13</td>\n",
       "      <td>1.77</td>\n",
       "      <td>60</td>\n",
       "      <td>22</td>\n",
       "      <td>M</td>\n",
       "      <td>NaN</td>\n",
       "      <td>Superior</td>\n",
       "      <td>NaN</td>\n",
       "      <td>4500.0</td>\n",
       "      <td>ParanavaÃ­</td>\n",
       "      <td>PR</td>\n",
       "      <td>Solteiro</td>\n",
       "      <td>Estoquista</td>\n",
       "    </tr>\n",
       "    <tr>\n",
       "      <th>15</th>\n",
       "      <td>14</td>\n",
       "      <td>1.75</td>\n",
       "      <td>55</td>\n",
       "      <td>20</td>\n",
       "      <td>F</td>\n",
       "      <td>NaN</td>\n",
       "      <td>Superior</td>\n",
       "      <td>NaN</td>\n",
       "      <td>1500.0</td>\n",
       "      <td>Americana</td>\n",
       "      <td>SP</td>\n",
       "      <td>Solteira</td>\n",
       "      <td>Estudante</td>\n",
       "    </tr>\n",
       "    <tr>\n",
       "      <th>16</th>\n",
       "      <td>15</td>\n",
       "      <td>1.82</td>\n",
       "      <td>70</td>\n",
       "      <td>21</td>\n",
       "      <td>M</td>\n",
       "      <td>NaN</td>\n",
       "      <td>Superior</td>\n",
       "      <td>NaN</td>\n",
       "      <td>2365.0</td>\n",
       "      <td>Americana</td>\n",
       "      <td>SP</td>\n",
       "      <td>Solteiro</td>\n",
       "      <td>Estudante</td>\n",
       "    </tr>\n",
       "    <tr>\n",
       "      <th>17</th>\n",
       "      <td>16</td>\n",
       "      <td>1.69</td>\n",
       "      <td>48</td>\n",
       "      <td>18</td>\n",
       "      <td>M</td>\n",
       "      <td>NaN</td>\n",
       "      <td>Superior</td>\n",
       "      <td>NaN</td>\n",
       "      <td>7000.0</td>\n",
       "      <td>Reino_Unido</td>\n",
       "      <td>West_sussex</td>\n",
       "      <td>Solteiro</td>\n",
       "      <td>Estudante/Professor</td>\n",
       "    </tr>\n",
       "    <tr>\n",
       "      <th>18</th>\n",
       "      <td>0</td>\n",
       "      <td>1.79</td>\n",
       "      <td>72</td>\n",
       "      <td>23</td>\n",
       "      <td>M</td>\n",
       "      <td>Solteiro</td>\n",
       "      <td>Superior (Cursando)</td>\n",
       "      <td>Estudante</td>\n",
       "      <td>1820.0</td>\n",
       "      <td>Americana</td>\n",
       "      <td>SP</td>\n",
       "      <td>NaN</td>\n",
       "      <td>NaN</td>\n",
       "    </tr>\n",
       "    <tr>\n",
       "      <th>19</th>\n",
       "      <td>1</td>\n",
       "      <td>1.81</td>\n",
       "      <td>80</td>\n",
       "      <td>59</td>\n",
       "      <td>M</td>\n",
       "      <td>Casado</td>\n",
       "      <td>Pós-Graduação</td>\n",
       "      <td>Engenheiro</td>\n",
       "      <td>5000.0</td>\n",
       "      <td>Piracicaba</td>\n",
       "      <td>SP</td>\n",
       "      <td>NaN</td>\n",
       "      <td>NaN</td>\n",
       "    </tr>\n",
       "    <tr>\n",
       "      <th>20</th>\n",
       "      <td>2</td>\n",
       "      <td>1.66</td>\n",
       "      <td>53</td>\n",
       "      <td>19</td>\n",
       "      <td>F</td>\n",
       "      <td>Solteiro</td>\n",
       "      <td>Superior (Cursando)</td>\n",
       "      <td>Estagiária</td>\n",
       "      <td>1550.0</td>\n",
       "      <td>Americana</td>\n",
       "      <td>SP</td>\n",
       "      <td>NaN</td>\n",
       "      <td>NaN</td>\n",
       "    </tr>\n",
       "    <tr>\n",
       "      <th>21</th>\n",
       "      <td>3</td>\n",
       "      <td>1.73</td>\n",
       "      <td>72</td>\n",
       "      <td>31</td>\n",
       "      <td>M</td>\n",
       "      <td>Casado</td>\n",
       "      <td>Superior</td>\n",
       "      <td>Mecânico</td>\n",
       "      <td>3050.0</td>\n",
       "      <td>Porto dos Gaúchos</td>\n",
       "      <td>MT</td>\n",
       "      <td>NaN</td>\n",
       "      <td>NaN</td>\n",
       "    </tr>\n",
       "    <tr>\n",
       "      <th>22</th>\n",
       "      <td>4</td>\n",
       "      <td>1.78</td>\n",
       "      <td>65</td>\n",
       "      <td>20</td>\n",
       "      <td>M</td>\n",
       "      <td>Solteiro</td>\n",
       "      <td>Superior (Cursando)</td>\n",
       "      <td>Estudante</td>\n",
       "      <td>1820.0</td>\n",
       "      <td>Bauru</td>\n",
       "      <td>SP</td>\n",
       "      <td>NaN</td>\n",
       "      <td>NaN</td>\n",
       "    </tr>\n",
       "    <tr>\n",
       "      <th>23</th>\n",
       "      <td>5</td>\n",
       "      <td>1.71</td>\n",
       "      <td>56</td>\n",
       "      <td>30</td>\n",
       "      <td>F</td>\n",
       "      <td>Casado</td>\n",
       "      <td>Superior</td>\n",
       "      <td>Empresária</td>\n",
       "      <td>3070.0</td>\n",
       "      <td>Americana</td>\n",
       "      <td>SP</td>\n",
       "      <td>NaN</td>\n",
       "      <td>NaN</td>\n",
       "    </tr>\n",
       "    <tr>\n",
       "      <th>24</th>\n",
       "      <td>6</td>\n",
       "      <td>1.84</td>\n",
       "      <td>82</td>\n",
       "      <td>19</td>\n",
       "      <td>M</td>\n",
       "      <td>Solteiro</td>\n",
       "      <td>Superior (Cursando)</td>\n",
       "      <td>Projetista</td>\n",
       "      <td>2090.0</td>\n",
       "      <td>Limeira</td>\n",
       "      <td>SP</td>\n",
       "      <td>NaN</td>\n",
       "      <td>NaN</td>\n",
       "    </tr>\n",
       "    <tr>\n",
       "      <th>25</th>\n",
       "      <td>7</td>\n",
       "      <td>1.58</td>\n",
       "      <td>67</td>\n",
       "      <td>18</td>\n",
       "      <td>F</td>\n",
       "      <td>Solteiro</td>\n",
       "      <td>Superior (Cursando)</td>\n",
       "      <td>Estudante</td>\n",
       "      <td>1620.0</td>\n",
       "      <td>São Paulo</td>\n",
       "      <td>SP</td>\n",
       "      <td>NaN</td>\n",
       "      <td>NaN</td>\n",
       "    </tr>\n",
       "    <tr>\n",
       "      <th>26</th>\n",
       "      <td>8</td>\n",
       "      <td>1.85</td>\n",
       "      <td>67</td>\n",
       "      <td>18</td>\n",
       "      <td>M</td>\n",
       "      <td>Solteiro</td>\n",
       "      <td>Superior (Cursando)</td>\n",
       "      <td>Estudante</td>\n",
       "      <td>1530.0</td>\n",
       "      <td>Limeira</td>\n",
       "      <td>SP</td>\n",
       "      <td>NaN</td>\n",
       "      <td>NaN</td>\n",
       "    </tr>\n",
       "    <tr>\n",
       "      <th>27</th>\n",
       "      <td>9</td>\n",
       "      <td>1.80</td>\n",
       "      <td>67</td>\n",
       "      <td>19</td>\n",
       "      <td>M</td>\n",
       "      <td>Solteiro</td>\n",
       "      <td>Superior (Cursando)</td>\n",
       "      <td>Estudante</td>\n",
       "      <td>1580.0</td>\n",
       "      <td>Americana</td>\n",
       "      <td>SP</td>\n",
       "      <td>NaN</td>\n",
       "      <td>NaN</td>\n",
       "    </tr>\n",
       "    <tr>\n",
       "      <th>28</th>\n",
       "      <td>10</td>\n",
       "      <td>1.84</td>\n",
       "      <td>63</td>\n",
       "      <td>18</td>\n",
       "      <td>M</td>\n",
       "      <td>Solteiro</td>\n",
       "      <td>Superior (Cursando)</td>\n",
       "      <td>Estudante</td>\n",
       "      <td>1550.0</td>\n",
       "      <td>Santa Bárbara D Oeste</td>\n",
       "      <td>SP</td>\n",
       "      <td>NaN</td>\n",
       "      <td>NaN</td>\n",
       "    </tr>\n",
       "    <tr>\n",
       "      <th>29</th>\n",
       "      <td>11</td>\n",
       "      <td>1.71</td>\n",
       "      <td>78</td>\n",
       "      <td>18</td>\n",
       "      <td>F</td>\n",
       "      <td>Solteiro</td>\n",
       "      <td>Superior (Cursando)</td>\n",
       "      <td>Estudante</td>\n",
       "      <td>1570.0</td>\n",
       "      <td>Americana</td>\n",
       "      <td>SP</td>\n",
       "      <td>NaN</td>\n",
       "      <td>NaN</td>\n",
       "    </tr>\n",
       "    <tr>\n",
       "      <th>30</th>\n",
       "      <td>12</td>\n",
       "      <td>1.77</td>\n",
       "      <td>60</td>\n",
       "      <td>22</td>\n",
       "      <td>M</td>\n",
       "      <td>Solteiro</td>\n",
       "      <td>Superior (Cursando)</td>\n",
       "      <td>Estoquista</td>\n",
       "      <td>1890.0</td>\n",
       "      <td>Paranavaí</td>\n",
       "      <td>PR</td>\n",
       "      <td>NaN</td>\n",
       "      <td>NaN</td>\n",
       "    </tr>\n",
       "    <tr>\n",
       "      <th>31</th>\n",
       "      <td>13</td>\n",
       "      <td>1.75</td>\n",
       "      <td>55</td>\n",
       "      <td>20</td>\n",
       "      <td>F</td>\n",
       "      <td>Solteiro</td>\n",
       "      <td>Superior (Cursando)</td>\n",
       "      <td>Estudante</td>\n",
       "      <td>1700.0</td>\n",
       "      <td>Americana</td>\n",
       "      <td>SP</td>\n",
       "      <td>NaN</td>\n",
       "      <td>NaN</td>\n",
       "    </tr>\n",
       "    <tr>\n",
       "      <th>32</th>\n",
       "      <td>14</td>\n",
       "      <td>1.82</td>\n",
       "      <td>55</td>\n",
       "      <td>21</td>\n",
       "      <td>M</td>\n",
       "      <td>Solteiro</td>\n",
       "      <td>Superior (Cursando)</td>\n",
       "      <td>Estudante</td>\n",
       "      <td>1610.0</td>\n",
       "      <td>Americana</td>\n",
       "      <td>SP</td>\n",
       "      <td>NaN</td>\n",
       "      <td>NaN</td>\n",
       "    </tr>\n",
       "    <tr>\n",
       "      <th>33</th>\n",
       "      <td>15</td>\n",
       "      <td>1.69</td>\n",
       "      <td>48</td>\n",
       "      <td>18</td>\n",
       "      <td>M</td>\n",
       "      <td>Solteiro</td>\n",
       "      <td>Superior (Cursando)</td>\n",
       "      <td>Estudante</td>\n",
       "      <td>1690.0</td>\n",
       "      <td>Inglaterra</td>\n",
       "      <td>UK</td>\n",
       "      <td>NaN</td>\n",
       "      <td>NaN</td>\n",
       "    </tr>\n",
       "    <tr>\n",
       "      <th>34</th>\n",
       "      <td>0</td>\n",
       "      <td>1.81</td>\n",
       "      <td>80</td>\n",
       "      <td>59</td>\n",
       "      <td>M</td>\n",
       "      <td>casado</td>\n",
       "      <td>PG</td>\n",
       "      <td>Engenheiro</td>\n",
       "      <td>5000.0</td>\n",
       "      <td>Piracicaba</td>\n",
       "      <td>SP</td>\n",
       "      <td>NaN</td>\n",
       "      <td>NaN</td>\n",
       "    </tr>\n",
       "    <tr>\n",
       "      <th>35</th>\n",
       "      <td>1</td>\n",
       "      <td>1.66</td>\n",
       "      <td>53</td>\n",
       "      <td>19</td>\n",
       "      <td>F</td>\n",
       "      <td>solteira</td>\n",
       "      <td>G-cursando</td>\n",
       "      <td>Estagiária</td>\n",
       "      <td>2000.0</td>\n",
       "      <td>Americana</td>\n",
       "      <td>SP</td>\n",
       "      <td>NaN</td>\n",
       "      <td>NaN</td>\n",
       "    </tr>\n",
       "    <tr>\n",
       "      <th>36</th>\n",
       "      <td>2</td>\n",
       "      <td>1.73</td>\n",
       "      <td>72</td>\n",
       "      <td>31</td>\n",
       "      <td>M</td>\n",
       "      <td>casado</td>\n",
       "      <td>G-completo</td>\n",
       "      <td>Mecânico</td>\n",
       "      <td>2000.0</td>\n",
       "      <td>Porto dos Gaúchos</td>\n",
       "      <td>MT</td>\n",
       "      <td>NaN</td>\n",
       "      <td>NaN</td>\n",
       "    </tr>\n",
       "    <tr>\n",
       "      <th>37</th>\n",
       "      <td>3</td>\n",
       "      <td>1.78</td>\n",
       "      <td>65</td>\n",
       "      <td>20</td>\n",
       "      <td>M</td>\n",
       "      <td>solteiro</td>\n",
       "      <td>G-cursando</td>\n",
       "      <td>Estudante</td>\n",
       "      <td>1000.0</td>\n",
       "      <td>Bauru</td>\n",
       "      <td>SP</td>\n",
       "      <td>NaN</td>\n",
       "      <td>NaN</td>\n",
       "    </tr>\n",
       "    <tr>\n",
       "      <th>38</th>\n",
       "      <td>4</td>\n",
       "      <td>1.79</td>\n",
       "      <td>72</td>\n",
       "      <td>23</td>\n",
       "      <td>M</td>\n",
       "      <td>solteiro</td>\n",
       "      <td>G-cursando</td>\n",
       "      <td>Estudante</td>\n",
       "      <td>1000.0</td>\n",
       "      <td>Americana</td>\n",
       "      <td>SP</td>\n",
       "      <td>NaN</td>\n",
       "      <td>NaN</td>\n",
       "    </tr>\n",
       "    <tr>\n",
       "      <th>39</th>\n",
       "      <td>5</td>\n",
       "      <td>1.71</td>\n",
       "      <td>56</td>\n",
       "      <td>30</td>\n",
       "      <td>F</td>\n",
       "      <td>casada</td>\n",
       "      <td>G-completo</td>\n",
       "      <td>Empresária</td>\n",
       "      <td>1500.0</td>\n",
       "      <td>Americana</td>\n",
       "      <td>SP</td>\n",
       "      <td>NaN</td>\n",
       "      <td>NaN</td>\n",
       "    </tr>\n",
       "    <tr>\n",
       "      <th>40</th>\n",
       "      <td>6</td>\n",
       "      <td>1.84</td>\n",
       "      <td>82</td>\n",
       "      <td>19</td>\n",
       "      <td>M</td>\n",
       "      <td>solteiro</td>\n",
       "      <td>G-cursando</td>\n",
       "      <td>Projetista BIM</td>\n",
       "      <td>1500.0</td>\n",
       "      <td>Limeira</td>\n",
       "      <td>SP</td>\n",
       "      <td>NaN</td>\n",
       "      <td>NaN</td>\n",
       "    </tr>\n",
       "    <tr>\n",
       "      <th>41</th>\n",
       "      <td>7</td>\n",
       "      <td>1.58</td>\n",
       "      <td>55</td>\n",
       "      <td>18</td>\n",
       "      <td>F</td>\n",
       "      <td>solteira</td>\n",
       "      <td>G-cursando</td>\n",
       "      <td>Estudante</td>\n",
       "      <td>1000.0</td>\n",
       "      <td>São Paulo</td>\n",
       "      <td>SP</td>\n",
       "      <td>NaN</td>\n",
       "      <td>NaN</td>\n",
       "    </tr>\n",
       "    <tr>\n",
       "      <th>42</th>\n",
       "      <td>8</td>\n",
       "      <td>1.85</td>\n",
       "      <td>67</td>\n",
       "      <td>18</td>\n",
       "      <td>M</td>\n",
       "      <td>solteiro</td>\n",
       "      <td>G-cursando</td>\n",
       "      <td>Estudante</td>\n",
       "      <td>1000.0</td>\n",
       "      <td>Limeira</td>\n",
       "      <td>SP</td>\n",
       "      <td>NaN</td>\n",
       "      <td>NaN</td>\n",
       "    </tr>\n",
       "    <tr>\n",
       "      <th>43</th>\n",
       "      <td>9</td>\n",
       "      <td>1.80</td>\n",
       "      <td>67</td>\n",
       "      <td>19</td>\n",
       "      <td>M</td>\n",
       "      <td>solteiro</td>\n",
       "      <td>G-completo</td>\n",
       "      <td>Estudante</td>\n",
       "      <td>5000.0</td>\n",
       "      <td>Americana</td>\n",
       "      <td>SP</td>\n",
       "      <td>NaN</td>\n",
       "      <td>NaN</td>\n",
       "    </tr>\n",
       "    <tr>\n",
       "      <th>44</th>\n",
       "      <td>10</td>\n",
       "      <td>1.84</td>\n",
       "      <td>63</td>\n",
       "      <td>18</td>\n",
       "      <td>F</td>\n",
       "      <td>solteiro</td>\n",
       "      <td>G-cursando</td>\n",
       "      <td>Estudante</td>\n",
       "      <td>1000.0</td>\n",
       "      <td>Santa Bárbara d´oeste</td>\n",
       "      <td>SP</td>\n",
       "      <td>NaN</td>\n",
       "      <td>NaN</td>\n",
       "    </tr>\n",
       "    <tr>\n",
       "      <th>45</th>\n",
       "      <td>11</td>\n",
       "      <td>1.71</td>\n",
       "      <td>78</td>\n",
       "      <td>18</td>\n",
       "      <td>M</td>\n",
       "      <td>solteira</td>\n",
       "      <td>G-cursando</td>\n",
       "      <td>Estudante</td>\n",
       "      <td>1000.0</td>\n",
       "      <td>Americana</td>\n",
       "      <td>SP</td>\n",
       "      <td>NaN</td>\n",
       "      <td>NaN</td>\n",
       "    </tr>\n",
       "    <tr>\n",
       "      <th>46</th>\n",
       "      <td>12</td>\n",
       "      <td>1.77</td>\n",
       "      <td>60</td>\n",
       "      <td>22</td>\n",
       "      <td>F</td>\n",
       "      <td>solteiro</td>\n",
       "      <td>G-cursando</td>\n",
       "      <td>Estoquista</td>\n",
       "      <td>2000.0</td>\n",
       "      <td>Paranavaí</td>\n",
       "      <td>PR</td>\n",
       "      <td>NaN</td>\n",
       "      <td>NaN</td>\n",
       "    </tr>\n",
       "    <tr>\n",
       "      <th>47</th>\n",
       "      <td>13</td>\n",
       "      <td>1.75</td>\n",
       "      <td>55</td>\n",
       "      <td>20</td>\n",
       "      <td>M</td>\n",
       "      <td>solteira</td>\n",
       "      <td>G-cursando</td>\n",
       "      <td>Estudante</td>\n",
       "      <td>1000.0</td>\n",
       "      <td>Americana</td>\n",
       "      <td>SP</td>\n",
       "      <td>NaN</td>\n",
       "      <td>NaN</td>\n",
       "    </tr>\n",
       "    <tr>\n",
       "      <th>48</th>\n",
       "      <td>14</td>\n",
       "      <td>1.82</td>\n",
       "      <td>70</td>\n",
       "      <td>21</td>\n",
       "      <td>M</td>\n",
       "      <td>solteiro</td>\n",
       "      <td>G-cursando</td>\n",
       "      <td>Estudante</td>\n",
       "      <td>1000.0</td>\n",
       "      <td>Americana</td>\n",
       "      <td>SP</td>\n",
       "      <td>NaN</td>\n",
       "      <td>NaN</td>\n",
       "    </tr>\n",
       "    <tr>\n",
       "      <th>49</th>\n",
       "      <td>15</td>\n",
       "      <td>1.69</td>\n",
       "      <td>48</td>\n",
       "      <td>18</td>\n",
       "      <td>M</td>\n",
       "      <td>solteiro</td>\n",
       "      <td>G-cursando</td>\n",
       "      <td>Estudante/professor</td>\n",
       "      <td>1000.0</td>\n",
       "      <td>Reino Unido</td>\n",
       "      <td>WEST SUSSEX</td>\n",
       "      <td>NaN</td>\n",
       "      <td>NaN</td>\n",
       "    </tr>\n",
       "  </tbody>\n",
       "</table>\n",
       "</div>"
      ],
      "text/plain": [
       "    Unnamed: 0  Altura  Peso  Idade Sexo Estado Civil         Escolaridade  \\\n",
       "0            0    1.81    80     59    M       casado                   PG   \n",
       "1            0    1.74    65     18    M          NaN             Superior   \n",
       "2            1    1.73    55     18    M          NaN               MÃ©dio   \n",
       "3            2    1.71    75     37    F          NaN               MÃ©dio   \n",
       "4            3    1.73    72     31    M          NaN             Superior   \n",
       "5            4    1.78    65     20    M          NaN             Superior   \n",
       "6            5    1.79    72     23    M          NaN             Superior   \n",
       "7            6    1.71    56     30    F          NaN             Superior   \n",
       "8            7    1.84    82     19    M          NaN             Superior   \n",
       "9            8    1.58    55     18    F          NaN             Superior   \n",
       "10           9    1.85    67     18    M          NaN             Superior   \n",
       "11          10    1.80    67     19    F          NaN             Superior   \n",
       "12          11    1.84    63     18    F          NaN             Superior   \n",
       "13          12    1.71    78     18    F          NaN             Superior   \n",
       "14          13    1.77    60     22    M          NaN             Superior   \n",
       "15          14    1.75    55     20    F          NaN             Superior   \n",
       "16          15    1.82    70     21    M          NaN             Superior   \n",
       "17          16    1.69    48     18    M          NaN             Superior   \n",
       "18           0    1.79    72     23    M     Solteiro  Superior (Cursando)   \n",
       "19           1    1.81    80     59    M       Casado        Pós-Graduação   \n",
       "20           2    1.66    53     19    F     Solteiro  Superior (Cursando)   \n",
       "21           3    1.73    72     31    M       Casado             Superior   \n",
       "22           4    1.78    65     20    M     Solteiro  Superior (Cursando)   \n",
       "23           5    1.71    56     30    F       Casado             Superior   \n",
       "24           6    1.84    82     19    M     Solteiro  Superior (Cursando)   \n",
       "25           7    1.58    67     18    F     Solteiro  Superior (Cursando)   \n",
       "26           8    1.85    67     18    M     Solteiro  Superior (Cursando)   \n",
       "27           9    1.80    67     19    M     Solteiro  Superior (Cursando)   \n",
       "28          10    1.84    63     18    M     Solteiro  Superior (Cursando)   \n",
       "29          11    1.71    78     18    F     Solteiro  Superior (Cursando)   \n",
       "30          12    1.77    60     22    M     Solteiro  Superior (Cursando)   \n",
       "31          13    1.75    55     20    F     Solteiro  Superior (Cursando)   \n",
       "32          14    1.82    55     21    M     Solteiro  Superior (Cursando)   \n",
       "33          15    1.69    48     18    M     Solteiro  Superior (Cursando)   \n",
       "34           0    1.81    80     59    M       casado                   PG   \n",
       "35           1    1.66    53     19    F     solteira           G-cursando   \n",
       "36           2    1.73    72     31    M       casado           G-completo   \n",
       "37           3    1.78    65     20    M     solteiro           G-cursando   \n",
       "38           4    1.79    72     23    M     solteiro           G-cursando   \n",
       "39           5    1.71    56     30    F       casada           G-completo   \n",
       "40           6    1.84    82     19    M     solteiro           G-cursando   \n",
       "41           7    1.58    55     18    F     solteira           G-cursando   \n",
       "42           8    1.85    67     18    M     solteiro           G-cursando   \n",
       "43           9    1.80    67     19    M     solteiro           G-completo   \n",
       "44          10    1.84    63     18    F     solteiro           G-cursando   \n",
       "45          11    1.71    78     18    M     solteira           G-cursando   \n",
       "46          12    1.77    60     22    F     solteiro           G-cursando   \n",
       "47          13    1.75    55     20    M     solteira           G-cursando   \n",
       "48          14    1.82    70     21    M     solteiro           G-cursando   \n",
       "49          15    1.69    48     18    M     solteiro           G-cursando   \n",
       "\n",
       "              Profissão   Renda           Naturalidade       Estado  \\\n",
       "0            Engenheiro  5000.0             Piracicaba           SP   \n",
       "1                   NaN   250.0               PeruÃ­be           SP   \n",
       "2                   NaN  1100.0                 Santos           SP   \n",
       "3                   NaN  3385.0               PeruÃ­be           SP   \n",
       "4                   NaN  4500.0     Porto_dos_GaÃºchos           MT   \n",
       "5                   NaN  1250.0                  Bauru           SP   \n",
       "6                   NaN   720.0              Americana           SP   \n",
       "7                   NaN  5200.0              Americana           SP   \n",
       "8                   NaN  2800.0                Limeira           SP   \n",
       "9                   NaN  1220.0             SÃ£o_Paulo           SP   \n",
       "10                  NaN   250.0                Limeira           SP   \n",
       "11                  NaN   600.0              Americana           SP   \n",
       "12                  NaN  3000.0  Santa_BarbarÃ¡_dOeste           SP   \n",
       "13                  NaN  1000.0              Americana           SP   \n",
       "14                  NaN  4500.0             ParanavaÃ­           PR   \n",
       "15                  NaN  1500.0              Americana           SP   \n",
       "16                  NaN  2365.0              Americana           SP   \n",
       "17                  NaN  7000.0            Reino_Unido  West_sussex   \n",
       "18            Estudante  1820.0              Americana           SP   \n",
       "19           Engenheiro  5000.0             Piracicaba           SP   \n",
       "20           Estagiária  1550.0              Americana           SP   \n",
       "21             Mecânico  3050.0      Porto dos Gaúchos           MT   \n",
       "22            Estudante  1820.0                  Bauru           SP   \n",
       "23           Empresária  3070.0              Americana           SP   \n",
       "24           Projetista  2090.0                Limeira           SP   \n",
       "25            Estudante  1620.0              São Paulo           SP   \n",
       "26            Estudante  1530.0                Limeira           SP   \n",
       "27            Estudante  1580.0              Americana           SP   \n",
       "28            Estudante  1550.0  Santa Bárbara D Oeste           SP   \n",
       "29            Estudante  1570.0              Americana           SP   \n",
       "30           Estoquista  1890.0              Paranavaí           PR   \n",
       "31            Estudante  1700.0              Americana           SP   \n",
       "32            Estudante  1610.0              Americana           SP   \n",
       "33            Estudante  1690.0             Inglaterra           UK   \n",
       "34           Engenheiro  5000.0             Piracicaba           SP   \n",
       "35           Estagiária  2000.0              Americana           SP   \n",
       "36             Mecânico  2000.0      Porto dos Gaúchos           MT   \n",
       "37            Estudante  1000.0                  Bauru           SP   \n",
       "38            Estudante  1000.0              Americana           SP   \n",
       "39           Empresária  1500.0              Americana           SP   \n",
       "40       Projetista BIM  1500.0                Limeira           SP   \n",
       "41            Estudante  1000.0              São Paulo           SP   \n",
       "42            Estudante  1000.0                Limeira           SP   \n",
       "43            Estudante  5000.0              Americana           SP   \n",
       "44            Estudante  1000.0  Santa Bárbara d´oeste           SP   \n",
       "45            Estudante  1000.0              Americana           SP   \n",
       "46           Estoquista  2000.0              Paranavaí           PR   \n",
       "47            Estudante  1000.0              Americana           SP   \n",
       "48            Estudante  1000.0              Americana           SP   \n",
       "49  Estudante/professor  1000.0            Reino Unido  WEST SUSSEX   \n",
       "\n",
       "   Estado_civil           ProfissÃ£o  \n",
       "0           NaN                  NaN  \n",
       "1      Solteiro            Estudante  \n",
       "2      Solteiro            Estudante  \n",
       "3      Solteira                 Uber  \n",
       "4        Casado            MecÃ¢nica  \n",
       "5      Solteiro            Estudante  \n",
       "6      Solteiro            Estudante  \n",
       "7        Casada          EmpresÃ¡ria  \n",
       "8      Solteiro       Projetista BIM  \n",
       "9      Solteira            Estudante  \n",
       "10     Solteiro            Estudante  \n",
       "11     Solteira            Estudante  \n",
       "12     Solteira            Estudante  \n",
       "13     Solteira            Estudante  \n",
       "14     Solteiro           Estoquista  \n",
       "15     Solteira            Estudante  \n",
       "16     Solteiro            Estudante  \n",
       "17     Solteiro  Estudante/Professor  \n",
       "18          NaN                  NaN  \n",
       "19          NaN                  NaN  \n",
       "20          NaN                  NaN  \n",
       "21          NaN                  NaN  \n",
       "22          NaN                  NaN  \n",
       "23          NaN                  NaN  \n",
       "24          NaN                  NaN  \n",
       "25          NaN                  NaN  \n",
       "26          NaN                  NaN  \n",
       "27          NaN                  NaN  \n",
       "28          NaN                  NaN  \n",
       "29          NaN                  NaN  \n",
       "30          NaN                  NaN  \n",
       "31          NaN                  NaN  \n",
       "32          NaN                  NaN  \n",
       "33          NaN                  NaN  \n",
       "34          NaN                  NaN  \n",
       "35          NaN                  NaN  \n",
       "36          NaN                  NaN  \n",
       "37          NaN                  NaN  \n",
       "38          NaN                  NaN  \n",
       "39          NaN                  NaN  \n",
       "40          NaN                  NaN  \n",
       "41          NaN                  NaN  \n",
       "42          NaN                  NaN  \n",
       "43          NaN                  NaN  \n",
       "44          NaN                  NaN  \n",
       "45          NaN                  NaN  \n",
       "46          NaN                  NaN  \n",
       "47          NaN                  NaN  \n",
       "48          NaN                  NaN  \n",
       "49          NaN                  NaN  "
      ]
     },
     "execution_count": 15,
     "metadata": {},
     "output_type": "execute_result"
    }
   ],
   "source": [
    "frame"
   ]
  },
  {
   "cell_type": "code",
   "execution_count": null,
   "id": "c90c5ecd",
   "metadata": {},
   "outputs": [],
   "source": []
  },
  {
   "attachments": {},
   "cell_type": "markdown",
   "id": "575cc0a3",
   "metadata": {},
   "source": [
    "## ASSUNTOS RELACIONADOS À SEGURANÇA DE INFORMAÇÃO"
   ]
  },
  {
   "attachments": {},
   "cell_type": "markdown",
   "id": "92f1a7b7",
   "metadata": {},
   "source": [
    "Técnicas de encriptação/decriptação"
   ]
  },
  {
   "cell_type": "code",
   "execution_count": 19,
   "id": "17961394",
   "metadata": {},
   "outputs": [
    {
     "name": "stdout",
     "output_type": "stream",
     "text": [
      "V 9 F M + = "
     ]
    }
   ],
   "source": [
    "# gerando senha de caracteres aleatória\n",
    "\n",
    "import random\n",
    "\n",
    "for i in range(0, 6):\n",
    "    num = random.randint(33, 90)\n",
    "    # print(num)\n",
    "    print(\"%c\" % num, end=\" \")"
   ]
  },
  {
   "cell_type": "code",
   "execution_count": 21,
   "id": "50d42c6f",
   "metadata": {},
   "outputs": [
    {
     "data": {
      "text/plain": [
       "('A', 'B', '!', ' ', '#', '4')"
      ]
     },
     "execution_count": 21,
     "metadata": {},
     "output_type": "execute_result"
    }
   ],
   "source": [
    "# Função chr(): valor ASCII para caractere\n",
    "chr(65), chr(66), chr(33), chr(32), chr(35), chr(52)"
   ]
  },
  {
   "cell_type": "code",
   "execution_count": 23,
   "id": "deee4b5e",
   "metadata": {},
   "outputs": [
    {
     "data": {
      "text/plain": [
       "(65, 66, 33, 32, 35, 52)"
      ]
     },
     "execution_count": 23,
     "metadata": {},
     "output_type": "execute_result"
    }
   ],
   "source": [
    "# Função ord(): caractere para valor decimal ASCII\n",
    "ord('A'), ord('B'), ord('!'), ord(' '), ord('#'), ord('4')"
   ]
  },
  {
   "cell_type": "code",
   "execution_count": 30,
   "id": "442e1b78",
   "metadata": {},
   "outputs": [
    {
     "name": "stdout",
     "output_type": "stream",
     "text": [
      "A B C D E F G H I J "
     ]
    }
   ],
   "source": [
    "for i in range(65, 75):\n",
    "    print(chr(i), end=\" \")"
   ]
  },
  {
   "cell_type": "code",
   "execution_count": 32,
   "id": "ecb2d1b0",
   "metadata": {},
   "outputs": [
    {
     "name": "stdout",
     "output_type": "stream",
     "text": [
      "70 65 84 69 67 32 100 101 32 65 109 101 114 105 99 97 110 97 "
     ]
    }
   ],
   "source": [
    "# Gerando uma cifra\n",
    "\n",
    "for ch in \"FATEC de Americana\":\n",
    "    print(ord(ch), end=\" \")"
   ]
  },
  {
   "cell_type": "code",
   "execution_count": 34,
   "id": "39641c39",
   "metadata": {},
   "outputs": [
    {
     "name": "stdout",
     "output_type": "stream",
     "text": [
      "F A T E C   d e   A m e r i c a n a "
     ]
    }
   ],
   "source": [
    "# Decifrando ...\n",
    "\n",
    "lista = [70, 65, 84, 69, 67, 32, 100, 101, 32, 65, 109, 101, 114, 105, 99, 97, 110, 97]\n",
    "\n",
    "for ch in lista:\n",
    "    print(chr(ch), end=\" \")"
   ]
  },
  {
   "cell_type": "code",
   "execution_count": 37,
   "id": "24c64f4f",
   "metadata": {},
   "outputs": [
    {
     "data": {
      "text/plain": [
       "65"
      ]
     },
     "execution_count": 37,
     "metadata": {},
     "output_type": "execute_result"
    }
   ],
   "source": [
    "frase =\"FATEC\"\n",
    "ord(frase[0])\n",
    "ord(frase[1])"
   ]
  },
  {
   "cell_type": "code",
   "execution_count": 39,
   "id": "15d23b42",
   "metadata": {},
   "outputs": [
    {
     "data": {
      "text/plain": [
       "102"
      ]
     },
     "execution_count": 39,
     "metadata": {},
     "output_type": "execute_result"
    }
   ],
   "source": [
    "# Deslocamento de valor\n",
    "\n",
    "frase =\"FATEC\"\n",
    "ord(frase[0]) + 32"
   ]
  },
  {
   "cell_type": "code",
   "execution_count": 41,
   "id": "d253e509",
   "metadata": {},
   "outputs": [
    {
     "data": {
      "text/plain": [
       "'f'"
      ]
     },
     "execution_count": 41,
     "metadata": {},
     "output_type": "execute_result"
    }
   ],
   "source": [
    "chr(102)"
   ]
  },
  {
   "attachments": {},
   "cell_type": "markdown",
   "id": "d530e8af",
   "metadata": {},
   "source": [
    "SISTEMAS CRIPTOGRÁFICOS"
   ]
  },
  {
   "attachments": {},
   "cell_type": "markdown",
   "id": "6dbedbe0",
   "metadata": {},
   "source": [
    "1) Cifra reversa"
   ]
  },
  {
   "cell_type": "code",
   "execution_count": 2,
   "id": "505aa0f2",
   "metadata": {},
   "outputs": [
    {
     "name": "stdout",
     "output_type": "stream",
     "text": [
      "Mensagem original invertida: CETAF an olob rezart oãv nosrefeJ e etezinoD\n"
     ]
    }
   ],
   "source": [
    "# Cifra reversa\n",
    "\n",
    "mensagem = \"Donizete e Jeferson vão trazer bolo na FATEC\"\n",
    "invertido = \"\"\n",
    "\n",
    "i = len(mensagem) - 1 # número de caracteres da mensagem, menos um\n",
    "while(i >= 0):\n",
    "    invertido = invertido + mensagem[i]\n",
    "    i = i - 1\n",
    "print(\"Mensagem original invertida: \" + invertido)"
   ]
  },
  {
   "cell_type": "code",
   "execution_count": 3,
   "id": "83e99109",
   "metadata": {},
   "outputs": [
    {
     "name": "stdout",
     "output_type": "stream",
     "text": [
      "Mensagem revertida: Donizete e Jeferson vão trazer bolo na FATEC\n"
     ]
    }
   ],
   "source": [
    "# objetivo: reverter a mensagem cifrada\n",
    "\n",
    "invertido2 = \"CETAF an olob rezart oãv nosrefeJ e etezinoD\"\n",
    "revertido = \"\"\n",
    "\n",
    "i = len(invertido) - 1 # número de caracteres da mensagem, menos um\n",
    "while(i >= 0):\n",
    "    revertido = revertido + invertido2[i]\n",
    "    i = i - 1\n",
    "print(\"Mensagem revertida: \" + revertido)"
   ]
  },
  {
   "cell_type": "code",
   "execution_count": 4,
   "id": "e3957248",
   "metadata": {},
   "outputs": [
    {
     "name": "stdout",
     "output_type": "stream",
     "text": [
      "Mensagem original invertida: radar\n",
      "Palíndromos!\n"
     ]
    }
   ],
   "source": [
    "# Teste de palíndromos\n",
    "\n",
    "mensagem = \"radar\"\n",
    "invertido = \"\"\n",
    "\n",
    "i = len(mensagem) - 1 # número de caracteres da mensagem, menos um\n",
    "while(i >= 0):\n",
    "    invertido = invertido + mensagem[i]\n",
    "    i = i - 1\n",
    "print(\"Mensagem original invertida: \" + invertido)\n",
    "\n",
    "if(mensagem == invertido):\n",
    "    print(\"Palíndromos!\")\n",
    "else:\n",
    "    print(\"Não são palíndromos!\")"
   ]
  },
  {
   "attachments": {},
   "cell_type": "markdown",
   "id": "583d9ca1",
   "metadata": {},
   "source": [
    "2) Cifra de César"
   ]
  },
  {
   "cell_type": "code",
   "execution_count": 8,
   "id": "d24554b0",
   "metadata": {},
   "outputs": [
    {
     "name": "stdout",
     "output_type": "stream",
     "text": [
      "ERD QRLWH, DOXQRV GD IDWHF GH DPHULFDQD.\n"
     ]
    }
   ],
   "source": [
    "# Caesar Cipher\n",
    "\n",
    "message = \"Boa noite, alunos da FATEC de Americana.\" # mensagem que quero encriptrar\n",
    "# message = \"\" # mensagem encriptada que quero retornar ao original\n",
    "\n",
    "key = 3 # número de avanços no alfabeto escolhido\n",
    "\n",
    "LETTERS = 'ABCDEFGHIJKLMNOPQRSTUVWXYZ' # alfabeto tradicional de base para a cifra\n",
    "translated = ''\n",
    "message = message.upper() # garantir padronização com o alfabeto que está em letras maiúsculas\n",
    "\n",
    "for symbol in message: # início do processo de encriptação\n",
    "    if symbol in LETTERS:\n",
    "        num = LETTERS.find(symbol) # obtém o número do caractere\n",
    "        num = num + key  # para encriptar, num - num + key; para decriptar, num = num - key\n",
    "        if num >= len(LETTERS): # teste de fim do alfabeto\n",
    "            num = num - len(LETTERS)\n",
    "        elif num < 0: # teste de início do alfabeto\n",
    "            num = num + len(LETTERS)\n",
    "        translated = translated + LETTERS[num] # aqui é inserida a letra na mensagem cifrada\n",
    "    else: # se caractere não pertence ao alfabeto, adiciona o caractere sem encriptar\n",
    "        translated = translated + symbol\n",
    "\n",
    "print(translated)"
   ]
  },
  {
   "cell_type": "code",
   "execution_count": 14,
   "id": "61c29534",
   "metadata": {},
   "outputs": [
    {
     "name": "stdout",
     "output_type": "stream",
     "text": [
      "Digite um número inteiro: 15\n",
      "O número não é primo!\n"
     ]
    }
   ],
   "source": [
    "# Um programa para testar se dado número inteiro é primo ou não:\n",
    "\n",
    "numero = int(input(\"Digite um número inteiro: \"))\n",
    "divisores = 0 # contará toda vez que o número for divisível por outro\n",
    "\n",
    "for divisor in range(1, numero):\n",
    "    if(numero % divisor == 0):\n",
    "        divisores = divisores + 1\n",
    "\n",
    "if divisores > 1:\n",
    "    print(\"O número não é primo!\")\n",
    "else:\n",
    "    print(\"O número é primo!\")"
   ]
  }
 ],
 "metadata": {
  "kernelspec": {
   "display_name": "Python 3 (ipykernel)",
   "language": "python",
   "name": "python3"
  },
  "language_info": {
   "codemirror_mode": {
    "name": "ipython",
    "version": 3
   },
   "file_extension": ".py",
   "mimetype": "text/x-python",
   "name": "python",
   "nbconvert_exporter": "python",
   "pygments_lexer": "ipython3",
   "version": "3.9.12"
  }
 },
 "nbformat": 4,
 "nbformat_minor": 5
}
